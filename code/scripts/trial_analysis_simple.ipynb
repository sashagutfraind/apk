{
 "cells": [
  {
   "cell_type": "markdown",
   "metadata": {},
   "source": [
    "## Analyze trial results"
   ]
  },
  {
   "cell_type": "code",
   "execution_count": 74,
   "metadata": {
    "collapsed": true
   },
   "outputs": [],
   "source": [
    "import pandas as pd\n",
    "import os, sys\n",
    "import os.path\n",
    "import numpy as np\n",
    "import scipy\n",
    "import scipy.stats"
   ]
  },
  {
   "cell_type": "code",
   "execution_count": 51,
   "metadata": {
    "collapsed": true
   },
   "outputs": [],
   "source": [
    "trial_end_date = 1000\n",
    "run_output_dir = '2018-04-30--03.43.47-2036727724__DA3__n=600'\n",
    "file_signature = 'populations.csv'"
   ]
  },
  {
   "cell_type": "code",
   "execution_count": 15,
   "metadata": {
    "collapsed": true
   },
   "outputs": [],
   "source": [
    "pops_file = [s for s in os.listdir(run_output_dir) if s.find(file_signature)>-1][0]"
   ]
  },
  {
   "cell_type": "code",
   "execution_count": 85,
   "metadata": {
    "collapsed": false
   },
   "outputs": [],
   "source": [
    "header_output = pd.read_csv(os.path.join(run_output_dir, pops_file), nrows=1, header=1)"
   ]
  },
  {
   "cell_type": "markdown",
   "metadata": {},
   "source": [
    "### Study details"
   ]
  },
  {
   "cell_type": "code",
   "execution_count": 89,
   "metadata": {
    "collapsed": false
   },
   "outputs": [
    {
     "data": {
      "text/html": [
       "<div>\n",
       "<table border=\"1\" class=\"dataframe\">\n",
       "  <thead>\n",
       "    <tr style=\"text-align: right;\">\n",
       "      <th></th>\n",
       "      <th>vaccine_schedule</th>\n",
       "      <th>initial_pwid_count</th>\n",
       "      <th>vaccine_study_arm_n</th>\n",
       "    </tr>\n",
       "  </thead>\n",
       "  <tbody>\n",
       "    <tr>\n",
       "      <th>0</th>\n",
       "      <td>D3a</td>\n",
       "      <td>32000</td>\n",
       "      <td>600</td>\n",
       "    </tr>\n",
       "  </tbody>\n",
       "</table>\n",
       "</div>"
      ],
      "text/plain": [
       "  vaccine_schedule  initial_pwid_count  vaccine_study_arm_n\n",
       "0              D3a               32000                  600"
      ]
     },
     "execution_count": 89,
     "metadata": {},
     "output_type": "execute_result"
    }
   ],
   "source": [
    "header_output[['vaccine_schedule', 'initial_pwid_count', 'vaccine_study_arm_n']]"
   ]
  },
  {
   "cell_type": "code",
   "execution_count": 91,
   "metadata": {
    "collapsed": false
   },
   "outputs": [
    {
     "data": {
      "text/plain": [
       "1000"
      ]
     },
     "execution_count": 91,
     "metadata": {},
     "output_type": "execute_result"
    }
   ],
   "source": [
    "trial_end_date"
   ]
  },
  {
   "cell_type": "markdown",
   "metadata": {},
   "source": [
    "### Populations"
   ]
  },
  {
   "cell_type": "code",
   "execution_count": 90,
   "metadata": {
    "collapsed": false
   },
   "outputs": [],
   "source": [
    "pops_output = pd.read_csv(os.path.join(run_output_dir, pops_file), header=3)"
   ]
  },
  {
   "cell_type": "code",
   "execution_count": 45,
   "metadata": {
    "collapsed": false
   },
   "outputs": [
    {
     "data": {
      "text/plain": [
       "Index(['BurnInMode', 'Tick', 'Year', 'activations_daily', 'aggregate_courses',\n",
       "       'aggregate_posttreat', 'cured_daily', 'incidence_daily', 'losses_daily',\n",
       "       'treatment_recruited_daily',\n",
       "       ...\n",
       "       'fraction_VaccineArm=noarm', 'hcvabpos_VaccineArm=noarm',\n",
       "       'infected_VaccineArm=noarm', 'chronic_VaccineArm=noarm',\n",
       "       'population_VaccineArm=noarm', 'ABpreval_VaccineArm=noarm',\n",
       "       'RNApreval_VaccineArm=noarm', 'intreatment_VaccineArm=noarm',\n",
       "       'vaccinetrial_VaccineArm=noarm', 'Unnamed: 298'],\n",
       "      dtype='object', length=299)"
      ]
     },
     "execution_count": 45,
     "metadata": {},
     "output_type": "execute_result"
    }
   ],
   "source": [
    "pops_output.columns"
   ]
  },
  {
   "cell_type": "code",
   "execution_count": 68,
   "metadata": {
    "collapsed": false
   },
   "outputs": [
    {
     "data": {
      "text/plain": [
       "Tick                               1001.001\n",
       "vaccinetrial_VaccineArm=study        75.000\n",
       "vaccinetrial_VaccineArm=placebo      89.000\n",
       "Name: 1000, dtype: float64"
      ]
     },
     "execution_count": 68,
     "metadata": {},
     "output_type": "execute_result"
    }
   ],
   "source": [
    "trial_pops=np.array(pops_output.loc[trial_end_date, ['vaccinetrial_VaccineArm=study', 'vaccinetrial_VaccineArm=placebo']])\n",
    "pops_output.loc[trial_end_date, ['Tick', 'vaccinetrial_VaccineArm=study', 'vaccinetrial_VaccineArm=placebo']]"
   ]
  },
  {
   "cell_type": "markdown",
   "metadata": {},
   "source": [
    "### Infection status"
   ]
  },
  {
   "cell_type": "code",
   "execution_count": 69,
   "metadata": {
    "collapsed": false
   },
   "outputs": [
    {
     "data": {
      "text/plain": [
       "Tick                          1001.001\n",
       "chronic_VaccineArm=study        16.000\n",
       "chronic_VaccineArm=placebo      49.000\n",
       "Name: 1000, dtype: float64"
      ]
     },
     "execution_count": 69,
     "metadata": {},
     "output_type": "execute_result"
    }
   ],
   "source": [
    "chronic_pops=np.array(pops_output.loc[trial_end_date, ['chronic_VaccineArm=study', 'chronic_VaccineArm=placebo']])\n",
    "pops_output.loc[trial_end_date, ['Tick', 'chronic_VaccineArm=study', 'chronic_VaccineArm=placebo']]"
   ]
  },
  {
   "cell_type": "markdown",
   "metadata": {},
   "source": [
    "### results"
   ]
  },
  {
   "cell_type": "code",
   "execution_count": 92,
   "metadata": {
    "collapsed": false
   },
   "outputs": [
    {
     "data": {
      "text/plain": [
       "(0.0, 1.0, 0, array([ 1.,  2.,  3.,  4.]))"
      ]
     },
     "execution_count": 92,
     "metadata": {},
     "output_type": "execute_result"
    }
   ],
   "source": [
    "scipy.stats.chi2_contingency([1,2,3,4])"
   ]
  },
  {
   "cell_type": "code",
   "execution_count": 97,
   "metadata": {
    "collapsed": false
   },
   "outputs": [],
   "source": [
    "notchronic_pops = trial_pops - chronic_pops"
   ]
  },
  {
   "cell_type": "code",
   "execution_count": 120,
   "metadata": {
    "collapsed": false
   },
   "outputs": [],
   "source": [
    "trial_contingency_table = np.reshape(np.concatenate((trial_pops, chronic_pops), axis=0), newshape=(2,2))"
   ]
  },
  {
   "cell_type": "code",
   "execution_count": 121,
   "metadata": {
    "collapsed": false
   },
   "outputs": [
    {
     "data": {
      "text/plain": [
       "(7.8084276966134176,\n",
       " 0.0052003130855061228,\n",
       " array([[ 65.17030568,  98.82969432],\n",
       "        [ 25.82969432,  39.17030568]]))"
      ]
     },
     "execution_count": 121,
     "metadata": {},
     "output_type": "execute_result"
    }
   ],
   "source": [
    "chi2, p, dof, expected = scipy.stats.chi2_contingency(trial_contingency_table)\n",
    "chi2, p, expected"
   ]
  },
  {
   "cell_type": "markdown",
   "metadata": {},
   "source": [
    "## Vaccine efficacy:\n",
    "$$ VE_𝑎 = 1 − 𝑎_V/𝑎_𝑝 $$"
   ]
  },
  {
   "cell_type": "markdown",
   "metadata": {},
   "source": [
    "In our case, we are interested in the prevention of chronic infection.  Therefore, we calculate:\n",
    "$$VE_a = 1 - $$(HCV chronic vaccinees / total vaccinees)/(HCV chronic placebo / total placebo)"
   ]
  },
  {
   "cell_type": "code",
   "execution_count": 137,
   "metadata": {
    "collapsed": false
   },
   "outputs": [
    {
     "data": {
      "text/plain": [
       "0.085814360770577927"
      ]
     },
     "execution_count": 137,
     "metadata": {},
     "output_type": "execute_result"
    }
   ],
   "source": [
    "a_p = (pops_output.loc[trial_end_date, 'chronic_VaccineArm=placebo'] / pops_output.loc[trial_end_date, 'population_VaccineArm=placebo'])\n",
    "a_p"
   ]
  },
  {
   "cell_type": "code",
   "execution_count": 138,
   "metadata": {
    "collapsed": false
   },
   "outputs": [
    {
     "data": {
      "text/plain": [
       "0.028419182948490232"
      ]
     },
     "execution_count": 138,
     "metadata": {},
     "output_type": "execute_result"
    }
   ],
   "source": [
    "a_v = (pops_output.loc[trial_end_date, 'chronic_VaccineArm=study'] / pops_output.loc[trial_end_date, 'population_VaccineArm=study'])\n",
    "a_v"
   ]
  },
  {
   "cell_type": "code",
   "execution_count": 139,
   "metadata": {
    "collapsed": false
   },
   "outputs": [
    {
     "data": {
      "text/plain": [
       "0.66882952115126693"
      ]
     },
     "execution_count": 139,
     "metadata": {},
     "output_type": "execute_result"
    }
   ],
   "source": [
    "1 - (a_v/a_p)"
   ]
  },
  {
   "cell_type": "markdown",
   "metadata": {},
   "source": [
    "Extended trial - 2x normal duration"
   ]
  },
  {
   "cell_type": "code",
   "execution_count": 140,
   "metadata": {
    "collapsed": false
   },
   "outputs": [
    {
     "data": {
      "text/plain": [
       "0.17375231053604437"
      ]
     },
     "execution_count": 140,
     "metadata": {},
     "output_type": "execute_result"
    }
   ],
   "source": [
    "a_p2 = (pops_output.loc[trial_end_date*2, 'chronic_VaccineArm=placebo'] / pops_output.loc[trial_end_date*2, 'population_VaccineArm=placebo'])\n",
    "a_p2"
   ]
  },
  {
   "cell_type": "code",
   "execution_count": 141,
   "metadata": {
    "collapsed": false
   },
   "outputs": [
    {
     "data": {
      "text/plain": [
       "0.067164179104477612"
      ]
     },
     "execution_count": 141,
     "metadata": {},
     "output_type": "execute_result"
    }
   ],
   "source": [
    "a_v2 = (pops_output.loc[trial_end_date*2, 'chronic_VaccineArm=study'] / pops_output.loc[trial_end_date*2, 'population_VaccineArm=study'])\n",
    "a_v2"
   ]
  },
  {
   "cell_type": "code",
   "execution_count": 143,
   "metadata": {
    "collapsed": false
   },
   "outputs": [
    {
     "data": {
      "text/plain": [
       "0.61344871387742139"
      ]
     },
     "execution_count": 143,
     "metadata": {},
     "output_type": "execute_result"
    }
   ],
   "source": [
    "1 - (a_v2/a_p2)"
   ]
  },
  {
   "cell_type": "markdown",
   "metadata": {},
   "source": [
    "# Conclusions"
   ]
  },
  {
   "cell_type": "markdown",
   "metadata": {},
   "source": [
    "* The trial achieved statistically significant reduction\n",
    "* The trial failed to achieve 80% reduction in chronicity, attaining only 60-67%"
   ]
  },
  {
   "cell_type": "code",
   "execution_count": null,
   "metadata": {
    "collapsed": true
   },
   "outputs": [],
   "source": []
  }
 ],
 "metadata": {
  "anaconda-cloud": {},
  "kernelspec": {
   "display_name": "Python [conda root]",
   "language": "python",
   "name": "conda-root-py"
  },
  "language_info": {
   "codemirror_mode": {
    "name": "ipython",
    "version": 3
   },
   "file_extension": ".py",
   "mimetype": "text/x-python",
   "name": "python",
   "nbconvert_exporter": "python",
   "pygments_lexer": "ipython3",
   "version": "3.5.2"
  }
 },
 "nbformat": 4,
 "nbformat_minor": 1
}
