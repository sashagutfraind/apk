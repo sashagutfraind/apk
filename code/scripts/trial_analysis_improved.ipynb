{
 "cells": [
  {
   "cell_type": "markdown",
   "metadata": {},
   "source": [
    "## Analyze trial results"
   ]
  },
  {
   "cell_type": "code",
   "execution_count": 50,
   "metadata": {
    "collapsed": false
   },
   "outputs": [],
   "source": [
    "import pandas as pd\n",
    "import os, sys\n",
    "import os.path\n",
    "import numpy as np\n",
    "import scipy\n",
    "import scipy.stats\n",
    "import matplotlib.pyplot as plt\n",
    "from IPython.display import HTML, display\n",
    "import tabulate, csv\n",
    "%matplotlib inline"
   ]
  },
  {
   "cell_type": "code",
   "execution_count": 3,
   "metadata": {
    "collapsed": true
   },
   "outputs": [],
   "source": [
    "file_signature = 'populations.csv'"
   ]
  },
  {
   "cell_type": "code",
   "execution_count": 4,
   "metadata": {
    "collapsed": false
   },
   "outputs": [
    {
     "data": {
      "text/plain": [
       "'C:\\\\Users\\\\agutf\\\\repos\\\\apk-development\\\\analysis\\\\2018-09-13--06.02.24-1883294419__D3a_debug'"
      ]
     },
     "execution_count": 4,
     "metadata": {},
     "output_type": "execute_result"
    }
   ],
   "source": [
    "run_output_dir = !cd\n",
    "run_output_dir = run_output_dir[0]\n",
    "run_output_dir"
   ]
  },
  {
   "cell_type": "code",
   "execution_count": 5,
   "metadata": {
    "collapsed": true
   },
   "outputs": [],
   "source": [
    "trial_end_date = int(365*3.5)-200 #the last normal recruit completes on day 958 "
   ]
  },
  {
   "cell_type": "code",
   "execution_count": 6,
   "metadata": {
    "collapsed": false
   },
   "outputs": [],
   "source": [
    "pops_file = [s for s in os.listdir(run_output_dir) if s.find(file_signature)>-1][0]"
   ]
  },
  {
   "cell_type": "markdown",
   "metadata": {},
   "source": [
    "### Study details"
   ]
  },
  {
   "cell_type": "code",
   "execution_count": 7,
   "metadata": {
    "collapsed": false
   },
   "outputs": [
    {
     "name": "stdout",
     "output_type": "stream",
     "text": [
      "  vaccine_schedule  initial_pwid_count  vaccine_study_arm_n  \\\n",
      "0              D3a               32000                  797   \n",
      "\n",
      "   vaccine_annual_loss  vaccine_dose2_day  vaccine_dose3_day  \\\n",
      "0                  0.2               60.0              180.0   \n",
      "\n",
      "   vaccine_enrollment_duration_days  vaccine_followup_purge_with_rna  \\\n",
      "0                               365                                0   \n",
      "\n",
      "   vaccine_enrollment_launch_day  \\\n",
      "0                           30.0   \n",
      "\n",
      "   vaccine_enrollment_probability_positiveinnetwork  \\\n",
      "0                                               1.0   \n",
      "\n",
      "   vaccine_enrollment_probability_unbiased  vaccine_followup1_periods  \\\n",
      "0                                      0.0                         18   \n",
      "\n",
      "   vaccine_followup2_periods  vaccine_followup_weeks  \n",
      "0                          9                     4.0  \n"
     ]
    }
   ],
   "source": [
    "header_output = pd.read_csv(os.path.join(run_output_dir, pops_file), nrows=1, header=1)\n",
    "print(header_output[['vaccine_schedule', 'initial_pwid_count', 'vaccine_study_arm_n', 'vaccine_annual_loss', 'vaccine_dose2_day', 'vaccine_dose3_day', 'vaccine_enrollment_duration_days', 'vaccine_followup_purge_with_rna', 'vaccine_enrollment_launch_day', 'vaccine_enrollment_probability_positiveinnetwork', 'vaccine_enrollment_probability_unbiased', 'vaccine_followup1_periods', 'vaccine_followup2_periods', 'vaccine_followup_weeks']\n",
    "])"
   ]
  },
  {
   "cell_type": "markdown",
   "metadata": {},
   "source": [
    "### Populations"
   ]
  },
  {
   "cell_type": "code",
   "execution_count": 8,
   "metadata": {
    "collapsed": false
   },
   "outputs": [],
   "source": [
    "pops_output = pd.read_csv(os.path.join(run_output_dir, pops_file), header=3)"
   ]
  },
  {
   "cell_type": "code",
   "execution_count": 9,
   "metadata": {
    "collapsed": false
   },
   "outputs": [
    {
     "data": {
      "text/plain": [
       "Index(['BurnInMode', 'Tick', 'Year', 'incidence_daily', 'aggregate_courses',\n",
       "       'quit_placebo_aggregate_vaccine', 'recr_study_aggregate_vaccine',\n",
       "       'cmpl_study_chronic_aggregate_vaccine',\n",
       "       'recr_placebo_aggregate_vaccine', 'started_study_aggregate_vaccine',\n",
       "       ...\n",
       "       'vaccinetrial_VaccineArm=noarm', 'populat_VaccineStage=notenrolled',\n",
       "       'populat_VaccineStage=received_dose1',\n",
       "       'populat_VaccineStage=received_dose2',\n",
       "       'populat_VaccineStage=received_dose3', 'populat_VaccineStage=followup',\n",
       "       'populat_VaccineStage=followup2', 'populat_VaccineStage=abandoned',\n",
       "       'populat_VaccineStage=completed', 'Unnamed: 320'],\n",
       "      dtype='object', length=321)"
      ]
     },
     "execution_count": 9,
     "metadata": {},
     "output_type": "execute_result"
    }
   ],
   "source": [
    "pops_output.columns"
   ]
  },
  {
   "cell_type": "markdown",
   "metadata": {},
   "source": [
    "### Infection status"
   ]
  },
  {
   "cell_type": "code",
   "execution_count": 10,
   "metadata": {
    "collapsed": false
   },
   "outputs": [],
   "source": [
    "infections = pops_output[['Tick', 'BurnInMode', 'ABpreval_ALL', 'RNApreval_ALL']]"
   ]
  },
  {
   "cell_type": "code",
   "execution_count": 11,
   "metadata": {
    "collapsed": false
   },
   "outputs": [
    {
     "name": "stderr",
     "output_type": "stream",
     "text": [
      "C:\\Program Files\\Anaconda3\\lib\\site-packages\\ipykernel\\__main__.py:2: SettingWithCopyWarning: \n",
      "A value is trying to be set on a copy of a slice from a DataFrame.\n",
      "Try using .loc[row_indexer,col_indexer] = value instead\n",
      "\n",
      "See the caveats in the documentation: http://pandas.pydata.org/pandas-docs/stable/indexing.html#indexing-view-versus-copy\n",
      "  from ipykernel import kernelapp as app\n"
     ]
    }
   ],
   "source": [
    "tmp = infections.Tick/365\n",
    "infections[\"year\"] = tmp"
   ]
  },
  {
   "cell_type": "code",
   "execution_count": 12,
   "metadata": {
    "collapsed": false
   },
   "outputs": [
    {
     "data": {
      "text/plain": [
       "<matplotlib.axes._subplots.AxesSubplot at 0x2763bf126a0>"
      ]
     },
     "execution_count": 12,
     "metadata": {},
     "output_type": "execute_result"
    },
    {
     "data": {
      "image/png": "[encoded data removed]",
      "text/plain": [
       "<matplotlib.figure.Figure at 0x2763bb27a20>"
      ]
     },
     "metadata": {},
     "output_type": "display_data"
    }
   ],
   "source": [
    "infections.plot(x=\"year\", y=['BurnInMode', 'ABpreval_ALL', 'RNApreval_ALL'])"
   ]
  },
  {
   "cell_type": "markdown",
   "metadata": {},
   "source": [
    "### Total population"
   ]
  },
  {
   "cell_type": "code",
   "execution_count": 13,
   "metadata": {
    "collapsed": true
   },
   "outputs": [],
   "source": [
    "simulated_population = pops_output[['Tick', 'population_ALL']]"
   ]
  },
  {
   "cell_type": "code",
   "execution_count": 14,
   "metadata": {
    "collapsed": false
   },
   "outputs": [
    {
     "name": "stderr",
     "output_type": "stream",
     "text": [
      "C:\\Program Files\\Anaconda3\\lib\\site-packages\\ipykernel\\__main__.py:2: SettingWithCopyWarning: \n",
      "A value is trying to be set on a copy of a slice from a DataFrame.\n",
      "Try using .loc[row_indexer,col_indexer] = value instead\n",
      "\n",
      "See the caveats in the documentation: http://pandas.pydata.org/pandas-docs/stable/indexing.html#indexing-view-versus-copy\n",
      "  from ipykernel import kernelapp as app\n"
     ]
    }
   ],
   "source": [
    "tmp2 = simulated_population.Tick/365\n",
    "simulated_population[\"year\"] = tmp2"
   ]
  },
  {
   "cell_type": "code",
   "execution_count": 15,
   "metadata": {
    "collapsed": false
   },
   "outputs": [
    {
     "data": {
      "text/html": [
       "<div>\n",
       "<table border=\"1\" class=\"dataframe\">\n",
       "  <thead>\n",
       "    <tr style=\"text-align: right;\">\n",
       "      <th></th>\n",
       "      <th>Tick</th>\n",
       "      <th>population_ALL</th>\n",
       "      <th>year</th>\n",
       "    </tr>\n",
       "  </thead>\n",
       "  <tbody>\n",
       "    <tr>\n",
       "      <th>0</th>\n",
       "      <td>9.001</td>\n",
       "      <td>32000.0</td>\n",
       "      <td>0.024660</td>\n",
       "    </tr>\n",
       "    <tr>\n",
       "      <th>1000</th>\n",
       "      <td>1009.001</td>\n",
       "      <td>32010.0</td>\n",
       "      <td>2.764386</td>\n",
       "    </tr>\n",
       "    <tr>\n",
       "      <th>2000</th>\n",
       "      <td>2009.001</td>\n",
       "      <td>32001.0</td>\n",
       "      <td>5.504112</td>\n",
       "    </tr>\n",
       "    <tr>\n",
       "      <th>3590</th>\n",
       "      <td>3599.001</td>\n",
       "      <td>32002.0</td>\n",
       "      <td>9.860277</td>\n",
       "    </tr>\n",
       "  </tbody>\n",
       "</table>\n",
       "</div>"
      ],
      "text/plain": [
       "          Tick  population_ALL      year\n",
       "0        9.001         32000.0  0.024660\n",
       "1000  1009.001         32010.0  2.764386\n",
       "2000  2009.001         32001.0  5.504112\n",
       "3590  3599.001         32002.0  9.860277"
      ]
     },
     "execution_count": 15,
     "metadata": {},
     "output_type": "execute_result"
    }
   ],
   "source": [
    "simulated_population.iloc[[0,1000,2000,-1]]"
   ]
  },
  {
   "cell_type": "code",
   "execution_count": 16,
   "metadata": {
    "collapsed": false
   },
   "outputs": [
    {
     "data": {
      "text/plain": [
       "<matplotlib.axes._subplots.AxesSubplot at 0x2763b9dd5f8>"
      ]
     },
     "execution_count": 16,
     "metadata": {},
     "output_type": "execute_result"
    },
    {
     "data": {
      "image/png": "[encoded data removed]",
      "text/plain": [
       "<matplotlib.figure.Figure at 0x2763b9f1780>"
      ]
     },
     "metadata": {},
     "output_type": "display_data"
    }
   ],
   "source": [
    "simulated_population.plot(x=\"year\", y=\"population_ALL\")"
   ]
  },
  {
   "cell_type": "markdown",
   "metadata": {},
   "source": [
    "### Total recruited (i.e. started trials)"
   ]
  },
  {
   "cell_type": "code",
   "execution_count": 17,
   "metadata": {
    "collapsed": false
   },
   "outputs": [
    {
     "data": {
      "text/plain": [
       "Tick                                 1086.001\n",
       "started_study_aggregate_vaccine       800.000\n",
       "started_placebo_aggregate_vaccine     799.000\n",
       "Name: 1077, dtype: float64"
      ]
     },
     "execution_count": 17,
     "metadata": {},
     "output_type": "execute_result"
    }
   ],
   "source": [
    "started_pops_fields = ['started_study_aggregate_vaccine', 'started_placebo_aggregate_vaccine']\n",
    "started_pops=np.array(pops_output.loc[trial_end_date, started_pops_fields])\n",
    "pops_output.loc[trial_end_date, ['Tick'] + started_pops_fields]"
   ]
  },
  {
   "cell_type": "markdown",
   "metadata": {},
   "source": [
    "### Total recruited (i.e. completed doses)"
   ]
  },
  {
   "cell_type": "code",
   "execution_count": 18,
   "metadata": {
    "collapsed": false
   },
   "outputs": [
    {
     "data": {
      "text/plain": [
       "Tick                              1086.001\n",
       "recr_study_aggregate_vaccine       727.000\n",
       "recr_placebo_aggregate_vaccine     724.000\n",
       "Name: 1077, dtype: float64"
      ]
     },
     "execution_count": 18,
     "metadata": {},
     "output_type": "execute_result"
    }
   ],
   "source": [
    "enrolled_pops_fields = ['recr_study_aggregate_vaccine', 'recr_placebo_aggregate_vaccine']\n",
    "enrolled_pops=np.array(pops_output.loc[trial_end_date, enrolled_pops_fields])\n",
    "pops_output.loc[trial_end_date, ['Tick'] + enrolled_pops_fields]"
   ]
  },
  {
   "cell_type": "markdown",
   "metadata": {},
   "source": [
    "### Still in follow-up (should be small)"
   ]
  },
  {
   "cell_type": "code",
   "execution_count": 19,
   "metadata": {
    "collapsed": false
   },
   "outputs": [
    {
     "data": {
      "text/plain": [
       "Tick                               1086.001\n",
       "vaccinetrial_VaccineArm=study         6.000\n",
       "vaccinetrial_VaccineArm=placebo      15.000\n",
       "Name: 1077, dtype: float64"
      ]
     },
     "execution_count": 19,
     "metadata": {},
     "output_type": "execute_result"
    }
   ],
   "source": [
    "active_pops_fields = ['vaccinetrial_VaccineArm=study', 'vaccinetrial_VaccineArm=placebo']\n",
    "active_pops=np.array(pops_output.loc[trial_end_date, active_pops_fields])\n",
    "pops_output.loc[trial_end_date, ['Tick'] + active_pops_fields]"
   ]
  },
  {
   "cell_type": "markdown",
   "metadata": {},
   "source": [
    "### Infection status"
   ]
  },
  {
   "cell_type": "code",
   "execution_count": 20,
   "metadata": {
    "collapsed": true
   },
   "outputs": [],
   "source": [
    "## note: cmpl_ variables are accumulators inside the simulation, and are valid even if individuals leave the simulation"
   ]
  },
  {
   "cell_type": "markdown",
   "metadata": {},
   "source": [
    "#### chronic"
   ]
  },
  {
   "cell_type": "code",
   "execution_count": 21,
   "metadata": {
    "collapsed": false
   },
   "outputs": [
    {
     "data": {
      "text/plain": [
       "Tick                                      1086.001\n",
       "cmpl_study_chronic_aggregate_vaccine        16.000\n",
       "cmpl_placebo_chronic_aggregate_vaccine      39.000\n",
       "Name: 1077, dtype: float64"
      ]
     },
     "execution_count": 21,
     "metadata": {},
     "output_type": "execute_result"
    }
   ],
   "source": [
    "chronic_pops=np.array(pops_output.loc[trial_end_date, ['cmpl_study_chronic_aggregate_vaccine', 'cmpl_placebo_chronic_aggregate_vaccine']])\n",
    "pops_output.loc[trial_end_date, ['Tick', 'cmpl_study_chronic_aggregate_vaccine', 'cmpl_placebo_chronic_aggregate_vaccine']]"
   ]
  },
  {
   "cell_type": "markdown",
   "metadata": {},
   "source": [
    "#### not chronic"
   ]
  },
  {
   "cell_type": "code",
   "execution_count": 22,
   "metadata": {
    "collapsed": false
   },
   "outputs": [
    {
     "data": {
      "text/plain": [
       "Tick                                         1086.001\n",
       "cmpl_study_notchronic_aggregate_vaccine       507.000\n",
       "cmpl_placebo_notchronic_aggregate_vaccine     481.000\n",
       "Name: 1077, dtype: float64"
      ]
     },
     "execution_count": 22,
     "metadata": {},
     "output_type": "execute_result"
    }
   ],
   "source": [
    "nonchronic_pops=np.array(pops_output.loc[trial_end_date, ['cmpl_study_notchronic_aggregate_vaccine', 'cmpl_placebo_notchronic_aggregate_vaccine']])\n",
    "pops_output.loc[trial_end_date, ['Tick', 'cmpl_study_notchronic_aggregate_vaccine', 'cmpl_placebo_notchronic_aggregate_vaccine']]"
   ]
  },
  {
   "cell_type": "markdown",
   "metadata": {},
   "source": [
    "#### infected before completing doses (chronic or not)"
   ]
  },
  {
   "cell_type": "code",
   "execution_count": 23,
   "metadata": {
    "collapsed": false
   },
   "outputs": [
    {
     "data": {
      "text/plain": [
       "Tick                                          1086.001\n",
       "incompl_infected_study_aggregate_vaccine        19.000\n",
       "incompl_infected_placebo_aggregate_vaccine      20.000\n",
       "Name: 1077, dtype: float64"
      ]
     },
     "execution_count": 23,
     "metadata": {},
     "output_type": "execute_result"
    }
   ],
   "source": [
    "incompl_inf_pops=np.array(pops_output.loc[trial_end_date, ['incompl_infected_study_aggregate_vaccine', 'incompl_infected_placebo_aggregate_vaccine']])\n",
    "pops_output.loc[trial_end_date, ['Tick', 'incompl_infected_study_aggregate_vaccine', 'incompl_infected_placebo_aggregate_vaccine']]"
   ]
  },
  {
   "cell_type": "markdown",
   "metadata": {},
   "source": [
    "### Workload"
   ]
  },
  {
   "cell_type": "code",
   "execution_count": 24,
   "metadata": {
    "collapsed": false
   },
   "outputs": [],
   "source": [
    "#TODO = monthly work by category: recuitment, follow-up, follow-up2\n",
    "pops_output['Month'] = pops_output['Tick'] / 30\n",
    "pops_output['Month'] = round(pops_output['Month'] + 1)\n",
    "#pops_output['Month']"
   ]
  },
  {
   "cell_type": "code",
   "execution_count": 25,
   "metadata": {
    "collapsed": false
   },
   "outputs": [],
   "source": [
    "#TODO: we need daily statistics in APK for totals by stage"
   ]
  },
  {
   "cell_type": "markdown",
   "metadata": {},
   "source": [
    "### Recruitment and Drop out"
   ]
  },
  {
   "cell_type": "code",
   "execution_count": 26,
   "metadata": {
    "collapsed": true
   },
   "outputs": [],
   "source": [
    "recruited = pops_output[['Tick', 'started_study_aggregate_vaccine', 'started_study_aggregate_vaccine']]\n",
    "recruited.columns = ['day', 'study_total', 'placebo_total']\n",
    "recruited.set_index('day')\n",
    "recruited = recruited.iloc[0:600]"
   ]
  },
  {
   "cell_type": "code",
   "execution_count": 27,
   "metadata": {
    "collapsed": false
   },
   "outputs": [
    {
     "data": {
      "image/png": "[encoded data removed]",
      "text/plain": [
       "<matplotlib.figure.Figure at 0x2763bcbc828>"
      ]
     },
     "metadata": {},
     "output_type": "display_data"
    }
   ],
   "source": [
    "ax=recruited.plot(y='study_total', x='day')\n",
    "recruited.plot(y='placebo_total', x='day', ax=ax)\n",
    "plt.show()"
   ]
  },
  {
   "cell_type": "code",
   "execution_count": 28,
   "metadata": {
    "collapsed": false
   },
   "outputs": [],
   "source": [
    "dropouts = pops_output[['Tick', 'quit_study_aggregate_vaccine', 'quit_placebo_aggregate_vaccine']]\n",
    "dropouts.columns = ['day', 'study_total_quit', 'placebo_total_quit']\n",
    "dropouts.set_index('day');"
   ]
  },
  {
   "cell_type": "code",
   "execution_count": 29,
   "metadata": {
    "collapsed": false
   },
   "outputs": [
    {
     "data": {
      "text/plain": [
       "0.28749999999999998"
      ]
     },
     "execution_count": 29,
     "metadata": {},
     "output_type": "execute_result"
    }
   ],
   "source": [
    "d_study = dropouts.iloc[trial_end_date]['study_total_quit'] / pops_output.loc[trial_end_date]['started_study_aggregate_vaccine']\n",
    "d_study"
   ]
  },
  {
   "cell_type": "code",
   "execution_count": 30,
   "metadata": {
    "collapsed": false
   },
   "outputs": [
    {
     "data": {
      "text/plain": [
       "0.29536921151439299"
      ]
     },
     "execution_count": 30,
     "metadata": {},
     "output_type": "execute_result"
    }
   ],
   "source": [
    "d_placebo = dropouts.iloc[trial_end_date]['placebo_total_quit'] / pops_output.loc[trial_end_date]['started_placebo_aggregate_vaccine']\n",
    "d_placebo"
   ]
  },
  {
   "cell_type": "code",
   "execution_count": 31,
   "metadata": {
    "collapsed": true
   },
   "outputs": [],
   "source": [
    "dropouts = dropouts.iloc[0:600]"
   ]
  },
  {
   "cell_type": "code",
   "execution_count": 32,
   "metadata": {
    "collapsed": false
   },
   "outputs": [],
   "source": [
    "ddropouts = dropouts.diff()\n",
    "ddropouts.drop(['day'], axis=1, inplace=True)\n",
    "ddropouts.set_index(dropouts['day'])\n",
    "ddropouts.columns = ['study', 'placebo']"
   ]
  },
  {
   "cell_type": "code",
   "execution_count": 33,
   "metadata": {
    "collapsed": false
   },
   "outputs": [
    {
     "data": {
      "image/png": "[encoded data removed]",
      "text/plain": [
       "<matplotlib.figure.Figure at 0x2763bc60eb8>"
      ]
     },
     "metadata": {},
     "output_type": "display_data"
    }
   ],
   "source": [
    "dropouts.columns = ['day', 'study', 'placebo']\n",
    "ax=dropouts.plot(y='study', x='day', legend='study')\n",
    "dropouts.plot(y='placebo', x='day', ax=ax, legend='placebo')\n",
    "plt.show()"
   ]
  },
  {
   "cell_type": "code",
   "execution_count": 34,
   "metadata": {
    "collapsed": false
   },
   "outputs": [
    {
     "data": {
      "image/png": "[encoded data removed]",
      "text/plain": [
       "<matplotlib.figure.Figure at 0x2763bf731d0>"
      ]
     },
     "metadata": {},
     "output_type": "display_data"
    }
   ],
   "source": [
    "#fig = dropouts.plot('quit_study_aggregate_vaccine')\n",
    "ax=ddropouts.plot(y='study')\n",
    "ddropouts.plot(y='placebo', ax=ax)\n",
    "plt.show()"
   ]
  },
  {
   "cell_type": "code",
   "execution_count": 35,
   "metadata": {
    "collapsed": false
   },
   "outputs": [
    {
     "data": {
      "text/plain": [
       "<matplotlib.axes._subplots.AxesSubplot at 0x2763d0a1390>"
      ]
     },
     "execution_count": 35,
     "metadata": {},
     "output_type": "execute_result"
    },
    {
     "data": {
      "image/png": "[encoded data removed]",
      "text/plain": [
       "<matplotlib.figure.Figure at 0x2763d42b080>"
      ]
     },
     "metadata": {},
     "output_type": "display_data"
    }
   ],
   "source": [
    "dropouts.plot()"
   ]
  },
  {
   "cell_type": "markdown",
   "metadata": {},
   "source": [
    "### Total completed trial per protocol"
   ]
  },
  {
   "cell_type": "code",
   "execution_count": 36,
   "metadata": {
    "collapsed": false
   },
   "outputs": [
    {
     "name": "stdout",
     "output_type": "stream",
     "text": [
      "Study: 523, Placebo: 520\n"
     ]
    }
   ],
   "source": [
    "total_completed = chronic_pops + nonchronic_pops\n",
    "print('Study: %.0f, Placebo: %.0f'%(total_completed[0], total_completed[1]))"
   ]
  },
  {
   "cell_type": "markdown",
   "metadata": {},
   "source": [
    "### Results"
   ]
  },
  {
   "cell_type": "code",
   "execution_count": 37,
   "metadata": {
    "collapsed": false
   },
   "outputs": [],
   "source": [
    "trial_contingency_table = np.reshape(np.concatenate((nonchronic_pops, chronic_pops), axis=0), newshape=(2,2))"
   ]
  },
  {
   "cell_type": "code",
   "execution_count": 38,
   "metadata": {
    "collapsed": false
   },
   "outputs": [
    {
     "name": "stdout",
     "output_type": "stream",
     "text": [
      "Chi-square\n"
     ]
    }
   ],
   "source": [
    "print('Chi-square')\n",
    "chi2, pvalchisq, dof, expected = scipy.stats.chi2_contingency(trial_contingency_table)"
   ]
  },
  {
   "cell_type": "code",
   "execution_count": 41,
   "metadata": {
    "collapsed": false
   },
   "outputs": [
    {
     "name": "stdout",
     "output_type": "stream",
     "text": [
      "Fisher Exact\n"
     ]
    },
    {
     "data": {
      "text/plain": [
       "0.0013485834331594183"
      ]
     },
     "execution_count": 41,
     "metadata": {},
     "output_type": "execute_result"
    }
   ],
   "source": [
    "print('Fisher Exact')\n",
    "fisher, fisherpval = scipy.stats.fisher_exact(trial_contingency_table)\n",
    "fisherpval"
   ]
  },
  {
   "cell_type": "markdown",
   "metadata": {},
   "source": [
    "## Vaccine efficacy:\n",
    "$$ VE_𝑎 = 1 − 𝑎_{vaccine}/𝑎_{placebo} $$"
   ]
  },
  {
   "cell_type": "markdown",
   "metadata": {},
   "source": [
    "In our case, we are interested in the prevention of chronic infection.  Therefore, we calculate:\n",
    "$a_{vaccine} = $(HCV chronic vaccinees) / (total vaccinees)\n",
    "\n",
    "and similarly for the placebo group"
   ]
  },
  {
   "cell_type": "code",
   "execution_count": 42,
   "metadata": {
    "collapsed": false
   },
   "outputs": [
    {
     "data": {
      "text/plain": [
       "0.030592734225621414"
      ]
     },
     "execution_count": 42,
     "metadata": {},
     "output_type": "execute_result"
    }
   ],
   "source": [
    "a_study = (chronic_pops[0] / total_completed[0])\n",
    "a_study"
   ]
  },
  {
   "cell_type": "code",
   "execution_count": 43,
   "metadata": {
    "collapsed": false
   },
   "outputs": [
    {
     "data": {
      "text/plain": [
       "0.074999999999999997"
      ]
     },
     "execution_count": 43,
     "metadata": {},
     "output_type": "execute_result"
    }
   ],
   "source": [
    "a_placebo = (chronic_pops[1] / total_completed[1])\n",
    "a_placebo"
   ]
  },
  {
   "cell_type": "code",
   "execution_count": 44,
   "metadata": {
    "collapsed": false
   },
   "outputs": [],
   "source": [
    "VE = 1 - (a_study/a_placebo)"
   ]
  },
  {
   "cell_type": "markdown",
   "metadata": {},
   "source": [
    "## Summary of results"
   ]
  },
  {
   "cell_type": "code",
   "execution_count": 65,
   "metadata": {
    "collapsed": false
   },
   "outputs": [
    {
     "data": {
      "text/html": [
       "<table>\n",
       "<tr><td>RESULTS (day=1077)            </td><td>Study   </td><td>Placebo</td></tr>\n",
       "<tr><td>Recruited                     </td><td>800     </td><td>799    </td></tr>\n",
       "<tr><td>Received all doses            </td><td>727     </td><td>724    </td></tr>\n",
       "<tr><td>Infected before final         </td><td>19      </td><td>20     </td></tr>\n",
       "<tr><td>Dropout rate                  </td><td>29%     </td><td>30%    </td></tr>\n",
       "<tr><td>Still in follow-up at day 1077</td><td>6       </td><td>15     </td></tr>\n",
       "<tr><td>Chronic                       </td><td>16      </td><td>39     </td></tr>\n",
       "<tr><td>Not chronic                   </td><td>507     </td><td>481    </td></tr>\n",
       "<tr><td>Attack rate                   </td><td>3.1%    </td><td>7.5%   </td></tr>\n",
       "<tr><td>VE                            </td><td>59.21%  </td><td>       </td></tr>\n",
       "<tr><td>Fishers exact pval            </td><td>0.001349</td><td>       </td></tr>\n",
       "</table>"
      ],
      "text/plain": [
       "<IPython.core.display.HTML object>"
      ]
     },
     "metadata": {},
     "output_type": "display_data"
    }
   ],
   "source": [
    "summarytable = [[\"RESULTS (day=%d)\"%(trial_end_date,),\"Study\",\"Placebo\"],\n",
    "         ['Recruited'] + ['%d'%(x,) for x in started_pops],\n",
    "         ['Received all doses'] + ['%d'%(x,) for x in enrolled_pops],\n",
    "         ['Infected before final']  + ['%d'%(x,) for x in incompl_inf_pops],\n",
    "         ['Dropout rate']  + ['%.0f%%'%(d_study*100), '%.0f%%'%(d_placebo*100)],\n",
    "         ['Still in follow-up at day %d'%(trial_end_date)] + ['%d'%(x,) for x in active_pops], \n",
    "         [\"    Chronic\"] + ['%d'%(x,) for x in chronic_pops],\n",
    "         [\"    Not chronic\"] + ['%d'%(x,) for x in nonchronic_pops],\n",
    "         [\"Attack rate\"] + ['%.1f%%'%(a_study*100), '%.1f%%'%(a_placebo*100)],\n",
    "         [\"VE\"] + [\"%.2f%%\"%(100*VE), \"\"],\n",
    "         [\"Fishers exact pval\", \"%.6f\"%fisherpval,\"\"]\n",
    "        ]\n",
    "display(HTML(tabulate.tabulate(summarytable, tablefmt='html')))"
   ]
  },
  {
   "cell_type": "code",
   "execution_count": 66,
   "metadata": {
    "collapsed": false
   },
   "outputs": [],
   "source": [
    "with open('summarytable.csv', 'w') as csvfile:\n",
    "    writer = csv.writer(csvfile)\n",
    "    [writer.writerow(r) for r in summarytable]\n"
   ]
  },
  {
   "cell_type": "code",
   "execution_count": 47,
   "metadata": {
    "collapsed": false
   },
   "outputs": [
    {
     "name": "stdout",
     "output_type": "stream",
     "text": [
      "Fisher's exact test gives p=2.569257, which is statistically significant.  The estimated vaccine efficacy is 59.2%\n"
     ]
    }
   ],
   "source": [
    "print('Fisher\\'s exact test gives p=%.6f, which is %s.  The estimated vaccine efficacy is %.1f%%'%(fisher, 'statistically significant' if pval<0.05 else 'not statistically significant', 100*VE,))"
   ]
  }
 ],
 "metadata": {
  "anaconda-cloud": {},
  "kernelspec": {
   "display_name": "Python [default]",
   "language": "python",
   "name": "python3"
  },
  "language_info": {
   "codemirror_mode": {
    "name": "ipython",
    "version": 3
   },
   "file_extension": ".py",
   "mimetype": "text/x-python",
   "name": "python",
   "nbconvert_exporter": "python",
   "pygments_lexer": "ipython3",
   "version": "3.5.2"
  }
 },
 "nbformat": 4,
 "nbformat_minor": 1
}
