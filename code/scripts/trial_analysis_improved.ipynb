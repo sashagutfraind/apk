{
 "cells": [
  {
   "cell_type": "markdown",
   "metadata": {},
   "source": [
    "## Analyze trial results"
   ]
  },
  {
   "cell_type": "code",
   "execution_count": 1,
   "metadata": {},
   "outputs": [],
   "source": [
    "import pandas as pd\n",
    "import os, sys\n",
    "import os.path\n",
    "import numpy as np\n",
    "import scipy\n",
    "import scipy.stats\n",
    "import matplotlib.pyplot as plt\n",
    "from IPython.display import HTML, display\n",
    "import tabulate, csv\n",
    "%matplotlib inline"
   ]
  },
  {
   "cell_type": "code",
   "execution_count": 2,
   "metadata": {},
   "outputs": [],
   "source": [
    "os.chdir(r\"C:\\Users\\agutf\\Sync\\repos\\apk-development\\analysis\\vaccine_cox\\candidates\\simphony_model_1604882689569_35pc\\instance_1\\output\")"
   ]
  },
  {
   "cell_type": "code",
   "execution_count": 3,
   "metadata": {},
   "outputs": [],
   "source": [
    "file_signature = 'populations.csv'"
   ]
  },
  {
   "cell_type": "code",
   "execution_count": 4,
   "metadata": {},
   "outputs": [
    {
     "data": {
      "text/plain": [
       "'C:\\\\Users\\\\agutf\\\\Sync\\\\repos\\\\apk-development\\\\analysis\\\\vaccine_cox\\\\candidates\\\\simphony_model_1604882689569_35pc\\\\instance_1\\\\output'"
      ]
     },
     "execution_count": 4,
     "metadata": {},
     "output_type": "execute_result"
    }
   ],
   "source": [
    "run_output_dir = !cd\n",
    "run_output_dir = run_output_dir[0]\n",
    "run_output_dir"
   ]
  },
  {
   "cell_type": "code",
   "execution_count": 46,
   "metadata": {},
   "outputs": [
    {
     "data": {
      "text/plain": [
       "1077"
      ]
     },
     "execution_count": 46,
     "metadata": {},
     "output_type": "execute_result"
    }
   ],
   "source": [
    "trial_end_date = int(365*3.5)-200 #the last normal recruit completes on day 958 \n",
    "trial_end_date"
   ]
  },
  {
   "cell_type": "markdown",
   "metadata": {},
   "source": [
    "because of burn-in, we will retrieve at tick number trial_end_date + 365"
   ]
  },
  {
   "cell_type": "code",
   "execution_count": 6,
   "metadata": {},
   "outputs": [],
   "source": [
    "pops_file = [s for s in os.listdir(run_output_dir) if s.find(file_signature)>-1][0]"
   ]
  },
  {
   "cell_type": "markdown",
   "metadata": {},
   "source": [
    "### Study details"
   ]
  },
  {
   "cell_type": "code",
   "execution_count": 7,
   "metadata": {},
   "outputs": [
    {
     "name": "stdout",
     "output_type": "stream",
     "text": [
      "  vaccine_schedule  initial_pwid_count  vaccine_study_arm_n  \\\n",
      "0            D2E60               32000                 1599   \n",
      "\n",
      "   vaccine_annual_loss  vaccine_dose2_day  vaccine_dose3_day  \\\n",
      "0                  0.2               60.0              180.0   \n",
      "\n",
      "   vaccine_enrollment_duration_days  vaccine_followup_purge_with_rna  \\\n",
      "0                               365                                0   \n",
      "\n",
      "   vaccine_enrollment_launch_day  \\\n",
      "0                           30.0   \n",
      "\n",
      "   vaccine_enrollment_probability_positiveinnetwork  \\\n",
      "0                                               1.0   \n",
      "\n",
      "   vaccine_enrollment_probability_unbiased  vaccine_followup1_periods  \\\n",
      "0                                      0.0                         18   \n",
      "\n",
      "   vaccine_followup2_periods  vaccine_followup_weeks  \n",
      "0                          9                     4.0  \n"
     ]
    }
   ],
   "source": [
    "header_output = pd.read_csv(os.path.join(run_output_dir, pops_file), nrows=1, header=1)\n",
    "print(header_output[['vaccine_schedule', 'initial_pwid_count', 'vaccine_study_arm_n', 'vaccine_annual_loss', 'vaccine_dose2_day', 'vaccine_dose3_day', 'vaccine_enrollment_duration_days', 'vaccine_followup_purge_with_rna', 'vaccine_enrollment_launch_day', 'vaccine_enrollment_probability_positiveinnetwork', 'vaccine_enrollment_probability_unbiased', 'vaccine_followup1_periods', 'vaccine_followup2_periods', 'vaccine_followup_weeks']\n",
    "])"
   ]
  },
  {
   "cell_type": "code",
   "execution_count": null,
   "metadata": {},
   "outputs": [],
   "source": []
  },
  {
   "cell_type": "markdown",
   "metadata": {},
   "source": [
    "### Populations"
   ]
  },
  {
   "cell_type": "code",
   "execution_count": 8,
   "metadata": {},
   "outputs": [],
   "source": [
    "pops_output = pd.read_csv(os.path.join(run_output_dir, pops_file), header=3)"
   ]
  },
  {
   "cell_type": "code",
   "execution_count": 9,
   "metadata": {},
   "outputs": [
    {
     "data": {
      "text/plain": [
       "Index(['BurnInMode', 'Tick', 'Year', 'incidence_daily', 'aggregate_courses',\n",
       "       'quit_placebo_aggregate_vaccine', 'recr_study_aggregate_vaccine',\n",
       "       'cmpl_study_chronic_aggregate_vaccine',\n",
       "       'recr_placebo_aggregate_vaccine', 'started_study_aggregate_vaccine',\n",
       "       ...\n",
       "       'vaccinetrial_VaccineArm=noarm', 'populat_VaccineStage=notenrolled',\n",
       "       'populat_VaccineStage=received_dose1',\n",
       "       'populat_VaccineStage=received_dose2',\n",
       "       'populat_VaccineStage=received_dose3', 'populat_VaccineStage=followup',\n",
       "       'populat_VaccineStage=followup2', 'populat_VaccineStage=abandoned',\n",
       "       'populat_VaccineStage=completed', 'Unnamed: 320'],\n",
       "      dtype='object', length=321)"
      ]
     },
     "execution_count": 9,
     "metadata": {},
     "output_type": "execute_result"
    }
   ],
   "source": [
    "pops_output.columns"
   ]
  },
  {
   "cell_type": "markdown",
   "metadata": {},
   "source": [
    "### Infection status"
   ]
  },
  {
   "cell_type": "code",
   "execution_count": 10,
   "metadata": {},
   "outputs": [],
   "source": [
    "infections = pops_output[['Tick', 'BurnInMode', 'ABpreval_ALL', 'RNApreval_ALL']]"
   ]
  },
  {
   "cell_type": "code",
   "execution_count": 11,
   "metadata": {},
   "outputs": [
    {
     "name": "stderr",
     "output_type": "stream",
     "text": [
      "C:\\Users\\agutf\\anaconda3\\lib\\site-packages\\ipykernel_launcher.py:2: SettingWithCopyWarning: \n",
      "A value is trying to be set on a copy of a slice from a DataFrame.\n",
      "Try using .loc[row_indexer,col_indexer] = value instead\n",
      "\n",
      "See the caveats in the documentation: https://pandas.pydata.org/pandas-docs/stable/user_guide/indexing.html#returning-a-view-versus-a-copy\n",
      "  \n"
     ]
    }
   ],
   "source": [
    "tmp = infections.Tick/365\n",
    "infections[\"year\"] = tmp"
   ]
  },
  {
   "cell_type": "code",
   "execution_count": 12,
   "metadata": {},
   "outputs": [
    {
     "data": {
      "text/plain": [
       "<matplotlib.axes._subplots.AxesSubplot at 0x26a4394f688>"
      ]
     },
     "execution_count": 12,
     "metadata": {},
     "output_type": "execute_result"
    },
    {
     "data": {
      "image/png": "[encoded data removed]",
      "text/plain": [
       "<Figure size 432x288 with 1 Axes>"
      ]
     },
     "metadata": {
      "needs_background": "light"
     },
     "output_type": "display_data"
    }
   ],
   "source": [
    "infections.plot(x=\"year\", y=['BurnInMode', 'ABpreval_ALL', 'RNApreval_ALL'])"
   ]
  },
  {
   "cell_type": "markdown",
   "metadata": {},
   "source": [
    "### Total population"
   ]
  },
  {
   "cell_type": "code",
   "execution_count": 13,
   "metadata": {},
   "outputs": [],
   "source": [
    "simulated_population = pops_output[['Tick', 'population_ALL']]"
   ]
  },
  {
   "cell_type": "code",
   "execution_count": 14,
   "metadata": {},
   "outputs": [
    {
     "name": "stderr",
     "output_type": "stream",
     "text": [
      "C:\\Users\\agutf\\anaconda3\\lib\\site-packages\\ipykernel_launcher.py:2: SettingWithCopyWarning: \n",
      "A value is trying to be set on a copy of a slice from a DataFrame.\n",
      "Try using .loc[row_indexer,col_indexer] = value instead\n",
      "\n",
      "See the caveats in the documentation: https://pandas.pydata.org/pandas-docs/stable/user_guide/indexing.html#returning-a-view-versus-a-copy\n",
      "  \n"
     ]
    }
   ],
   "source": [
    "tmp2 = simulated_population.Tick/365\n",
    "simulated_population[\"year\"] = tmp2"
   ]
  },
  {
   "cell_type": "code",
   "execution_count": 15,
   "metadata": {},
   "outputs": [
    {
     "data": {
      "text/html": [
       "<div>\n",
       "<style scoped>\n",
       "    .dataframe tbody tr th:only-of-type {\n",
       "        vertical-align: middle;\n",
       "    }\n",
       "\n",
       "    .dataframe tbody tr th {\n",
       "        vertical-align: top;\n",
       "    }\n",
       "\n",
       "    .dataframe thead th {\n",
       "        text-align: right;\n",
       "    }\n",
       "</style>\n",
       "<table border=\"1\" class=\"dataframe\">\n",
       "  <thead>\n",
       "    <tr style=\"text-align: right;\">\n",
       "      <th></th>\n",
       "      <th>Tick</th>\n",
       "      <th>population_ALL</th>\n",
       "      <th>year</th>\n",
       "    </tr>\n",
       "  </thead>\n",
       "  <tbody>\n",
       "    <tr>\n",
       "      <th>0</th>\n",
       "      <td>364.001</td>\n",
       "      <td>32000.0</td>\n",
       "      <td>0.997263</td>\n",
       "    </tr>\n",
       "    <tr>\n",
       "      <th>1000</th>\n",
       "      <td>1365.001</td>\n",
       "      <td>31984.0</td>\n",
       "      <td>3.739729</td>\n",
       "    </tr>\n",
       "    <tr>\n",
       "      <th>2000</th>\n",
       "      <td>2365.001</td>\n",
       "      <td>31939.0</td>\n",
       "      <td>6.479455</td>\n",
       "    </tr>\n",
       "    <tr>\n",
       "      <th>3234</th>\n",
       "      <td>3599.001</td>\n",
       "      <td>31931.0</td>\n",
       "      <td>9.860277</td>\n",
       "    </tr>\n",
       "  </tbody>\n",
       "</table>\n",
       "</div>"
      ],
      "text/plain": [
       "          Tick  population_ALL      year\n",
       "0      364.001         32000.0  0.997263\n",
       "1000  1365.001         31984.0  3.739729\n",
       "2000  2365.001         31939.0  6.479455\n",
       "3234  3599.001         31931.0  9.860277"
      ]
     },
     "execution_count": 15,
     "metadata": {},
     "output_type": "execute_result"
    }
   ],
   "source": [
    "simulated_population.iloc[[0,1000,2000,-1]]"
   ]
  },
  {
   "cell_type": "code",
   "execution_count": 16,
   "metadata": {},
   "outputs": [
    {
     "data": {
      "text/plain": [
       "<matplotlib.axes._subplots.AxesSubplot at 0x26a44e63c48>"
      ]
     },
     "execution_count": 16,
     "metadata": {},
     "output_type": "execute_result"
    },
    {
     "data": {
      "image/png": "[encoded data removed]",
      "text/plain": [
       "<Figure size 432x288 with 1 Axes>"
      ]
     },
     "metadata": {
      "needs_background": "light"
     },
     "output_type": "display_data"
    }
   ],
   "source": [
    "simulated_population.plot(x=\"year\", y=\"population_ALL\")"
   ]
  },
  {
   "cell_type": "markdown",
   "metadata": {},
   "source": [
    "### Total recruited (i.e. started trials)"
   ]
  },
  {
   "cell_type": "code",
   "execution_count": 17,
   "metadata": {},
   "outputs": [
    {
     "data": {
      "text/plain": [
       "Tick                                 1442.001\n",
       "started_study_aggregate_vaccine      1604.000\n",
       "started_placebo_aggregate_vaccine    1603.000\n",
       "Name: 1077, dtype: float64"
      ]
     },
     "execution_count": 17,
     "metadata": {},
     "output_type": "execute_result"
    }
   ],
   "source": [
    "started_pops_fields = ['started_study_aggregate_vaccine', 'started_placebo_aggregate_vaccine']\n",
    "started_pops=np.array(pops_output.loc[trial_end_date, started_pops_fields])\n",
    "pops_output.loc[trial_end_date, ['Tick'] + started_pops_fields]"
   ]
  },
  {
   "cell_type": "markdown",
   "metadata": {},
   "source": [
    "### Total recruited (i.e. completed doses)"
   ]
  },
  {
   "cell_type": "code",
   "execution_count": 18,
   "metadata": {},
   "outputs": [
    {
     "data": {
      "text/plain": [
       "Tick                              1442.001\n",
       "recr_study_aggregate_vaccine      1543.000\n",
       "recr_placebo_aggregate_vaccine    1551.000\n",
       "Name: 1077, dtype: float64"
      ]
     },
     "execution_count": 18,
     "metadata": {},
     "output_type": "execute_result"
    }
   ],
   "source": [
    "enrolled_pops_fields = ['recr_study_aggregate_vaccine', 'recr_placebo_aggregate_vaccine']\n",
    "enrolled_pops=np.array(pops_output.loc[trial_end_date, enrolled_pops_fields])\n",
    "pops_output.loc[trial_end_date, ['Tick'] + enrolled_pops_fields]"
   ]
  },
  {
   "cell_type": "markdown",
   "metadata": {},
   "source": [
    "### Still in follow-up (should be small)"
   ]
  },
  {
   "cell_type": "code",
   "execution_count": 19,
   "metadata": {},
   "outputs": [
    {
     "data": {
      "text/plain": [
       "Tick                               1442.001\n",
       "vaccinetrial_VaccineArm=study         3.000\n",
       "vaccinetrial_VaccineArm=placebo       4.000\n",
       "Name: 1077, dtype: float64"
      ]
     },
     "execution_count": 19,
     "metadata": {},
     "output_type": "execute_result"
    }
   ],
   "source": [
    "active_pops_fields = ['vaccinetrial_VaccineArm=study', 'vaccinetrial_VaccineArm=placebo']\n",
    "active_pops=np.array(pops_output.loc[trial_end_date, active_pops_fields])\n",
    "pops_output.loc[trial_end_date, ['Tick'] + active_pops_fields]"
   ]
  },
  {
   "cell_type": "markdown",
   "metadata": {},
   "source": [
    "### Infection status"
   ]
  },
  {
   "cell_type": "code",
   "execution_count": 20,
   "metadata": {},
   "outputs": [],
   "source": [
    "## note: cmpl_ variables are accumulators inside the simulation, and are valid even if individuals leave the simulation"
   ]
  },
  {
   "cell_type": "markdown",
   "metadata": {},
   "source": [
    "#### chronic"
   ]
  },
  {
   "cell_type": "code",
   "execution_count": 21,
   "metadata": {},
   "outputs": [
    {
     "data": {
      "text/plain": [
       "Tick                                      1442.001\n",
       "cmpl_study_chronic_aggregate_vaccine        28.000\n",
       "cmpl_placebo_chronic_aggregate_vaccine      44.000\n",
       "Name: 1077, dtype: float64"
      ]
     },
     "execution_count": 21,
     "metadata": {},
     "output_type": "execute_result"
    }
   ],
   "source": [
    "chronic_pops=np.array(pops_output.loc[trial_end_date, ['cmpl_study_chronic_aggregate_vaccine', 'cmpl_placebo_chronic_aggregate_vaccine']])\n",
    "pops_output.loc[trial_end_date, ['Tick', 'cmpl_study_chronic_aggregate_vaccine', 'cmpl_placebo_chronic_aggregate_vaccine']]"
   ]
  },
  {
   "cell_type": "markdown",
   "metadata": {},
   "source": [
    "#### not chronic"
   ]
  },
  {
   "cell_type": "code",
   "execution_count": 22,
   "metadata": {},
   "outputs": [
    {
     "data": {
      "text/plain": [
       "Tick                                         1442.001\n",
       "cmpl_study_notchronic_aggregate_vaccine      1090.000\n",
       "cmpl_placebo_notchronic_aggregate_vaccine    1100.000\n",
       "Name: 1077, dtype: float64"
      ]
     },
     "execution_count": 22,
     "metadata": {},
     "output_type": "execute_result"
    }
   ],
   "source": [
    "nonchronic_pops=np.array(pops_output.loc[trial_end_date, ['cmpl_study_notchronic_aggregate_vaccine', 'cmpl_placebo_notchronic_aggregate_vaccine']])\n",
    "pops_output.loc[trial_end_date, ['Tick', 'cmpl_study_notchronic_aggregate_vaccine', 'cmpl_placebo_notchronic_aggregate_vaccine']]"
   ]
  },
  {
   "cell_type": "markdown",
   "metadata": {},
   "source": [
    "#### infected before completing doses (chronic or not)"
   ]
  },
  {
   "cell_type": "code",
   "execution_count": 23,
   "metadata": {},
   "outputs": [
    {
     "data": {
      "text/plain": [
       "Tick                                          1442.001\n",
       "incompl_infected_study_aggregate_vaccine         3.000\n",
       "incompl_infected_placebo_aggregate_vaccine       3.000\n",
       "Name: 1077, dtype: float64"
      ]
     },
     "execution_count": 23,
     "metadata": {},
     "output_type": "execute_result"
    }
   ],
   "source": [
    "incompl_inf_pops=np.array(pops_output.loc[trial_end_date, ['incompl_infected_study_aggregate_vaccine', 'incompl_infected_placebo_aggregate_vaccine']])\n",
    "pops_output.loc[trial_end_date, ['Tick', 'incompl_infected_study_aggregate_vaccine', 'incompl_infected_placebo_aggregate_vaccine']]"
   ]
  },
  {
   "cell_type": "markdown",
   "metadata": {},
   "source": [
    "### Workload"
   ]
  },
  {
   "cell_type": "code",
   "execution_count": 24,
   "metadata": {},
   "outputs": [],
   "source": [
    "#TODO = monthly work by category: recuitment, follow-up, follow-up2\n",
    "pops_output['Month'] = pops_output['Tick'] / 30\n",
    "pops_output['Month'] = round(pops_output['Month'] + 1)\n",
    "#pops_output['Month']"
   ]
  },
  {
   "cell_type": "code",
   "execution_count": 25,
   "metadata": {},
   "outputs": [],
   "source": [
    "#TODO: we need daily statistics in APK for totals by stage"
   ]
  },
  {
   "cell_type": "markdown",
   "metadata": {},
   "source": [
    "### Recruitment and Drop out"
   ]
  },
  {
   "cell_type": "code",
   "execution_count": 26,
   "metadata": {},
   "outputs": [],
   "source": [
    "recruited = pops_output[['Tick', 'started_study_aggregate_vaccine', 'started_study_aggregate_vaccine']]\n",
    "recruited.columns = ['day', 'study_total', 'placebo_total']\n",
    "recruited.set_index('day')\n",
    "recruited = recruited.iloc[0:600]"
   ]
  },
  {
   "cell_type": "code",
   "execution_count": 27,
   "metadata": {},
   "outputs": [
    {
     "data": {
      "image/png": "[encoded data removed]",
      "text/plain": [
       "<Figure size 432x288 with 1 Axes>"
      ]
     },
     "metadata": {
      "needs_background": "light"
     },
     "output_type": "display_data"
    }
   ],
   "source": [
    "ax=recruited.plot(y='study_total', x='day')\n",
    "recruited.plot(y='placebo_total', x='day', ax=ax)\n",
    "plt.show()"
   ]
  },
  {
   "cell_type": "code",
   "execution_count": 28,
   "metadata": {},
   "outputs": [],
   "source": [
    "dropouts = pops_output[['Tick', 'quit_study_aggregate_vaccine', 'quit_placebo_aggregate_vaccine']]\n",
    "dropouts.columns = ['day', 'study_total_quit', 'placebo_total_quit']\n",
    "dropouts.set_index('day');"
   ]
  },
  {
   "cell_type": "code",
   "execution_count": 29,
   "metadata": {},
   "outputs": [
    {
     "data": {
      "text/plain": [
       "0.263715710723192"
      ]
     },
     "execution_count": 29,
     "metadata": {},
     "output_type": "execute_result"
    }
   ],
   "source": [
    "d_study = dropouts.iloc[trial_end_date]['study_total_quit'] / pops_output.loc[trial_end_date]['started_study_aggregate_vaccine']\n",
    "d_study"
   ]
  },
  {
   "cell_type": "code",
   "execution_count": 30,
   "metadata": {},
   "outputs": [
    {
     "data": {
      "text/plain": [
       "0.25327510917030566"
      ]
     },
     "execution_count": 30,
     "metadata": {},
     "output_type": "execute_result"
    }
   ],
   "source": [
    "d_placebo = dropouts.iloc[trial_end_date]['placebo_total_quit'] / pops_output.loc[trial_end_date]['started_placebo_aggregate_vaccine']\n",
    "d_placebo"
   ]
  },
  {
   "cell_type": "code",
   "execution_count": 31,
   "metadata": {},
   "outputs": [],
   "source": [
    "dropouts = dropouts.iloc[0:600]"
   ]
  },
  {
   "cell_type": "code",
   "execution_count": 32,
   "metadata": {},
   "outputs": [],
   "source": [
    "ddropouts = dropouts.diff()\n",
    "ddropouts.drop(['day'], axis=1, inplace=True)\n",
    "ddropouts.set_index(dropouts['day'])\n",
    "ddropouts.columns = ['study', 'placebo']"
   ]
  },
  {
   "cell_type": "code",
   "execution_count": 33,
   "metadata": {},
   "outputs": [
    {
     "data": {
      "image/png": "[encoded data removed]",
      "text/plain": [
       "<Figure size 432x288 with 1 Axes>"
      ]
     },
     "metadata": {
      "needs_background": "light"
     },
     "output_type": "display_data"
    }
   ],
   "source": [
    "dropouts.columns = ['day', 'study', 'placebo']\n",
    "ax=dropouts.plot(y='study', x='day', legend='study')\n",
    "dropouts.plot(y='placebo', x='day', ax=ax, legend='placebo')\n",
    "plt.show()"
   ]
  },
  {
   "cell_type": "code",
   "execution_count": 34,
   "metadata": {},
   "outputs": [
    {
     "data": {
      "image/png": "[encoded data removed]",
      "text/plain": [
       "<Figure size 432x288 with 1 Axes>"
      ]
     },
     "metadata": {
      "needs_background": "light"
     },
     "output_type": "display_data"
    }
   ],
   "source": [
    "#fig = dropouts.plot('quit_study_aggregate_vaccine')\n",
    "ax=ddropouts.plot(y='study')\n",
    "ddropouts.plot(y='placebo', ax=ax)\n",
    "plt.show()"
   ]
  },
  {
   "cell_type": "code",
   "execution_count": 35,
   "metadata": {},
   "outputs": [
    {
     "data": {
      "text/plain": [
       "<matplotlib.axes._subplots.AxesSubplot at 0x26a43f602c8>"
      ]
     },
     "execution_count": 35,
     "metadata": {},
     "output_type": "execute_result"
    },
    {
     "data": {
      "image/png": "[encoded data removed]",
      "text/plain": [
       "<Figure size 432x288 with 1 Axes>"
      ]
     },
     "metadata": {
      "needs_background": "light"
     },
     "output_type": "display_data"
    }
   ],
   "source": [
    "dropouts.plot()"
   ]
  },
  {
   "cell_type": "markdown",
   "metadata": {},
   "source": [
    "### Total completed trial per protocol"
   ]
  },
  {
   "cell_type": "code",
   "execution_count": 36,
   "metadata": {},
   "outputs": [
    {
     "name": "stdout",
     "output_type": "stream",
     "text": [
      "Study: 1118, Placebo: 1144\n"
     ]
    }
   ],
   "source": [
    "total_completed = chronic_pops + nonchronic_pops\n",
    "print('Study: %.0f, Placebo: %.0f'%(total_completed[0], total_completed[1]))"
   ]
  },
  {
   "cell_type": "markdown",
   "metadata": {},
   "source": [
    "### Results"
   ]
  },
  {
   "cell_type": "code",
   "execution_count": 37,
   "metadata": {},
   "outputs": [],
   "source": [
    "trial_contingency_table = np.reshape(np.concatenate((nonchronic_pops, chronic_pops), axis=0), newshape=(2,2))"
   ]
  },
  {
   "cell_type": "code",
   "execution_count": 38,
   "metadata": {},
   "outputs": [
    {
     "name": "stdout",
     "output_type": "stream",
     "text": [
      "Chi-square\n"
     ]
    }
   ],
   "source": [
    "print('Chi-square')\n",
    "chi2, pvalchisq, dof, expected = scipy.stats.chi2_contingency(trial_contingency_table)"
   ]
  },
  {
   "cell_type": "code",
   "execution_count": 39,
   "metadata": {},
   "outputs": [
    {
     "name": "stdout",
     "output_type": "stream",
     "text": [
      "Fisher Exact\n"
     ]
    },
    {
     "data": {
      "text/plain": [
       "0.07309797816592004"
      ]
     },
     "execution_count": 39,
     "metadata": {},
     "output_type": "execute_result"
    }
   ],
   "source": [
    "print('Fisher Exact')\n",
    "fisher, fisherpval = scipy.stats.fisher_exact(trial_contingency_table)\n",
    "fisherpval"
   ]
  },
  {
   "cell_type": "markdown",
   "metadata": {},
   "source": [
    "## Vaccine efficacy:\n",
    "$$ VE_𝑎 = 1 − 𝑎_{vaccine}/𝑎_{placebo} $$"
   ]
  },
  {
   "cell_type": "markdown",
   "metadata": {},
   "source": [
    "In our case, we are interested in the prevention of chronic infection.  Therefore, we calculate:\n",
    "$a_{vaccine} = $(HCV chronic vaccinees) / (total vaccinees)\n",
    "\n",
    "and similarly for the placebo group"
   ]
  },
  {
   "cell_type": "code",
   "execution_count": 40,
   "metadata": {},
   "outputs": [
    {
     "data": {
      "text/plain": [
       "0.025044722719141325"
      ]
     },
     "execution_count": 40,
     "metadata": {},
     "output_type": "execute_result"
    }
   ],
   "source": [
    "a_study = (chronic_pops[0] / total_completed[0])\n",
    "a_study"
   ]
  },
  {
   "cell_type": "code",
   "execution_count": 41,
   "metadata": {},
   "outputs": [
    {
     "data": {
      "text/plain": [
       "0.038461538461538464"
      ]
     },
     "execution_count": 41,
     "metadata": {},
     "output_type": "execute_result"
    }
   ],
   "source": [
    "a_placebo = (chronic_pops[1] / total_completed[1])\n",
    "a_placebo"
   ]
  },
  {
   "cell_type": "code",
   "execution_count": 42,
   "metadata": {},
   "outputs": [],
   "source": [
    "VE = 1 - (a_study/a_placebo)"
   ]
  },
  {
   "cell_type": "markdown",
   "metadata": {},
   "source": [
    "## Summary of results"
   ]
  },
  {
   "cell_type": "code",
   "execution_count": 43,
   "metadata": {},
   "outputs": [
    {
     "data": {
      "text/html": [
       "<table>\n",
       "<tbody>\n",
       "<tr><td>RESULTS D2E60 (day=1077)      </td><td>Study   </td><td>Placebo</td></tr>\n",
       "<tr><td>Recruited                     </td><td>1604    </td><td>1603   </td></tr>\n",
       "<tr><td>Received all doses            </td><td>1543    </td><td>1551   </td></tr>\n",
       "<tr><td>Infected before final         </td><td>3       </td><td>3      </td></tr>\n",
       "<tr><td>Dropout rate                  </td><td>26%     </td><td>25%    </td></tr>\n",
       "<tr><td>Still in follow-up at day 1077</td><td>3       </td><td>4      </td></tr>\n",
       "<tr><td>Chronic                       </td><td>28      </td><td>44     </td></tr>\n",
       "<tr><td>Not chronic                   </td><td>1090    </td><td>1100   </td></tr>\n",
       "<tr><td>Attack rate                   </td><td>2.5%    </td><td>3.8%   </td></tr>\n",
       "<tr><td>VE                            </td><td>34.88%  </td><td>       </td></tr>\n",
       "<tr><td>Fishers exact pval            </td><td>0.073098</td><td>       </td></tr>\n",
       "</tbody>\n",
       "</table>"
      ],
      "text/plain": [
       "<IPython.core.display.HTML object>"
      ]
     },
     "metadata": {},
     "output_type": "display_data"
    }
   ],
   "source": [
    "summarytable = [[\"RESULTS %s (day=%d)\"%(header_output['vaccine_schedule'][0],trial_end_date,),\"Study\",\"Placebo\"],\n",
    "         ['Recruited'] + ['%d'%(x,) for x in started_pops],\n",
    "         ['Received all doses'] + ['%d'%(x,) for x in enrolled_pops],\n",
    "         ['Infected before final']  + ['%d'%(x,) for x in incompl_inf_pops],\n",
    "         ['Dropout rate']  + ['%.0f%%'%(d_study*100), '%.0f%%'%(d_placebo*100)],\n",
    "         ['Still in follow-up at day %d'%(trial_end_date)] + ['%d'%(x,) for x in active_pops], \n",
    "         [\"    Chronic\"] + ['%d'%(x,) for x in chronic_pops],\n",
    "         [\"    Not chronic\"] + ['%d'%(x,) for x in nonchronic_pops],\n",
    "         [\"Attack rate\"] + ['%.1f%%'%(a_study*100), '%.1f%%'%(a_placebo*100)],\n",
    "         [\"VE\"] + [\"%.2f%%\"%(100*VE), \"\"],\n",
    "         [\"Fishers exact pval\", \"%.6f\"%fisherpval,\"\"]\n",
    "        ]\n",
    "display(HTML(tabulate.tabulate(summarytable, tablefmt='html')))"
   ]
  },
  {
   "cell_type": "code",
   "execution_count": 44,
   "metadata": {},
   "outputs": [],
   "source": [
    "with open(r'summarytable.csv', 'w') as csvfile:\n",
    "    writer = csv.writer(csvfile)\n",
    "    [writer.writerow(r) for r in summarytable]\n",
    "csvfile.close()"
   ]
  },
  {
   "cell_type": "code",
   "execution_count": 45,
   "metadata": {},
   "outputs": [
    {
     "name": "stdout",
     "output_type": "stream",
     "text": [
      "Fisher's exact test gives p=0.073098, which is not  statistically significant.  The estimated VE is 35% \n"
     ]
    }
   ],
   "source": [
    "print('Fisher\\'s exact test gives p=%.6f, which is %s statistically significant.  The estimated VE is %.f%% '%(fisherpval, '' if fisherpval<0.05 else 'not ', 100*VE,))"
   ]
  },
  {
   "cell_type": "code",
   "execution_count": null,
   "metadata": {},
   "outputs": [],
   "source": []
  },
  {
   "cell_type": "code",
   "execution_count": null,
   "metadata": {},
   "outputs": [],
   "source": []
  }
 ],
 "metadata": {
  "anaconda-cloud": {},
  "kernelspec": {
   "display_name": "Python 3",
   "language": "python",
   "name": "python3"
  },
  "language_info": {
   "codemirror_mode": {
    "name": "ipython",
    "version": 3
   },
   "file_extension": ".py",
   "mimetype": "text/x-python",
   "name": "python",
   "nbconvert_exporter": "python",
   "pygments_lexer": "ipython3",
   "version": "3.8.5"
  }
 },
 "nbformat": 4,
 "nbformat_minor": 1
}
