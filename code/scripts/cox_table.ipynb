{
 "cells": [
  {
   "cell_type": "code",
   "execution_count": 5,
   "metadata": {},
   "outputs": [],
   "source": [
    "import sys, csv, os\n",
    "import numpy as np\n",
    "import pandas as pd\n",
    "import pdb"
   ]
  },
  {
   "cell_type": "code",
   "execution_count": 6,
   "metadata": {},
   "outputs": [],
   "source": [
    "paths = {'trial1':'',\n",
    "         'trial2':r\"C:\\Users\\agutf\\Sync\\repos\\apk-development\\analysis\\vaccine_cox\\draft2\\events.csv\",\n",
    "         'trial3':r\"C:\\Users\\agutf\\Sync\\repos\\apk-development\\analysis\\vaccine_cox\\candidates\\simphony_model_1604889008444_64pc\\instance_1\\output\\events.csv\",\n",
    "         'trial4':r\"C:\\Users\\agutf\\Sync\\repos\\apk-development\\analysis\\vaccine_cox\\candidates\\simphony_model_1604882689569_35pc\\instance_1\\output\\events.csv\"}\n",
    "#toy trial\n",
    "#events_fpath = r\"C:\\Users\\agutf\\AppData\\Local\\Temp\\simphony_model_1593922625316\\instance_1\\output\\events.csv\"\n",
    "chosen_trial = 'trial4'\n",
    "#D2E60\n",
    "events_fpath = paths[chosen_trial]"
   ]
  },
  {
   "cell_type": "code",
   "execution_count": 7,
   "metadata": {},
   "outputs": [],
   "source": [
    "time_between_bleeds = 7\n",
    "reporting_frequency = time_between_bleeds/365\n",
    "#rebase_time_to_final_dose"
   ]
  },
  {
   "cell_type": "code",
   "execution_count": 8,
   "metadata": {},
   "outputs": [],
   "source": [
    "#events_file = open(events_file,'r')\n",
    "#events = csv.DictReader(events_file)"
   ]
  },
  {
   "cell_type": "code",
   "execution_count": 9,
   "metadata": {},
   "outputs": [],
   "source": [
    "#events_file.close()"
   ]
  },
  {
   "cell_type": "code",
   "execution_count": 10,
   "metadata": {},
   "outputs": [],
   "source": [
    "trial_header = pd.read_csv(events_fpath, nrows=2, header=1)"
   ]
  },
  {
   "cell_type": "code",
   "execution_count": 11,
   "metadata": {},
   "outputs": [
    {
     "data": {
      "text/html": [
       "<div>\n",
       "<style scoped>\n",
       "    .dataframe tbody tr th:only-of-type {\n",
       "        vertical-align: middle;\n",
       "    }\n",
       "\n",
       "    .dataframe tbody tr th {\n",
       "        vertical-align: top;\n",
       "    }\n",
       "\n",
       "    .dataframe thead th {\n",
       "        text-align: right;\n",
       "    }\n",
       "</style>\n",
       "<table border=\"1\" class=\"dataframe\">\n",
       "  <thead>\n",
       "    <tr style=\"text-align: right;\">\n",
       "      <th></th>\n",
       "      <th>CNEP_data_source</th>\n",
       "      <th>CNEP_plus_file</th>\n",
       "      <th>NEP_data</th>\n",
       "      <th>NHBS_data</th>\n",
       "      <th>ab_prob_acute</th>\n",
       "      <th>ab_prob_chronic</th>\n",
       "      <th>attrition_rate</th>\n",
       "      <th>burn_in_days</th>\n",
       "      <th>dump_network_distances</th>\n",
       "      <th>homophily_strength</th>\n",
       "      <th>...</th>\n",
       "      <th>vaccine_enrollment_probability_positiveinnetwork</th>\n",
       "      <th>vaccine_enrollment_probability_unbiased</th>\n",
       "      <th>vaccine_followup1_periods</th>\n",
       "      <th>vaccine_followup2_periods</th>\n",
       "      <th>vaccine_followup_purge_with_rna</th>\n",
       "      <th>vaccine_followup_weeks</th>\n",
       "      <th>vaccine_schedule</th>\n",
       "      <th>vaccine_study_arm_n</th>\n",
       "      <th>verbosity</th>\n",
       "      <th>Unnamed: 69</th>\n",
       "    </tr>\n",
       "  </thead>\n",
       "  <tbody>\n",
       "    <tr>\n",
       "      <th>0</th>\n",
       "      <td>File</td>\n",
       "      <td>data/cnep_plus_all_2018.02.13.csv</td>\n",
       "      <td>data/NEP_Risk_Base_Merge.csv</td>\n",
       "      <td>data/IDU2_HCV_model_012913_cleaned.csv</td>\n",
       "      <td>0.02</td>\n",
       "      <td>0.67</td>\n",
       "      <td>0.024</td>\n",
       "      <td>365.0</td>\n",
       "      <td>-1.0</td>\n",
       "      <td>0.7</td>\n",
       "      <td>...</td>\n",
       "      <td>1.0</td>\n",
       "      <td>0.0</td>\n",
       "      <td>18.0</td>\n",
       "      <td>9.0</td>\n",
       "      <td>0.0</td>\n",
       "      <td>4.0</td>\n",
       "      <td>D2E60</td>\n",
       "      <td>1599.0</td>\n",
       "      <td>populations+events</td>\n",
       "      <td>NaN</td>\n",
       "    </tr>\n",
       "    <tr>\n",
       "      <th>1</th>\n",
       "      <td>NOTE: we don't record failed exposure events o...</td>\n",
       "      <td>NaN</td>\n",
       "      <td>NaN</td>\n",
       "      <td>NaN</td>\n",
       "      <td>NaN</td>\n",
       "      <td>NaN</td>\n",
       "      <td>NaN</td>\n",
       "      <td>NaN</td>\n",
       "      <td>NaN</td>\n",
       "      <td>NaN</td>\n",
       "      <td>...</td>\n",
       "      <td>NaN</td>\n",
       "      <td>NaN</td>\n",
       "      <td>NaN</td>\n",
       "      <td>NaN</td>\n",
       "      <td>NaN</td>\n",
       "      <td>NaN</td>\n",
       "      <td>NaN</td>\n",
       "      <td>NaN</td>\n",
       "      <td>NaN</td>\n",
       "      <td>NaN</td>\n",
       "    </tr>\n",
       "  </tbody>\n",
       "</table>\n",
       "<p>2 rows × 70 columns</p>\n",
       "</div>"
      ],
      "text/plain": [
       "                                    CNEP_data_source  \\\n",
       "0                                               File   \n",
       "1  NOTE: we don't record failed exposure events o...   \n",
       "\n",
       "                      CNEP_plus_file                      NEP_data  \\\n",
       "0  data/cnep_plus_all_2018.02.13.csv  data/NEP_Risk_Base_Merge.csv   \n",
       "1                                NaN                           NaN   \n",
       "\n",
       "                                NHBS_data  ab_prob_acute  ab_prob_chronic  \\\n",
       "0  data/IDU2_HCV_model_012913_cleaned.csv           0.02             0.67   \n",
       "1                                     NaN            NaN              NaN   \n",
       "\n",
       "   attrition_rate  burn_in_days  dump_network_distances  homophily_strength  \\\n",
       "0           0.024         365.0                    -1.0                 0.7   \n",
       "1             NaN           NaN                     NaN                 NaN   \n",
       "\n",
       "   ...  vaccine_enrollment_probability_positiveinnetwork  \\\n",
       "0  ...                                               1.0   \n",
       "1  ...                                               NaN   \n",
       "\n",
       "   vaccine_enrollment_probability_unbiased  vaccine_followup1_periods  \\\n",
       "0                                      0.0                       18.0   \n",
       "1                                      NaN                        NaN   \n",
       "\n",
       "   vaccine_followup2_periods  vaccine_followup_purge_with_rna  \\\n",
       "0                        9.0                              0.0   \n",
       "1                        NaN                              NaN   \n",
       "\n",
       "   vaccine_followup_weeks  vaccine_schedule  vaccine_study_arm_n  \\\n",
       "0                     4.0             D2E60               1599.0   \n",
       "1                     NaN               NaN                  NaN   \n",
       "\n",
       "            verbosity  Unnamed: 69  \n",
       "0  populations+events          NaN  \n",
       "1                 NaN          NaN  \n",
       "\n",
       "[2 rows x 70 columns]"
      ]
     },
     "execution_count": 11,
     "metadata": {},
     "output_type": "execute_result"
    }
   ],
   "source": [
    "trial_header"
   ]
  },
  {
   "cell_type": "code",
   "execution_count": 12,
   "metadata": {},
   "outputs": [],
   "source": [
    "burn_in_days = trial_header.burn_in_days[0]\n",
    "vaccine_schedule = trial_header.vaccine_schedule[0]\n",
    "vaccine_enrollment_launch_day = trial_header.vaccine_enrollment_launch_day\n",
    "vaccine_trial_end_date = 1400/365.0 #external default"
   ]
  },
  {
   "cell_type": "code",
   "execution_count": 13,
   "metadata": {},
   "outputs": [],
   "source": [
    "#vaccine_trial_end_date = 2*vaccine_trial_end_date"
   ]
  },
  {
   "cell_type": "code",
   "execution_count": 14,
   "metadata": {},
   "outputs": [
    {
     "data": {
      "text/plain": [
       "'D2E60'"
      ]
     },
     "execution_count": 14,
     "metadata": {},
     "output_type": "execute_result"
    }
   ],
   "source": [
    "vaccine_schedule"
   ]
  },
  {
   "cell_type": "code",
   "execution_count": 15,
   "metadata": {},
   "outputs": [],
   "source": [
    "events = pd.read_csv(events_fpath, header=4)\n",
    "events.rename(columns={'Num Buddies':'total_network_size'}, inplace=True)"
   ]
  },
  {
   "cell_type": "code",
   "execution_count": 16,
   "metadata": {},
   "outputs": [
    {
     "data": {
      "text/html": [
       "<div>\n",
       "<style scoped>\n",
       "    .dataframe tbody tr th:only-of-type {\n",
       "        vertical-align: middle;\n",
       "    }\n",
       "\n",
       "    .dataframe tbody tr th {\n",
       "        vertical-align: top;\n",
       "    }\n",
       "\n",
       "    .dataframe thead th {\n",
       "        text-align: right;\n",
       "    }\n",
       "</style>\n",
       "<table border=\"1\" class=\"dataframe\">\n",
       "  <thead>\n",
       "    <tr style=\"text-align: right;\">\n",
       "      <th></th>\n",
       "      <th>Time</th>\n",
       "      <th>EC</th>\n",
       "      <th>Agent</th>\n",
       "      <th>Event</th>\n",
       "      <th>Info</th>\n",
       "      <th>L1</th>\n",
       "      <th>N1</th>\n",
       "      <th>L2</th>\n",
       "      <th>N2</th>\n",
       "      <th>C</th>\n",
       "      <th>...</th>\n",
       "      <th>current_total_network_size</th>\n",
       "      <th>Daily_injection_intensity</th>\n",
       "      <th>Fraction_recept_sharing</th>\n",
       "      <th>DBLabel</th>\n",
       "      <th>trial_arm</th>\n",
       "      <th>chicago_community_name</th>\n",
       "      <th>fraction_total_network_female</th>\n",
       "      <th>fraction_total_network_nh_white</th>\n",
       "      <th>fraction_total_network_inder30</th>\n",
       "      <th>mean_age_total_network</th>\n",
       "    </tr>\n",
       "  </thead>\n",
       "  <tbody>\n",
       "    <tr>\n",
       "      <th>120608</th>\n",
       "      <td>9.858</td>\n",
       "      <td>NaN</td>\n",
       "      <td>395604532</td>\n",
       "      <td>deactivated</td>\n",
       "      <td>NaN</td>\n",
       "      <td>-</td>\n",
       "      <td>-</td>\n",
       "      <td>-</td>\n",
       "      <td>-</td>\n",
       "      <td>NaN</td>\n",
       "      <td>...</td>\n",
       "      <td>0</td>\n",
       "      <td>1.333333</td>\n",
       "      <td>0.000000</td>\n",
       "      <td>537</td>\n",
       "      <td>noarm</td>\n",
       "      <td>OutsideChicago</td>\n",
       "      <td>NaN</td>\n",
       "      <td>NaN</td>\n",
       "      <td>NaN</td>\n",
       "      <td>NaN</td>\n",
       "    </tr>\n",
       "    <tr>\n",
       "      <th>120609</th>\n",
       "      <td>9.858</td>\n",
       "      <td>NaN</td>\n",
       "      <td>7549754</td>\n",
       "      <td>deactivated</td>\n",
       "      <td>NaN</td>\n",
       "      <td>-</td>\n",
       "      <td>-</td>\n",
       "      <td>-</td>\n",
       "      <td>-</td>\n",
       "      <td>NaN</td>\n",
       "      <td>...</td>\n",
       "      <td>0</td>\n",
       "      <td>8.000000</td>\n",
       "      <td>0.000000</td>\n",
       "      <td>2919</td>\n",
       "      <td>noarm</td>\n",
       "      <td>OutsideChicago</td>\n",
       "      <td>NaN</td>\n",
       "      <td>NaN</td>\n",
       "      <td>NaN</td>\n",
       "      <td>NaN</td>\n",
       "    </tr>\n",
       "    <tr>\n",
       "      <th>120610</th>\n",
       "      <td>9.858</td>\n",
       "      <td>NaN</td>\n",
       "      <td>1694354633</td>\n",
       "      <td>infected</td>\n",
       "      <td>NaN</td>\n",
       "      <td>Time_to_exposure</td>\n",
       "      <td>0.5726027397260274</td>\n",
       "      <td>-</td>\n",
       "      <td>-</td>\n",
       "      <td>NaN</td>\n",
       "      <td>...</td>\n",
       "      <td>2</td>\n",
       "      <td>3.130998</td>\n",
       "      <td>0.727596</td>\n",
       "      <td>5936</td>\n",
       "      <td>study</td>\n",
       "      <td>OutsideChicago</td>\n",
       "      <td>0.0</td>\n",
       "      <td>0.5</td>\n",
       "      <td>0.0</td>\n",
       "      <td>45.828767</td>\n",
       "    </tr>\n",
       "    <tr>\n",
       "      <th>120611</th>\n",
       "      <td>9.858</td>\n",
       "      <td>NaN</td>\n",
       "      <td>536181101</td>\n",
       "      <td>activated</td>\n",
       "      <td>NaN</td>\n",
       "      <td>-</td>\n",
       "      <td>-</td>\n",
       "      <td>-</td>\n",
       "      <td>-</td>\n",
       "      <td>NaN</td>\n",
       "      <td>...</td>\n",
       "      <td>0</td>\n",
       "      <td>3.000000</td>\n",
       "      <td>0.000000</td>\n",
       "      <td>4417</td>\n",
       "      <td>noarm</td>\n",
       "      <td>OutsideChicago</td>\n",
       "      <td>NaN</td>\n",
       "      <td>NaN</td>\n",
       "      <td>NaN</td>\n",
       "      <td>NaN</td>\n",
       "    </tr>\n",
       "    <tr>\n",
       "      <th>120612</th>\n",
       "      <td>9.858</td>\n",
       "      <td>NaN</td>\n",
       "      <td>1440828996</td>\n",
       "      <td>activated</td>\n",
       "      <td>NaN</td>\n",
       "      <td>-</td>\n",
       "      <td>-</td>\n",
       "      <td>-</td>\n",
       "      <td>-</td>\n",
       "      <td>NaN</td>\n",
       "      <td>...</td>\n",
       "      <td>0</td>\n",
       "      <td>0.533333</td>\n",
       "      <td>0.000000</td>\n",
       "      <td>2948</td>\n",
       "      <td>noarm</td>\n",
       "      <td>OutsideChicago</td>\n",
       "      <td>NaN</td>\n",
       "      <td>NaN</td>\n",
       "      <td>NaN</td>\n",
       "      <td>NaN</td>\n",
       "    </tr>\n",
       "  </tbody>\n",
       "</table>\n",
       "<p>5 rows × 30 columns</p>\n",
       "</div>"
      ],
      "text/plain": [
       "         Time  EC       Agent        Event Info                L1  \\\n",
       "120608  9.858 NaN   395604532  deactivated  NaN                 -   \n",
       "120609  9.858 NaN     7549754  deactivated  NaN                 -   \n",
       "120610  9.858 NaN  1694354633     infected  NaN  Time_to_exposure   \n",
       "120611  9.858 NaN   536181101    activated  NaN                 -   \n",
       "120612  9.858 NaN  1440828996    activated  NaN                 -   \n",
       "\n",
       "                        N1 L2 N2   C  ...  current_total_network_size  \\\n",
       "120608                   -  -  - NaN  ...                           0   \n",
       "120609                   -  -  - NaN  ...                           0   \n",
       "120610  0.5726027397260274  -  - NaN  ...                           2   \n",
       "120611                   -  -  - NaN  ...                           0   \n",
       "120612                   -  -  - NaN  ...                           0   \n",
       "\n",
       "       Daily_injection_intensity Fraction_recept_sharing  DBLabel trial_arm  \\\n",
       "120608                  1.333333                0.000000      537     noarm   \n",
       "120609                  8.000000                0.000000     2919     noarm   \n",
       "120610                  3.130998                0.727596     5936     study   \n",
       "120611                  3.000000                0.000000     4417     noarm   \n",
       "120612                  0.533333                0.000000     2948     noarm   \n",
       "\n",
       "       chicago_community_name  fraction_total_network_female  \\\n",
       "120608         OutsideChicago                            NaN   \n",
       "120609         OutsideChicago                            NaN   \n",
       "120610         OutsideChicago                            0.0   \n",
       "120611         OutsideChicago                            NaN   \n",
       "120612         OutsideChicago                            NaN   \n",
       "\n",
       "        fraction_total_network_nh_white  fraction_total_network_inder30  \\\n",
       "120608                              NaN                             NaN   \n",
       "120609                              NaN                             NaN   \n",
       "120610                              0.5                             0.0   \n",
       "120611                              NaN                             NaN   \n",
       "120612                              NaN                             NaN   \n",
       "\n",
       "        mean_age_total_network  \n",
       "120608                     NaN  \n",
       "120609                     NaN  \n",
       "120610               45.828767  \n",
       "120611                     NaN  \n",
       "120612                     NaN  \n",
       "\n",
       "[5 rows x 30 columns]"
      ]
     },
     "execution_count": 16,
     "metadata": {},
     "output_type": "execute_result"
    }
   ],
   "source": [
    "events.tail()"
   ]
  },
  {
   "cell_type": "code",
   "execution_count": 17,
   "metadata": {},
   "outputs": [
    {
     "data": {
      "text/html": [
       "<div>\n",
       "<style scoped>\n",
       "    .dataframe tbody tr th:only-of-type {\n",
       "        vertical-align: middle;\n",
       "    }\n",
       "\n",
       "    .dataframe tbody tr th {\n",
       "        vertical-align: top;\n",
       "    }\n",
       "\n",
       "    .dataframe thead th {\n",
       "        text-align: right;\n",
       "    }\n",
       "</style>\n",
       "<table border=\"1\" class=\"dataframe\">\n",
       "  <thead>\n",
       "    <tr style=\"text-align: right;\">\n",
       "      <th></th>\n",
       "      <th>Time</th>\n",
       "      <th>EC</th>\n",
       "      <th>Agent</th>\n",
       "      <th>Event</th>\n",
       "      <th>Info</th>\n",
       "      <th>L1</th>\n",
       "      <th>N1</th>\n",
       "      <th>L2</th>\n",
       "      <th>N2</th>\n",
       "      <th>C</th>\n",
       "      <th>...</th>\n",
       "      <th>current_total_network_size</th>\n",
       "      <th>Daily_injection_intensity</th>\n",
       "      <th>Fraction_recept_sharing</th>\n",
       "      <th>DBLabel</th>\n",
       "      <th>trial_arm</th>\n",
       "      <th>chicago_community_name</th>\n",
       "      <th>fraction_total_network_female</th>\n",
       "      <th>fraction_total_network_nh_white</th>\n",
       "      <th>fraction_total_network_inder30</th>\n",
       "      <th>mean_age_total_network</th>\n",
       "    </tr>\n",
       "  </thead>\n",
       "  <tbody>\n",
       "    <tr>\n",
       "      <th>34022</th>\n",
       "      <td>1.247</td>\n",
       "      <td>NaN</td>\n",
       "      <td>770432138</td>\n",
       "      <td>enteredfollowup</td>\n",
       "      <td>RNA=false;arm=study</td>\n",
       "      <td>-</td>\n",
       "      <td>-</td>\n",
       "      <td>-</td>\n",
       "      <td>-</td>\n",
       "      <td>NaN</td>\n",
       "      <td>...</td>\n",
       "      <td>2</td>\n",
       "      <td>0.236102</td>\n",
       "      <td>0.049801</td>\n",
       "      <td>7408</td>\n",
       "      <td>study</td>\n",
       "      <td>OutsideChicago</td>\n",
       "      <td>0.500000</td>\n",
       "      <td>1.000000</td>\n",
       "      <td>0.000000</td>\n",
       "      <td>36.206849</td>\n",
       "    </tr>\n",
       "    <tr>\n",
       "      <th>34024</th>\n",
       "      <td>1.247</td>\n",
       "      <td>NaN</td>\n",
       "      <td>1007672333</td>\n",
       "      <td>enteredfollowup</td>\n",
       "      <td>RNA=false;arm=placebo</td>\n",
       "      <td>-</td>\n",
       "      <td>-</td>\n",
       "      <td>-</td>\n",
       "      <td>-</td>\n",
       "      <td>NaN</td>\n",
       "      <td>...</td>\n",
       "      <td>12</td>\n",
       "      <td>5.980163</td>\n",
       "      <td>0.239044</td>\n",
       "      <td>10892</td>\n",
       "      <td>placebo</td>\n",
       "      <td>WestSide</td>\n",
       "      <td>0.333333</td>\n",
       "      <td>0.333333</td>\n",
       "      <td>0.166667</td>\n",
       "      <td>37.194521</td>\n",
       "    </tr>\n",
       "    <tr>\n",
       "      <th>34026</th>\n",
       "      <td>1.247</td>\n",
       "      <td>NaN</td>\n",
       "      <td>273570154</td>\n",
       "      <td>enteredfollowup</td>\n",
       "      <td>RNA=false;arm=study</td>\n",
       "      <td>-</td>\n",
       "      <td>-</td>\n",
       "      <td>-</td>\n",
       "      <td>-</td>\n",
       "      <td>NaN</td>\n",
       "      <td>...</td>\n",
       "      <td>2</td>\n",
       "      <td>4.196250</td>\n",
       "      <td>0.436247</td>\n",
       "      <td>11620</td>\n",
       "      <td>study</td>\n",
       "      <td>OutsideChicago</td>\n",
       "      <td>1.000000</td>\n",
       "      <td>0.500000</td>\n",
       "      <td>0.000000</td>\n",
       "      <td>37.050685</td>\n",
       "    </tr>\n",
       "    <tr>\n",
       "      <th>34028</th>\n",
       "      <td>1.247</td>\n",
       "      <td>NaN</td>\n",
       "      <td>2002807992</td>\n",
       "      <td>enteredfollowup</td>\n",
       "      <td>RNA=false;arm=placebo</td>\n",
       "      <td>-</td>\n",
       "      <td>-</td>\n",
       "      <td>-</td>\n",
       "      <td>-</td>\n",
       "      <td>NaN</td>\n",
       "      <td>...</td>\n",
       "      <td>1</td>\n",
       "      <td>3.539556</td>\n",
       "      <td>0.471181</td>\n",
       "      <td>11781</td>\n",
       "      <td>placebo</td>\n",
       "      <td>OutsideChicago</td>\n",
       "      <td>1.000000</td>\n",
       "      <td>1.000000</td>\n",
       "      <td>1.000000</td>\n",
       "      <td>29.093151</td>\n",
       "    </tr>\n",
       "    <tr>\n",
       "      <th>34030</th>\n",
       "      <td>1.247</td>\n",
       "      <td>NaN</td>\n",
       "      <td>549480026</td>\n",
       "      <td>enteredfollowup</td>\n",
       "      <td>RNA=false;arm=study</td>\n",
       "      <td>-</td>\n",
       "      <td>-</td>\n",
       "      <td>-</td>\n",
       "      <td>-</td>\n",
       "      <td>NaN</td>\n",
       "      <td>...</td>\n",
       "      <td>1</td>\n",
       "      <td>1.758938</td>\n",
       "      <td>0.635202</td>\n",
       "      <td>9577</td>\n",
       "      <td>study</td>\n",
       "      <td>WestSide</td>\n",
       "      <td>1.000000</td>\n",
       "      <td>0.000000</td>\n",
       "      <td>0.000000</td>\n",
       "      <td>43.876712</td>\n",
       "    </tr>\n",
       "  </tbody>\n",
       "</table>\n",
       "<p>5 rows × 30 columns</p>\n",
       "</div>"
      ],
      "text/plain": [
       "        Time  EC       Agent            Event                   Info L1 N1 L2  \\\n",
       "34022  1.247 NaN   770432138  enteredfollowup    RNA=false;arm=study  -  -  -   \n",
       "34024  1.247 NaN  1007672333  enteredfollowup  RNA=false;arm=placebo  -  -  -   \n",
       "34026  1.247 NaN   273570154  enteredfollowup    RNA=false;arm=study  -  -  -   \n",
       "34028  1.247 NaN  2002807992  enteredfollowup  RNA=false;arm=placebo  -  -  -   \n",
       "34030  1.247 NaN   549480026  enteredfollowup    RNA=false;arm=study  -  -  -   \n",
       "\n",
       "      N2   C  ...  current_total_network_size Daily_injection_intensity  \\\n",
       "34022  - NaN  ...                           2                  0.236102   \n",
       "34024  - NaN  ...                          12                  5.980163   \n",
       "34026  - NaN  ...                           2                  4.196250   \n",
       "34028  - NaN  ...                           1                  3.539556   \n",
       "34030  - NaN  ...                           1                  1.758938   \n",
       "\n",
       "      Fraction_recept_sharing  DBLabel trial_arm chicago_community_name  \\\n",
       "34022                0.049801     7408     study         OutsideChicago   \n",
       "34024                0.239044    10892   placebo               WestSide   \n",
       "34026                0.436247    11620     study         OutsideChicago   \n",
       "34028                0.471181    11781   placebo         OutsideChicago   \n",
       "34030                0.635202     9577     study               WestSide   \n",
       "\n",
       "       fraction_total_network_female  fraction_total_network_nh_white  \\\n",
       "34022                       0.500000                         1.000000   \n",
       "34024                       0.333333                         0.333333   \n",
       "34026                       1.000000                         0.500000   \n",
       "34028                       1.000000                         1.000000   \n",
       "34030                       1.000000                         0.000000   \n",
       "\n",
       "       fraction_total_network_inder30  mean_age_total_network  \n",
       "34022                        0.000000               36.206849  \n",
       "34024                        0.166667               37.194521  \n",
       "34026                        0.000000               37.050685  \n",
       "34028                        1.000000               29.093151  \n",
       "34030                        0.000000               43.876712  \n",
       "\n",
       "[5 rows x 30 columns]"
      ]
     },
     "execution_count": 17,
     "metadata": {},
     "output_type": "execute_result"
    }
   ],
   "source": [
    "events[events.Event == 'enteredfollowup'].head()"
   ]
  },
  {
   "cell_type": "code",
   "execution_count": 18,
   "metadata": {},
   "outputs": [
    {
     "data": {
      "text/plain": [
       "array(['susceptible', 'chronic', 'recovered', 'infectiousacute',\n",
       "       'exposed', 'vaccinated'], dtype=object)"
      ]
     },
     "execution_count": 18,
     "metadata": {},
     "output_type": "execute_result"
    }
   ],
   "source": [
    "pd.unique(events.HCV)"
   ]
  },
  {
   "cell_type": "code",
   "execution_count": 19,
   "metadata": {},
   "outputs": [],
   "source": [
    "trial_starts = events[events.Event == 'trialstarted'].copy()\n",
    "trial_starts['RNA_at_start_of_trial'] = trial_starts.Info.str.contains('RNA=true')\n",
    "trial_starts = trial_starts.drop(columns=['EC','L1','L2','N1','N2','C','Info','Event','DBLabel','HCV'])\n",
    "trial_starts = trial_starts.rename(columns={'Time':'time_entered_trial'})\n",
    "\n",
    "agent_baselines = {}\n",
    "for row in trial_starts.iterrows():\n",
    "    agent_data = row[1]\n",
    "    agent = agent_data.Agent\n",
    "    agent_baselines[agent] = agent_data"
   ]
  },
  {
   "cell_type": "code",
   "execution_count": 20,
   "metadata": {},
   "outputs": [
    {
     "data": {
      "text/plain": [
       "time_entered_trial                     2.082\n",
       "Agent                              709613653\n",
       "Age                                  40.0356\n",
       "Gender                                  Male\n",
       "Race                                Hispanic\n",
       "Zip                                    60639\n",
       "Syringe_source                            HR\n",
       "HCV_friend_preval                          0\n",
       "Age_Started                               19\n",
       "Drug_in_degree                             1\n",
       "Drug_out_degree                            0\n",
       "current_total_network_size                 1\n",
       "Daily_injection_intensity                  9\n",
       "Fraction_recept_sharing                    0\n",
       "trial_arm                              study\n",
       "chicago_community_name              WestSide\n",
       "fraction_total_network_female              0\n",
       "fraction_total_network_nh_white            0\n",
       "fraction_total_network_inder30             1\n",
       "mean_age_total_network               26.0822\n",
       "RNA_at_start_of_trial                  False\n",
       "Name: 59480, dtype: object"
      ]
     },
     "execution_count": 20,
     "metadata": {},
     "output_type": "execute_result"
    }
   ],
   "source": [
    "agent_data"
   ]
  },
  {
   "cell_type": "code",
   "execution_count": 21,
   "metadata": {},
   "outputs": [],
   "source": [
    "#trial_starts[trial_starts.Agent==254477147]"
   ]
  },
  {
   "cell_type": "code",
   "execution_count": 22,
   "metadata": {},
   "outputs": [],
   "source": [
    "events2 = events[events.Agent.isin(agent_baselines)]"
   ]
  },
  {
   "cell_type": "code",
   "execution_count": 23,
   "metadata": {},
   "outputs": [],
   "source": [
    "vaccinations = events2[(events2.Time <= vaccine_trial_end_date ) & (events2.Event == 'vaccinated')]\n",
    "agent_vaccinations = vaccinations.groupby(['Agent']).size().to_dict()"
   ]
  },
  {
   "cell_type": "code",
   "execution_count": 24,
   "metadata": {},
   "outputs": [],
   "source": [
    "ever_infected = events2[(events2.Time <= vaccine_trial_end_date ) & (events2.Event == 'infected')]\n",
    "infected_count = ever_infected.groupby(['Agent']).size().to_dict()\n",
    "#for agents with infections, count of the number of infections"
   ]
  },
  {
   "cell_type": "code",
   "execution_count": 25,
   "metadata": {},
   "outputs": [],
   "source": [
    "#ever_recovered = events2[(events2.Time <= vaccine_trial_end_date ) & (events2.Event == 'recovered')]\n",
    "#recovered_count = ever_recovered.groupby(['Agent']).size().to_dict()"
   ]
  },
  {
   "cell_type": "code",
   "execution_count": 26,
   "metadata": {},
   "outputs": [],
   "source": [
    "#events2[events2.Agent==254477147]"
   ]
  },
  {
   "cell_type": "code",
   "execution_count": 27,
   "metadata": {},
   "outputs": [],
   "source": [
    "#events2[events2.Agent == list(agent_baselines.keys())[2]]"
   ]
  },
  {
   "cell_type": "code",
   "execution_count": 28,
   "metadata": {},
   "outputs": [
    {
     "data": {
      "text/plain": [
       "array(['activated', 'trialstarted', 'vaccinated', 'trialabandoned',\n",
       "       'deactivated', 'infected', 'enteredfollowup', 'infectious',\n",
       "       'infollowup', 'chronic', 'infollowup2', 'recovered',\n",
       "       'trialcompleted'], dtype=object)"
      ]
     },
     "execution_count": 28,
     "metadata": {},
     "output_type": "execute_result"
    }
   ],
   "source": [
    "pd.unique(events2.Event)"
   ]
  },
  {
   "cell_type": "code",
   "execution_count": 29,
   "metadata": {},
   "outputs": [],
   "source": [
    "#events2[events2.Agent==293654963]"
   ]
  },
  {
   "cell_type": "code",
   "execution_count": 30,
   "metadata": {},
   "outputs": [],
   "source": [
    "#the following events do not provide new information about the RNA state or the censorship\n",
    "# if the agent becomes infected or recovered, we will retrieve it from \"infected\" and \"recovered\" events\n",
    "#  remove to simplify the parsing\n",
    "# added infectious and chronic for safety's sake\n",
    "events2 = events2[~events2.Event.isin\n",
    "                  (['activated','enteredfollowup','infollowup','infollowup2','vaccinated'])]"
   ]
  },
  {
   "cell_type": "code",
   "execution_count": 31,
   "metadata": {},
   "outputs": [
    {
     "data": {
      "text/plain": [
       "array(['trialstarted', 'trialabandoned', 'deactivated', 'infected',\n",
       "       'infectious', 'chronic', 'recovered', 'trialcompleted'],\n",
       "      dtype=object)"
      ]
     },
     "execution_count": 31,
     "metadata": {},
     "output_type": "execute_result"
    }
   ],
   "source": [
    "pd.unique(events2.Event)"
   ]
  },
  {
   "cell_type": "code",
   "execution_count": 32,
   "metadata": {},
   "outputs": [
    {
     "data": {
      "text/plain": [
       "array(['vaccinated', 'exposed', 'infectiousacute', 'chronic', 'recovered'],\n",
       "      dtype=object)"
      ]
     },
     "execution_count": 32,
     "metadata": {},
     "output_type": "execute_result"
    }
   ],
   "source": [
    "pd.unique(events2.HCV)"
   ]
  },
  {
   "cell_type": "code",
   "execution_count": 33,
   "metadata": {},
   "outputs": [],
   "source": [
    "agent_events = {}\n",
    "longest_history = 0 #needed for padding the data\n",
    "for agent in agent_baselines:\n",
    "    a_events = events2[events2.Agent == agent][['Event','HCV','Time']]\n",
    "    a_events = a_events[a_events.Time <= vaccine_trial_end_date]\n",
    "    a_events = a_events.sort_values(by=\"Time\") #just in case\n",
    "    a_events = a_events.append(pd.DataFrame([['fieldworkcompleted', '-', vaccine_trial_end_date]], columns=list(['Event','HCV', 'Time'])))\n",
    "    a_events[\"StepsFromEnrollmentStart\"] = (a_events.Time - agent_baselines[agent][\"time_entered_trial\"])/reporting_frequency\n",
    "    agent_events[agent] = a_events\n",
    "    longest_history = max(longest_history, a_events.Time.iloc[-1]-a_events.Time.iloc[0])  \n",
    "                          #min(vaccine_trial_end_date-a_events.Time.iloc[0], \n",
    "                          #    a_events.Time.iloc[-1]-a_events.Time.iloc[0]))\n"
   ]
  },
  {
   "cell_type": "code",
   "execution_count": 34,
   "metadata": {},
   "outputs": [],
   "source": [
    "#a_events"
   ]
  },
  {
   "cell_type": "code",
   "execution_count": 35,
   "metadata": {},
   "outputs": [
    {
     "name": "stdout",
     "output_type": "stream",
     "text": [
      "2.753616438356164\n",
      "143.58142857142855\n"
     ]
    }
   ],
   "source": [
    "print(longest_history)\n",
    "longest_history_len = longest_history/reporting_frequency\n",
    "print(longest_history_len)\n",
    "#for agent, a_events in agent_events.items():\n",
    "#    enrollment_start = agent_events[agent].Time.iloc[0]\n",
    "#    if a_events['Time'].iloc[-1] < longest_history:\n",
    "#        agent_events[agent] = agent_events[agent].append(pd.DataFrame([['padding', 'padding', longest_history]], columns=list(['Event','HCV', 'Time'])))\n",
    "#    agent_events[agent].sort_values(by=\"Time\", inplace=True)"
   ]
  },
  {
   "cell_type": "code",
   "execution_count": 36,
   "metadata": {},
   "outputs": [],
   "source": [
    "#agent=list(agent_events.keys())[1]"
   ]
  },
  {
   "cell_type": "code",
   "execution_count": 37,
   "metadata": {},
   "outputs": [],
   "source": [
    "#agent_events[agent]"
   ]
  },
  {
   "cell_type": "code",
   "execution_count": 38,
   "metadata": {},
   "outputs": [
    {
     "data": {
      "text/plain": [
       "array(['trialstarted', 'trialabandoned', 'deactivated', 'infected',\n",
       "       'infectious', 'chronic', 'recovered', 'trialcompleted'],\n",
       "      dtype=object)"
      ]
     },
     "execution_count": 38,
     "metadata": {},
     "output_type": "execute_result"
    }
   ],
   "source": [
    "pd.unique(events2.Event)"
   ]
  },
  {
   "cell_type": "code",
   "execution_count": 39,
   "metadata": {},
   "outputs": [
    {
     "data": {
      "text/plain": [
       "array(['vaccinated', 'exposed', 'infectiousacute', 'chronic', 'recovered'],\n",
       "      dtype=object)"
      ]
     },
     "execution_count": 39,
     "metadata": {},
     "output_type": "execute_result"
    }
   ],
   "source": [
    "pd.unique(events2.HCV)"
   ]
  },
  {
   "cell_type": "code",
   "execution_count": 40,
   "metadata": {},
   "outputs": [],
   "source": [
    "'''\n",
    "produce a sequence [+,-,-,...,lost,lost,...,padding,padding,..]\n",
    "'''\n",
    "def estimate_history(my_events, RNA_positive, target_length):\n",
    "    current_hcv = 'RNA_positive' if RNA_positive else 'RNA_negative'\n",
    "    last_hcv_reading = current_hcv #last known hcv status\n",
    "    in_tracking = True\n",
    "    #pdb.set_trace()\n",
    "    h = [] #test the correct count [current_hcv]\n",
    "    assert my_events.shape[0]>1\n",
    "    for i, new_event in enumerate(my_events.Event):\n",
    "        if i == 0:\n",
    "            continue\n",
    "        full_steps_to_new = int(my_events.StepsFromEnrollmentStart.iloc[i] - \\\n",
    "                                my_events.StepsFromEnrollmentStart.iloc[i-1])\n",
    "        h = h + [current_hcv] * full_steps_to_new\n",
    "        \n",
    "        #full_steps_to_new might be less than 1, in which case we will add nothing, but the state will change\n",
    "        if new_event in frozenset(['infected', 'infectious', 'chronic']) and in_tracking:\n",
    "            current_hcv = 'RNA_positive'\n",
    "            last_hcv_reading = current_hcv\n",
    "        elif new_event == 'recovered' and in_tracking:\n",
    "            current_hcv = 'RNA_negative'\n",
    "            last_hcv_reading = current_hcv\n",
    "        elif new_event in frozenset(['trialabandoned', 'deactivated']):\n",
    "            current_hcv = 'lost_to_followup'\n",
    "            in_tracking = False\n",
    "        elif new_event in frozenset(['trialcompleted', 'fieldworkcompleted']): \n",
    "            break\n",
    "        elif not in_tracking:\n",
    "            continue\n",
    "        else:\n",
    "            print(new_event)\n",
    "            pdb.set_trace()\n",
    "\n",
    "            assert False\n",
    "        #invariant: h contains all the records up to my_events.StepsFrom[i]. current_hcv is the new state\n",
    "    \n",
    "    h = h + ['padding']*int(target_length-len(h))\n",
    "    \n",
    "    #pdb.set_trace()\n",
    "    #print(len(h))\n",
    "    return h, last_hcv_reading"
   ]
  },
  {
   "cell_type": "code",
   "execution_count": 41,
   "metadata": {},
   "outputs": [],
   "source": [
    "#estimate_history(list(agent_events.values())[2], \n",
    "#                 agent_baselines[agent]['RNA_at_start_of_trial'], \n",
    "#                 longest_history_len)"
   ]
  },
  {
   "cell_type": "code",
   "execution_count": 42,
   "metadata": {},
   "outputs": [],
   "source": [
    "#list(agent_events.values())[2]"
   ]
  },
  {
   "cell_type": "code",
   "execution_count": 43,
   "metadata": {
    "scrolled": false
   },
   "outputs": [],
   "source": [
    "agent_histories = {}\n",
    "for agent, a_events in agent_events.items():\n",
    "    agent_baselines[agent]['doses_received'] = agent_vaccinations[agent]\n",
    "    \n",
    "    regular_history, last_hcv_reading = estimate_history(a_events, \n",
    "                                                 agent_baselines[agent]['RNA_at_start_of_trial'],\n",
    "                                                 longest_history_len)\n",
    "\n",
    "    agent_baselines[agent]['nonchronic_abpos_at_final_reading']   = \\\n",
    "               (agent_baselines[agent]['trial_arm'] == 'study' and last_hcv_reading == 'RNA_negative') or \\\n",
    "               (agent_baselines[agent]['trial_arm'] == 'placebo' and (agent in infected_count) and last_hcv_reading == 'RNA_negative')\n",
    "    #print(agent_baselines[agent]['nonchronic_abpos_at_final_reading'])\n",
    "    #print(agent_baselines[agent]['trial_arm'])\n",
    "    #print(agent in infected_count)\n",
    "    #print(last_hcv_reading)\n",
    "    \n",
    "    agent_histories[agent] = agent_baselines[agent].append(pd.Series(regular_history))"
   ]
  },
  {
   "cell_type": "code",
   "execution_count": 44,
   "metadata": {},
   "outputs": [],
   "source": [
    "#agent_histories[agent]"
   ]
  },
  {
   "cell_type": "code",
   "execution_count": 45,
   "metadata": {},
   "outputs": [
    {
     "data": {
      "text/html": [
       "<div>\n",
       "<style scoped>\n",
       "    .dataframe tbody tr th:only-of-type {\n",
       "        vertical-align: middle;\n",
       "    }\n",
       "\n",
       "    .dataframe tbody tr th {\n",
       "        vertical-align: top;\n",
       "    }\n",
       "\n",
       "    .dataframe thead th {\n",
       "        text-align: right;\n",
       "    }\n",
       "</style>\n",
       "<table border=\"1\" class=\"dataframe\">\n",
       "  <thead>\n",
       "    <tr style=\"text-align: right;\">\n",
       "      <th></th>\n",
       "      <th>Event</th>\n",
       "      <th>HCV</th>\n",
       "      <th>Time</th>\n",
       "      <th>StepsFromEnrollmentStart</th>\n",
       "    </tr>\n",
       "  </thead>\n",
       "  <tbody>\n",
       "    <tr>\n",
       "      <th>59480</th>\n",
       "      <td>trialstarted</td>\n",
       "      <td>vaccinated</td>\n",
       "      <td>2.082000</td>\n",
       "      <td>0.000000</td>\n",
       "    </tr>\n",
       "    <tr>\n",
       "      <th>101743</th>\n",
       "      <td>trialcompleted</td>\n",
       "      <td>vaccinated</td>\n",
       "      <td>3.625000</td>\n",
       "      <td>80.456429</td>\n",
       "    </tr>\n",
       "    <tr>\n",
       "      <th>0</th>\n",
       "      <td>fieldworkcompleted</td>\n",
       "      <td>-</td>\n",
       "      <td>3.835616</td>\n",
       "      <td>91.438571</td>\n",
       "    </tr>\n",
       "  </tbody>\n",
       "</table>\n",
       "</div>"
      ],
      "text/plain": [
       "                     Event         HCV      Time  StepsFromEnrollmentStart\n",
       "59480         trialstarted  vaccinated  2.082000                  0.000000\n",
       "101743      trialcompleted  vaccinated  3.625000                 80.456429\n",
       "0       fieldworkcompleted           -  3.835616                 91.438571"
      ]
     },
     "execution_count": 45,
     "metadata": {},
     "output_type": "execute_result"
    }
   ],
   "source": [
    "a_events"
   ]
  },
  {
   "cell_type": "code",
   "execution_count": 46,
   "metadata": {},
   "outputs": [
    {
     "data": {
      "text/plain": [
       "time_entered_trial        2.082\n",
       "Agent                 709613653\n",
       "Age                     40.0356\n",
       "Gender                     Male\n",
       "Race                   Hispanic\n",
       "                        ...    \n",
       "138                     padding\n",
       "139                     padding\n",
       "140                     padding\n",
       "141                     padding\n",
       "142                     padding\n",
       "Length: 166, dtype: object"
      ]
     },
     "execution_count": 46,
     "metadata": {},
     "output_type": "execute_result"
    }
   ],
   "source": [
    "agent_histories[agent]"
   ]
  },
  {
   "cell_type": "code",
   "execution_count": 47,
   "metadata": {},
   "outputs": [
    {
     "data": {
      "text/plain": [
       "3.835616438356164"
      ]
     },
     "execution_count": 47,
     "metadata": {},
     "output_type": "execute_result"
    }
   ],
   "source": [
    "vaccine_trial_end_date"
   ]
  },
  {
   "cell_type": "code",
   "execution_count": 48,
   "metadata": {},
   "outputs": [],
   "source": [
    "output_df = pd.DataFrame.from_dict(agent_histories, orient='columns')\n",
    "\n",
    "#agent_0 = agent_histories.keys()[0]\n",
    "#output_df.set_index(agent_baselines[agent_0].keys() + range(longest_history), inplace=True)"
   ]
  },
  {
   "cell_type": "code",
   "execution_count": 49,
   "metadata": {},
   "outputs": [
    {
     "data": {
      "text/html": [
       "<div>\n",
       "<style scoped>\n",
       "    .dataframe tbody tr th:only-of-type {\n",
       "        vertical-align: middle;\n",
       "    }\n",
       "\n",
       "    .dataframe tbody tr th {\n",
       "        vertical-align: top;\n",
       "    }\n",
       "\n",
       "    .dataframe thead th {\n",
       "        text-align: right;\n",
       "    }\n",
       "</style>\n",
       "<table border=\"1\" class=\"dataframe\">\n",
       "  <thead>\n",
       "    <tr style=\"text-align: right;\">\n",
       "      <th></th>\n",
       "      <th>770432138</th>\n",
       "      <th>1007672333</th>\n",
       "      <th>273570154</th>\n",
       "      <th>2002807992</th>\n",
       "      <th>549480026</th>\n",
       "      <th>35088813</th>\n",
       "      <th>289901099</th>\n",
       "      <th>532537952</th>\n",
       "      <th>1479258741</th>\n",
       "      <th>1726394741</th>\n",
       "      <th>...</th>\n",
       "      <th>684095337</th>\n",
       "      <th>65364501</th>\n",
       "      <th>414380720</th>\n",
       "      <th>815188323</th>\n",
       "      <th>1078420130</th>\n",
       "      <th>1301635411</th>\n",
       "      <th>347463549</th>\n",
       "      <th>1678248644</th>\n",
       "      <th>275803261</th>\n",
       "      <th>709613653</th>\n",
       "    </tr>\n",
       "  </thead>\n",
       "  <tbody>\n",
       "    <tr>\n",
       "      <th>time_entered_trial</th>\n",
       "      <td>1.082</td>\n",
       "      <td>1.082</td>\n",
       "      <td>1.082</td>\n",
       "      <td>1.082</td>\n",
       "      <td>1.082</td>\n",
       "      <td>1.082</td>\n",
       "      <td>1.082</td>\n",
       "      <td>1.082</td>\n",
       "      <td>1.082</td>\n",
       "      <td>1.085</td>\n",
       "      <td>...</td>\n",
       "      <td>2.079</td>\n",
       "      <td>2.082</td>\n",
       "      <td>2.082</td>\n",
       "      <td>2.082</td>\n",
       "      <td>2.082</td>\n",
       "      <td>2.082</td>\n",
       "      <td>2.082</td>\n",
       "      <td>2.082</td>\n",
       "      <td>2.082</td>\n",
       "      <td>2.082</td>\n",
       "    </tr>\n",
       "    <tr>\n",
       "      <th>Agent</th>\n",
       "      <td>770432138</td>\n",
       "      <td>1007672333</td>\n",
       "      <td>273570154</td>\n",
       "      <td>2002807992</td>\n",
       "      <td>549480026</td>\n",
       "      <td>35088813</td>\n",
       "      <td>289901099</td>\n",
       "      <td>532537952</td>\n",
       "      <td>1479258741</td>\n",
       "      <td>1726394741</td>\n",
       "      <td>...</td>\n",
       "      <td>684095337</td>\n",
       "      <td>65364501</td>\n",
       "      <td>414380720</td>\n",
       "      <td>815188323</td>\n",
       "      <td>1078420130</td>\n",
       "      <td>1301635411</td>\n",
       "      <td>347463549</td>\n",
       "      <td>1678248644</td>\n",
       "      <td>275803261</td>\n",
       "      <td>709613653</td>\n",
       "    </tr>\n",
       "    <tr>\n",
       "      <th>Age</th>\n",
       "      <td>34.9507</td>\n",
       "      <td>36.0658</td>\n",
       "      <td>44.5863</td>\n",
       "      <td>38.274</td>\n",
       "      <td>44.6603</td>\n",
       "      <td>26.0712</td>\n",
       "      <td>18.0658</td>\n",
       "      <td>23.1014</td>\n",
       "      <td>26.6438</td>\n",
       "      <td>35.4877</td>\n",
       "      <td>...</td>\n",
       "      <td>35.874</td>\n",
       "      <td>26.1753</td>\n",
       "      <td>27.0767</td>\n",
       "      <td>24.337</td>\n",
       "      <td>21.1068</td>\n",
       "      <td>19.0521</td>\n",
       "      <td>35.0685</td>\n",
       "      <td>31.7178</td>\n",
       "      <td>20.0603</td>\n",
       "      <td>40.0356</td>\n",
       "    </tr>\n",
       "    <tr>\n",
       "      <th>Gender</th>\n",
       "      <td>Male</td>\n",
       "      <td>Female</td>\n",
       "      <td>Male</td>\n",
       "      <td>Female</td>\n",
       "      <td>Female</td>\n",
       "      <td>Male</td>\n",
       "      <td>Male</td>\n",
       "      <td>Female</td>\n",
       "      <td>Male</td>\n",
       "      <td>Male</td>\n",
       "      <td>...</td>\n",
       "      <td>Female</td>\n",
       "      <td>Male</td>\n",
       "      <td>Male</td>\n",
       "      <td>Male</td>\n",
       "      <td>Male</td>\n",
       "      <td>Female</td>\n",
       "      <td>Male</td>\n",
       "      <td>Male</td>\n",
       "      <td>Male</td>\n",
       "      <td>Male</td>\n",
       "    </tr>\n",
       "    <tr>\n",
       "      <th>Race</th>\n",
       "      <td>Hispanic</td>\n",
       "      <td>NHBlack</td>\n",
       "      <td>NHWhite</td>\n",
       "      <td>NHBlack</td>\n",
       "      <td>NHBlack</td>\n",
       "      <td>NHWhite</td>\n",
       "      <td>NHWhite</td>\n",
       "      <td>NHWhite</td>\n",
       "      <td>NHWhite</td>\n",
       "      <td>Hispanic</td>\n",
       "      <td>...</td>\n",
       "      <td>NHBlack</td>\n",
       "      <td>NHWhite</td>\n",
       "      <td>NHBlack</td>\n",
       "      <td>NHWhite</td>\n",
       "      <td>NHWhite</td>\n",
       "      <td>NHWhite</td>\n",
       "      <td>NHWhite</td>\n",
       "      <td>NHWhite</td>\n",
       "      <td>NHWhite</td>\n",
       "      <td>Hispanic</td>\n",
       "    </tr>\n",
       "    <tr>\n",
       "      <th>...</th>\n",
       "      <td>...</td>\n",
       "      <td>...</td>\n",
       "      <td>...</td>\n",
       "      <td>...</td>\n",
       "      <td>...</td>\n",
       "      <td>...</td>\n",
       "      <td>...</td>\n",
       "      <td>...</td>\n",
       "      <td>...</td>\n",
       "      <td>...</td>\n",
       "      <td>...</td>\n",
       "      <td>...</td>\n",
       "      <td>...</td>\n",
       "      <td>...</td>\n",
       "      <td>...</td>\n",
       "      <td>...</td>\n",
       "      <td>...</td>\n",
       "      <td>...</td>\n",
       "      <td>...</td>\n",
       "      <td>...</td>\n",
       "      <td>...</td>\n",
       "    </tr>\n",
       "    <tr>\n",
       "      <th>138</th>\n",
       "      <td>lost_to_followup</td>\n",
       "      <td>padding</td>\n",
       "      <td>padding</td>\n",
       "      <td>padding</td>\n",
       "      <td>padding</td>\n",
       "      <td>padding</td>\n",
       "      <td>padding</td>\n",
       "      <td>padding</td>\n",
       "      <td>padding</td>\n",
       "      <td>lost_to_followup</td>\n",
       "      <td>...</td>\n",
       "      <td>padding</td>\n",
       "      <td>padding</td>\n",
       "      <td>padding</td>\n",
       "      <td>padding</td>\n",
       "      <td>padding</td>\n",
       "      <td>padding</td>\n",
       "      <td>padding</td>\n",
       "      <td>padding</td>\n",
       "      <td>padding</td>\n",
       "      <td>padding</td>\n",
       "    </tr>\n",
       "    <tr>\n",
       "      <th>139</th>\n",
       "      <td>lost_to_followup</td>\n",
       "      <td>padding</td>\n",
       "      <td>padding</td>\n",
       "      <td>padding</td>\n",
       "      <td>padding</td>\n",
       "      <td>padding</td>\n",
       "      <td>padding</td>\n",
       "      <td>padding</td>\n",
       "      <td>padding</td>\n",
       "      <td>lost_to_followup</td>\n",
       "      <td>...</td>\n",
       "      <td>padding</td>\n",
       "      <td>padding</td>\n",
       "      <td>padding</td>\n",
       "      <td>padding</td>\n",
       "      <td>padding</td>\n",
       "      <td>padding</td>\n",
       "      <td>padding</td>\n",
       "      <td>padding</td>\n",
       "      <td>padding</td>\n",
       "      <td>padding</td>\n",
       "    </tr>\n",
       "    <tr>\n",
       "      <th>140</th>\n",
       "      <td>lost_to_followup</td>\n",
       "      <td>padding</td>\n",
       "      <td>padding</td>\n",
       "      <td>padding</td>\n",
       "      <td>padding</td>\n",
       "      <td>padding</td>\n",
       "      <td>padding</td>\n",
       "      <td>padding</td>\n",
       "      <td>padding</td>\n",
       "      <td>lost_to_followup</td>\n",
       "      <td>...</td>\n",
       "      <td>padding</td>\n",
       "      <td>padding</td>\n",
       "      <td>padding</td>\n",
       "      <td>padding</td>\n",
       "      <td>padding</td>\n",
       "      <td>padding</td>\n",
       "      <td>padding</td>\n",
       "      <td>padding</td>\n",
       "      <td>padding</td>\n",
       "      <td>padding</td>\n",
       "    </tr>\n",
       "    <tr>\n",
       "      <th>141</th>\n",
       "      <td>lost_to_followup</td>\n",
       "      <td>padding</td>\n",
       "      <td>padding</td>\n",
       "      <td>padding</td>\n",
       "      <td>padding</td>\n",
       "      <td>padding</td>\n",
       "      <td>padding</td>\n",
       "      <td>padding</td>\n",
       "      <td>padding</td>\n",
       "      <td>lost_to_followup</td>\n",
       "      <td>...</td>\n",
       "      <td>padding</td>\n",
       "      <td>padding</td>\n",
       "      <td>padding</td>\n",
       "      <td>padding</td>\n",
       "      <td>padding</td>\n",
       "      <td>padding</td>\n",
       "      <td>padding</td>\n",
       "      <td>padding</td>\n",
       "      <td>padding</td>\n",
       "      <td>padding</td>\n",
       "    </tr>\n",
       "    <tr>\n",
       "      <th>142</th>\n",
       "      <td>padding</td>\n",
       "      <td>padding</td>\n",
       "      <td>padding</td>\n",
       "      <td>padding</td>\n",
       "      <td>padding</td>\n",
       "      <td>padding</td>\n",
       "      <td>padding</td>\n",
       "      <td>padding</td>\n",
       "      <td>padding</td>\n",
       "      <td>padding</td>\n",
       "      <td>...</td>\n",
       "      <td>padding</td>\n",
       "      <td>padding</td>\n",
       "      <td>padding</td>\n",
       "      <td>padding</td>\n",
       "      <td>padding</td>\n",
       "      <td>padding</td>\n",
       "      <td>padding</td>\n",
       "      <td>padding</td>\n",
       "      <td>padding</td>\n",
       "      <td>padding</td>\n",
       "    </tr>\n",
       "  </tbody>\n",
       "</table>\n",
       "<p>166 rows × 3207 columns</p>\n",
       "</div>"
      ],
      "text/plain": [
       "                          770432138   1007672333 273570154   2002807992  \\\n",
       "time_entered_trial             1.082       1.082      1.082       1.082   \n",
       "Agent                      770432138  1007672333  273570154  2002807992   \n",
       "Age                          34.9507     36.0658    44.5863      38.274   \n",
       "Gender                          Male      Female       Male      Female   \n",
       "Race                        Hispanic     NHBlack    NHWhite     NHBlack   \n",
       "...                              ...         ...        ...         ...   \n",
       "138                 lost_to_followup     padding    padding     padding   \n",
       "139                 lost_to_followup     padding    padding     padding   \n",
       "140                 lost_to_followup     padding    padding     padding   \n",
       "141                 lost_to_followup     padding    padding     padding   \n",
       "142                          padding     padding    padding     padding   \n",
       "\n",
       "                   549480026  35088813   289901099  532537952   1479258741  \\\n",
       "time_entered_trial      1.082      1.082      1.082      1.082       1.082   \n",
       "Agent               549480026   35088813  289901099  532537952  1479258741   \n",
       "Age                   44.6603    26.0712    18.0658    23.1014     26.6438   \n",
       "Gender                 Female       Male       Male     Female        Male   \n",
       "Race                  NHBlack    NHWhite    NHWhite    NHWhite     NHWhite   \n",
       "...                       ...        ...        ...        ...         ...   \n",
       "138                   padding    padding    padding    padding     padding   \n",
       "139                   padding    padding    padding    padding     padding   \n",
       "140                   padding    padding    padding    padding     padding   \n",
       "141                   padding    padding    padding    padding     padding   \n",
       "142                   padding    padding    padding    padding     padding   \n",
       "\n",
       "                          1726394741  ... 684095337  65364501   414380720   \\\n",
       "time_entered_trial             1.085  ...      2.079      2.082      2.082   \n",
       "Agent                     1726394741  ...  684095337   65364501  414380720   \n",
       "Age                          35.4877  ...     35.874    26.1753    27.0767   \n",
       "Gender                          Male  ...     Female       Male       Male   \n",
       "Race                        Hispanic  ...    NHBlack    NHWhite    NHBlack   \n",
       "...                              ...  ...        ...        ...        ...   \n",
       "138                 lost_to_followup  ...    padding    padding    padding   \n",
       "139                 lost_to_followup  ...    padding    padding    padding   \n",
       "140                 lost_to_followup  ...    padding    padding    padding   \n",
       "141                 lost_to_followup  ...    padding    padding    padding   \n",
       "142                          padding  ...    padding    padding    padding   \n",
       "\n",
       "                   815188323   1078420130  1301635411 347463549   1678248644  \\\n",
       "time_entered_trial      2.082       2.082       2.082      2.082       2.082   \n",
       "Agent               815188323  1078420130  1301635411  347463549  1678248644   \n",
       "Age                    24.337     21.1068     19.0521    35.0685     31.7178   \n",
       "Gender                   Male        Male      Female       Male        Male   \n",
       "Race                  NHWhite     NHWhite     NHWhite    NHWhite     NHWhite   \n",
       "...                       ...         ...         ...        ...         ...   \n",
       "138                   padding     padding     padding    padding     padding   \n",
       "139                   padding     padding     padding    padding     padding   \n",
       "140                   padding     padding     padding    padding     padding   \n",
       "141                   padding     padding     padding    padding     padding   \n",
       "142                   padding     padding     padding    padding     padding   \n",
       "\n",
       "                   275803261  709613653   \n",
       "time_entered_trial      2.082      2.082  \n",
       "Agent               275803261  709613653  \n",
       "Age                   20.0603    40.0356  \n",
       "Gender                   Male       Male  \n",
       "Race                  NHWhite   Hispanic  \n",
       "...                       ...        ...  \n",
       "138                   padding    padding  \n",
       "139                   padding    padding  \n",
       "140                   padding    padding  \n",
       "141                   padding    padding  \n",
       "142                   padding    padding  \n",
       "\n",
       "[166 rows x 3207 columns]"
      ]
     },
     "execution_count": 49,
     "metadata": {},
     "output_type": "execute_result"
    }
   ],
   "source": [
    "output_df"
   ]
  },
  {
   "cell_type": "code",
   "execution_count": 52,
   "metadata": {},
   "outputs": [
    {
     "data": {
      "text/plain": [
       "'C:\\\\Users\\\\agutf\\\\Sync\\\\repos\\\\apk-development\\\\analysis\\\\vaccine_cox\\\\candidates\\\\simphony_model_1604882689569_35pc\\\\instance_1\\\\output\\\\events.csv_history_trial4_gap7.csv'"
      ]
     },
     "execution_count": 52,
     "metadata": {},
     "output_type": "execute_result"
    }
   ],
   "source": [
    "fp = f'{events_fpath}_history_{chosen_trial}_gap{time_between_bleeds}.csv'\n",
    "fp"
   ]
  },
  {
   "cell_type": "code",
   "execution_count": 50,
   "metadata": {},
   "outputs": [],
   "source": [
    "output_df.to_csv(fp)"
   ]
  },
  {
   "cell_type": "code",
   "execution_count": 47,
   "metadata": {},
   "outputs": [
    {
     "data": {
      "text/plain": [
       "'C:\\\\Users\\\\agutf\\\\Sync\\\\repos\\\\apk-development\\\\analysis'"
      ]
     },
     "execution_count": 47,
     "metadata": {},
     "output_type": "execute_result"
    }
   ],
   "source": [
    "os.getcwd()"
   ]
  },
  {
   "cell_type": "markdown",
   "metadata": {},
   "source": [
    "-----"
   ]
  }
 ],
 "metadata": {
  "kernelspec": {
   "display_name": "Python 3",
   "language": "python",
   "name": "python3"
  },
  "language_info": {
   "codemirror_mode": {
    "name": "ipython",
    "version": 3
   },
   "file_extension": ".py",
   "mimetype": "text/x-python",
   "name": "python",
   "nbconvert_exporter": "python",
   "pygments_lexer": "ipython3",
   "version": "3.8.5"
  }
 },
 "nbformat": 4,
 "nbformat_minor": 4
}
