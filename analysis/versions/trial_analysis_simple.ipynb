{
 "cells": [
  {
   "cell_type": "markdown",
   "metadata": {},
   "source": [
    "## Analyze trial results"
   ]
  },
  {
   "cell_type": "code",
   "execution_count": 3,
   "metadata": {
    "collapsed": true
   },
   "outputs": [],
   "source": [
    "import pandas as pd\n",
    "import os, sys\n",
    "import os.path\n",
    "import numpy as np\n",
    "import scipy\n",
    "import scipy.stats"
   ]
  },
  {
   "cell_type": "code",
   "execution_count": 44,
   "metadata": {
    "collapsed": true
   },
   "outputs": [],
   "source": [
    "run_output_dir = '2018-05-28--02.27.37-686644481__D2a__moredata'\n",
    "file_signature = 'populations.csv'"
   ]
  },
  {
   "cell_type": "code",
   "execution_count": 48,
   "metadata": {
    "collapsed": true
   },
   "outputs": [],
   "source": [
    "trial_end_date = 1000 #the last normal recruit completes on day 958 "
   ]
  },
  {
   "cell_type": "code",
   "execution_count": 50,
   "metadata": {
    "collapsed": false
   },
   "outputs": [],
   "source": [
    "pops_file = [s for s in os.listdir(run_output_dir) if s.find(file_signature)>-1][0]"
   ]
  },
  {
   "cell_type": "markdown",
   "metadata": {},
   "source": [
    "### Study details"
   ]
  },
  {
   "cell_type": "code",
   "execution_count": 77,
   "metadata": {
    "collapsed": false
   },
   "outputs": [
    {
     "name": "stdout",
     "output_type": "stream",
     "text": [
      "  vaccine_schedule  initial_pwid_count  vaccine_study_arm_n  \\\n",
      "0              D2a               32000                  797   \n",
      "\n",
      "   vaccine_annual_loss  vaccine_dose2_day  vaccine_dose3_day  \\\n",
      "0                  0.2               60.0              180.0   \n",
      "\n",
      "   vaccine_enrollment_duration_days  vaccine_enrollment_launch_day  \\\n",
      "0                               365                           30.0   \n",
      "\n",
      "   vaccine_enrollment_probability_positiveinnetwork  \\\n",
      "0                                               1.0   \n",
      "\n",
      "   vaccine_enrollment_probability_unbiased  vaccine_followup1_periods  \\\n",
      "0                                      0.0                         18   \n",
      "\n",
      "   vaccine_followup2_periods  vaccine_followup_weeks  \n",
      "0                          9                     4.0  \n"
     ]
    }
   ],
   "source": [
    "header_output = pd.read_csv(os.path.join(run_output_dir, pops_file), nrows=1, header=1)\n",
    "print(header_output[['vaccine_schedule', 'initial_pwid_count', 'vaccine_study_arm_n', 'vaccine_annual_loss', 'vaccine_dose2_day', 'vaccine_dose3_day', 'vaccine_enrollment_duration_days', 'vaccine_enrollment_launch_day', 'vaccine_enrollment_probability_positiveinnetwork', 'vaccine_enrollment_probability_unbiased', 'vaccine_followup1_periods', 'vaccine_followup2_periods', 'vaccine_followup_weeks']\n",
    "])"
   ]
  },
  {
   "cell_type": "markdown",
   "metadata": {},
   "source": [
    "### Populations"
   ]
  },
  {
   "cell_type": "code",
   "execution_count": 52,
   "metadata": {
    "collapsed": false
   },
   "outputs": [],
   "source": [
    "pops_output = pd.read_csv(os.path.join(run_output_dir, pops_file), header=3)"
   ]
  },
  {
   "cell_type": "code",
   "execution_count": 53,
   "metadata": {
    "collapsed": false
   },
   "outputs": [
    {
     "data": {
      "text/plain": [
       "Index(['BurnInMode', 'Tick', 'Year', 'incidence_daily', 'aggregate_courses',\n",
       "       'recr_study_aggregate_vaccine', 'cmpl_study_chronic_aggregate_vaccine',\n",
       "       'recr_placebo_aggregate_vaccine', 'losses_daily',\n",
       "       'cmpl_study_notchronic_aggregate_vaccine',\n",
       "       ...\n",
       "       'fraction_VaccineArm=noarm', 'hcvabpos_VaccineArm=noarm',\n",
       "       'infected_VaccineArm=noarm', 'chronic_VaccineArm=noarm',\n",
       "       'population_VaccineArm=noarm', 'ABpreval_VaccineArm=noarm',\n",
       "       'RNApreval_VaccineArm=noarm', 'intreatment_VaccineArm=noarm',\n",
       "       'vaccinetrial_VaccineArm=noarm', 'Unnamed: 304'],\n",
       "      dtype='object', length=305)"
      ]
     },
     "execution_count": 53,
     "metadata": {},
     "output_type": "execute_result"
    }
   ],
   "source": [
    "pops_output.columns"
   ]
  },
  {
   "cell_type": "markdown",
   "metadata": {},
   "source": [
    "### Total enrolled"
   ]
  },
  {
   "cell_type": "code",
   "execution_count": 56,
   "metadata": {
    "collapsed": false
   },
   "outputs": [
    {
     "data": {
      "text/plain": [
       "Tick                              1001.001\n",
       "recr_study_aggregate_vaccine       773.000\n",
       "recr_placebo_aggregate_vaccine     768.000\n",
       "Name: 1000, dtype: float64"
      ]
     },
     "execution_count": 56,
     "metadata": {},
     "output_type": "execute_result"
    }
   ],
   "source": [
    "enrolled_pops_fields = ['recr_study_aggregate_vaccine', 'recr_placebo_aggregate_vaccine']\n",
    "enrolled_pops=np.array(pops_output.loc[trial_end_date, enrolled_pops_fields])\n",
    "pops_output.loc[trial_end_date, ['Tick'] + enrolled_pops_fields]"
   ]
  },
  {
   "cell_type": "markdown",
   "metadata": {},
   "source": [
    "### Still in follow-up (should be small)"
   ]
  },
  {
   "cell_type": "code",
   "execution_count": 65,
   "metadata": {
    "collapsed": false
   },
   "outputs": [
    {
     "data": {
      "text/plain": [
       "Tick                               1001.001\n",
       "vaccinetrial_VaccineArm=study         4.000\n",
       "vaccinetrial_VaccineArm=placebo       6.000\n",
       "Name: 1000, dtype: float64"
      ]
     },
     "execution_count": 65,
     "metadata": {},
     "output_type": "execute_result"
    }
   ],
   "source": [
    "active_pops_fields = ['vaccinetrial_VaccineArm=study', 'vaccinetrial_VaccineArm=placebo']\n",
    "active_pops=np.array(pops_output.loc[trial_end_date, active_pops_fields])\n",
    "pops_output.loc[trial_end_date, ['Tick'] + active_pops_fields]"
   ]
  },
  {
   "cell_type": "markdown",
   "metadata": {},
   "source": [
    "### Infection status"
   ]
  },
  {
   "cell_type": "code",
   "execution_count": 58,
   "metadata": {
    "collapsed": true
   },
   "outputs": [],
   "source": [
    "## note: cmpl_ variables are accumulators inside the simulation, and are valid even if individuals leave the simulation"
   ]
  },
  {
   "cell_type": "markdown",
   "metadata": {},
   "source": [
    "#### chronic"
   ]
  },
  {
   "cell_type": "code",
   "execution_count": 59,
   "metadata": {
    "collapsed": false
   },
   "outputs": [
    {
     "data": {
      "text/plain": [
       "Tick                                      1001.001\n",
       "cmpl_study_chronic_aggregate_vaccine        20.000\n",
       "cmpl_placebo_chronic_aggregate_vaccine      28.000\n",
       "Name: 1000, dtype: float64"
      ]
     },
     "execution_count": 59,
     "metadata": {},
     "output_type": "execute_result"
    }
   ],
   "source": [
    "chronic_pops=np.array(pops_output.loc[trial_end_date, ['cmpl_study_chronic_aggregate_vaccine', 'cmpl_placebo_chronic_aggregate_vaccine']])\n",
    "pops_output.loc[trial_end_date, ['Tick', 'cmpl_study_chronic_aggregate_vaccine', 'cmpl_placebo_chronic_aggregate_vaccine']]"
   ]
  },
  {
   "cell_type": "markdown",
   "metadata": {},
   "source": [
    "#### not chronic"
   ]
  },
  {
   "cell_type": "code",
   "execution_count": 66,
   "metadata": {
    "collapsed": false
   },
   "outputs": [
    {
     "data": {
      "text/plain": [
       "Tick                                         1001.001\n",
       "cmpl_study_notchronic_aggregate_vaccine       553.000\n",
       "cmpl_placebo_notchronic_aggregate_vaccine     512.000\n",
       "Name: 1000, dtype: float64"
      ]
     },
     "execution_count": 66,
     "metadata": {},
     "output_type": "execute_result"
    }
   ],
   "source": [
    "nonchronic_pops=np.array(pops_output.loc[trial_end_date, ['cmpl_study_notchronic_aggregate_vaccine', 'cmpl_placebo_notchronic_aggregate_vaccine']])\n",
    "pops_output.loc[trial_end_date, ['Tick', 'cmpl_study_notchronic_aggregate_vaccine', 'cmpl_placebo_notchronic_aggregate_vaccine']]"
   ]
  },
  {
   "cell_type": "markdown",
   "metadata": {},
   "source": [
    "### Total completed trial per protocol"
   ]
  },
  {
   "cell_type": "code",
   "execution_count": 69,
   "metadata": {
    "collapsed": false
   },
   "outputs": [
    {
     "name": "stdout",
     "output_type": "stream",
     "text": [
      "Study: 573, Placebo: 540\n"
     ]
    }
   ],
   "source": [
    "total_completed = chronic_pops + nonchronic_pops\n",
    "print('Study: %.0f, Placebo: %.0f'%(total_completed[0], total_completed[1]))"
   ]
  },
  {
   "cell_type": "markdown",
   "metadata": {},
   "source": [
    "Note: it's a minor mystery why they are slightly unbalanced.  The"
   ]
  },
  {
   "cell_type": "markdown",
   "metadata": {},
   "source": [
    "### Results"
   ]
  },
  {
   "cell_type": "code",
   "execution_count": 80,
   "metadata": {
    "collapsed": false
   },
   "outputs": [],
   "source": [
    "trial_contingency_table = np.reshape(np.concatenate((nonchronic_pops, chronic_pops), axis=0), newshape=(2,2))"
   ]
  },
  {
   "cell_type": "code",
   "execution_count": 81,
   "metadata": {
    "collapsed": false
   },
   "outputs": [
    {
     "data": {
      "text/plain": [
       "(1.5461032705955524, 0.21371162686538592, array([[ 548.2884097,  516.7115903],\n",
       "        [  24.7115903,   23.2884097]]))"
      ]
     },
     "execution_count": 81,
     "metadata": {},
     "output_type": "execute_result"
    }
   ],
   "source": [
    "chi2, p, dof, expected = scipy.stats.chi2_contingency(trial_contingency_table)\n",
    "chi2, p, expected"
   ]
  },
  {
   "cell_type": "markdown",
   "metadata": {},
   "source": [
    "## Vaccine efficacy:\n",
    "$$ VE_𝑎 = 1 − 𝑎_{vaccine}/𝑎_{placebo} $$"
   ]
  },
  {
   "cell_type": "markdown",
   "metadata": {},
   "source": [
    "In our case, we are interested in the prevention of chronic infection.  Therefore, we calculate:\n",
    "$a_{vaccine} = $(HCV chronic vaccinees) / (total vaccinees)\n",
    "\n",
    "and similarly for the placebo group"
   ]
  },
  {
   "cell_type": "code",
   "execution_count": 75,
   "metadata": {
    "collapsed": false
   },
   "outputs": [
    {
     "data": {
      "text/plain": [
       "0.034904013961605584"
      ]
     },
     "execution_count": 75,
     "metadata": {},
     "output_type": "execute_result"
    }
   ],
   "source": [
    "a_vaccine = (chronic_pops[0] / total_completed[0])\n",
    "a_vaccine"
   ]
  },
  {
   "cell_type": "code",
   "execution_count": 72,
   "metadata": {
    "collapsed": false
   },
   "outputs": [
    {
     "data": {
      "text/plain": [
       "0.05185185185185185"
      ]
     },
     "execution_count": 72,
     "metadata": {},
     "output_type": "execute_result"
    }
   ],
   "source": [
    "a_placebo = (chronic_pops[1] / total_completed[1])\n",
    "a_placebo"
   ]
  },
  {
   "cell_type": "code",
   "execution_count": 76,
   "metadata": {
    "collapsed": false
   },
   "outputs": [
    {
     "data": {
      "text/plain": [
       "0.32685115931189224"
      ]
     },
     "execution_count": 76,
     "metadata": {},
     "output_type": "execute_result"
    }
   ],
   "source": [
    "1 - (a_vaccine/a_placebo)"
   ]
  },
  {
   "cell_type": "markdown",
   "metadata": {},
   "source": [
    "# Conclusions"
   ]
  },
  {
   "cell_type": "markdown",
   "metadata": {},
   "source": [
    "* The trial failed to achieve statistically sig reduction\n",
    "* The trial failed to achieve 80% reduction in chronicity, attaining only 30%"
   ]
  },
  {
   "cell_type": "code",
   "execution_count": null,
   "metadata": {
    "collapsed": true
   },
   "outputs": [],
   "source": []
  }
 ],
 "metadata": {
  "anaconda-cloud": {},
  "kernelspec": {
   "display_name": "Python [conda root]",
   "language": "python",
   "name": "conda-root-py"
  },
  "language_info": {
   "codemirror_mode": {
    "name": "ipython",
    "version": 3
   },
   "file_extension": ".py",
   "mimetype": "text/x-python",
   "name": "python",
   "nbconvert_exporter": "python",
   "pygments_lexer": "ipython3",
   "version": "3.5.2"
  }
 },
 "nbformat": 4,
 "nbformat_minor": 1
}
