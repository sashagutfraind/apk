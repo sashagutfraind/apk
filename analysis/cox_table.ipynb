{
 "cells": [
  {
   "cell_type": "markdown",
   "metadata": {},
   "source": [
    "### Cox analysis for RCT"
   ]
  },
  {
   "cell_type": "code",
   "execution_count": 1,
   "metadata": {},
   "outputs": [
    {
     "name": "stdout",
     "output_type": "stream",
     "text": [
      "Cox analysis for RCT\n",
      "Parse an events.csv file and output a summary for each agent in the trial\n",
      "Inputs: events_fpath variable\n"
     ]
    }
   ],
   "source": [
    "print('Cox analysis for RCT')\n",
    "print('Parse an events.csv file and output a summary for each agent in the trial')\n",
    "print('Inputs: events_fpath variable')"
   ]
  },
  {
   "cell_type": "code",
   "execution_count": 2,
   "metadata": {},
   "outputs": [],
   "source": [
    "import sys, csv, os\n",
    "import numpy as np\n",
    "import pandas as pd\n",
    "import pdb"
   ]
  },
  {
   "cell_type": "code",
   "execution_count": 14,
   "metadata": {},
   "outputs": [],
   "source": [
    "#examples\n",
    "#paths = {'trial1':'',\n",
    "#         'trial2':r\"C:\\Users\\agutf\\Sync\\repos\\apk-development\\analysis\\vaccine_cox\\draft2\\events.csv\",\n",
    "#         'trial8444':r\"C:\\Users\\agutf\\Sync\\repos\\apk-development\\analysis\\vaccine_cox\\candidates\\simphony_model_1604889008444_64pc\\instance_1\\output\\events.csv\",\n",
    "#         'trial4':r\"C:\\Users\\agutf\\Sync\\repos\\apk-development\\analysis\\vaccine_cox\\candidates\\simphony_model_1604882689569_35pc\\instance_1\\output\\events.csv\",\n",
    "#         'trial85a':r\"C:\\Users\\agutf\\Sync\\repos\\apk-development\\analysis\\vaccine_cox\\candidates85pc\\simphony_model_1614483337038\\instance_1\\output\\events.csv\",\n",
    "#         'trial85b':r\"C:\\Users\\agutf\\Sync\\repos\\apk-development\\analysis\\vaccine_cox\\candidates85pc\\simphony_model_1614485140334\\instance_1\\output\\events.csv\",\n",
    "#         'trial85c':r\"C:\\Users\\agutf\\Sync\\repos\\apk-development\\analysis\\vaccine_cox\\candidates85pc\\simphony_model_1614526877900\\instance_1\\output\\events.csv\"\n",
    "#        }\n",
    "#toy trial\n",
    "events_fpath = r\"C:\\Users\\agutf\\Sync\\repos\\apk-development\\analysis\\vaccine_cox\\candidates\\simphony_model_1661546710721_2weekly\\instance_1\\output\\events.csv\"\n",
    "#events_fpath = r\"C:\\Users\\agutf\\Sync\\repos\\apk-development\\analysis\\vaccine_cox\\candidates85pc\\simphony_model_1614483337038\\instance_1\\output\\events.csv\"\n",
    "chosen_trial = 'trial721'  #wishlist: extract from dirname\n",
    "#D2E60\n",
    "#events_fpath = paths[chosen_trial]\n",
    "#chosen_trial=''"
   ]
  },
  {
   "cell_type": "code",
   "execution_count": 15,
   "metadata": {},
   "outputs": [
    {
     "name": "stdout",
     "output_type": "stream",
     "text": [
      "Reading events from: C:\\Users\\agutf\\Sync\\repos\\apk-development\\analysis\\vaccine_cox\\candidates\\simphony_model_1661546710721_2weekly\\instance_1\\output\\events.csv\n"
     ]
    }
   ],
   "source": [
    "print(\"Reading events from: \" + events_fpath)"
   ]
  },
  {
   "cell_type": "code",
   "execution_count": 16,
   "metadata": {},
   "outputs": [],
   "source": [
    "time_between_bleeds = 14 #days\n",
    "#warning: this must have the same value as vaccine_followup_weeks*7"
   ]
  },
  {
   "cell_type": "code",
   "execution_count": 17,
   "metadata": {},
   "outputs": [],
   "source": [
    "reporting_frequency = time_between_bleeds/365\n",
    "#rebase_time_to_final_dose"
   ]
  },
  {
   "cell_type": "code",
   "execution_count": 18,
   "metadata": {},
   "outputs": [
    {
     "name": "stdout",
     "output_type": "stream",
     "text": [
      "Time between simulated bleeds (days): 14\n"
     ]
    }
   ],
   "source": [
    "print(f\"Time between simulated bleeds (days): {time_between_bleeds}\")"
   ]
  },
  {
   "cell_type": "code",
   "execution_count": 19,
   "metadata": {},
   "outputs": [],
   "source": [
    "vaccine_trial_end_date = 1400/365.0 #external default"
   ]
  },
  {
   "cell_type": "code",
   "execution_count": 20,
   "metadata": {},
   "outputs": [
    {
     "name": "stdout",
     "output_type": "stream",
     "text": [
      "vaccine_trial_end_date (years): 3.835616438356164\n"
     ]
    }
   ],
   "source": [
    "print(f\"vaccine_trial_end_date (years): {vaccine_trial_end_date}\")"
   ]
  },
  {
   "cell_type": "code",
   "execution_count": 21,
   "metadata": {},
   "outputs": [
    {
     "name": "stdout",
     "output_type": "stream",
     "text": [
      "Output file: C:\\Users\\agutf\\Sync\\repos\\apk-development\\analysis\\vaccine_cox\\candidates\\simphony_model_1661546710721_2weekly\\instance_1\\output\\events.csv_history_trial721_gap14.csv\n"
     ]
    }
   ],
   "source": [
    "output_fpath = f'{events_fpath}_history_{chosen_trial}_gap{time_between_bleeds}.csv'\n",
    "print(f\"Output file: {output_fpath}\")"
   ]
  },
  {
   "cell_type": "code",
   "execution_count": 22,
   "metadata": {},
   "outputs": [],
   "source": [
    "#events_file = open(events_file,'r')\n",
    "#events = csv.DictReader(events_file)"
   ]
  },
  {
   "cell_type": "code",
   "execution_count": 23,
   "metadata": {},
   "outputs": [],
   "source": [
    "#events_file.close()"
   ]
  },
  {
   "cell_type": "code",
   "execution_count": 24,
   "metadata": {},
   "outputs": [],
   "source": [
    "trial_header = pd.read_csv(events_fpath, nrows=2, header=1)"
   ]
  },
  {
   "cell_type": "code",
   "execution_count": 25,
   "metadata": {},
   "outputs": [],
   "source": [
    "#trial_header"
   ]
  },
  {
   "cell_type": "code",
   "execution_count": 26,
   "metadata": {},
   "outputs": [],
   "source": [
    "burn_in_days = trial_header.burn_in_days[0]\n",
    "vaccine_schedule = trial_header.vaccine_schedule[0]\n",
    "vaccine_enrollment_launch_day = trial_header.vaccine_enrollment_launch_day\n"
   ]
  },
  {
   "cell_type": "code",
   "execution_count": 27,
   "metadata": {},
   "outputs": [],
   "source": [
    "#vaccine_trial_end_date = 2*vaccine_trial_end_date"
   ]
  },
  {
   "cell_type": "code",
   "execution_count": 28,
   "metadata": {},
   "outputs": [
    {
     "name": "stdout",
     "output_type": "stream",
     "text": [
      "vaccine_schedule: D2E60\n"
     ]
    }
   ],
   "source": [
    "print(f'vaccine_schedule: {vaccine_schedule}')"
   ]
  },
  {
   "cell_type": "code",
   "execution_count": 29,
   "metadata": {},
   "outputs": [],
   "source": [
    "events = pd.read_csv(events_fpath, header=4)\n",
    "events.rename(columns={'Num Buddies':'total_network_size'}, inplace=True)"
   ]
  },
  {
   "cell_type": "code",
   "execution_count": 30,
   "metadata": {},
   "outputs": [],
   "source": [
    "#events.tail()"
   ]
  },
  {
   "cell_type": "code",
   "execution_count": 31,
   "metadata": {},
   "outputs": [],
   "source": [
    "#events[events.Event == 'enteredfollowup'].head()"
   ]
  },
  {
   "cell_type": "code",
   "execution_count": 32,
   "metadata": {},
   "outputs": [],
   "source": [
    "#pd.unique(events.HCV)"
   ]
  },
  {
   "cell_type": "code",
   "execution_count": 33,
   "metadata": {},
   "outputs": [
    {
     "name": "stdout",
     "output_type": "stream",
     "text": [
      "Agents: 3207\n"
     ]
    }
   ],
   "source": [
    "trial_starts = events[events.Event == 'trialstarted'].copy()\n",
    "trial_starts['RNA_at_start_of_trial'] = trial_starts.Info.str.contains('RNA=true')\n",
    "trial_starts = trial_starts.drop(columns=['EC','L1','L2','N1','N2','C','Info','Event','DBLabel','HCV'])\n",
    "trial_starts = trial_starts.rename(columns={'Time':'time_entered_trial'})\n",
    "\n",
    "agent_baselines = {}\n",
    "for row in trial_starts.iterrows():\n",
    "    agent_data = row[1]\n",
    "    agent = agent_data.Agent\n",
    "    agent_baselines[agent] = agent_data\n",
    "print('Agents: %d'%len(agent_baselines))"
   ]
  },
  {
   "cell_type": "code",
   "execution_count": 34,
   "metadata": {},
   "outputs": [],
   "source": [
    "#trial_starts[trial_starts.Agent==254477147]"
   ]
  },
  {
   "cell_type": "code",
   "execution_count": 35,
   "metadata": {},
   "outputs": [],
   "source": [
    "events2 = events[events.Agent.isin(agent_baselines)]"
   ]
  },
  {
   "cell_type": "code",
   "execution_count": 36,
   "metadata": {},
   "outputs": [],
   "source": [
    "vaccinations = events2[(events2.Time <= vaccine_trial_end_date ) & (events2.Event == 'vaccinated')]\n",
    "agent_vaccination_doses = vaccinations.groupby(['Agent']).size().to_dict()"
   ]
  },
  {
   "cell_type": "code",
   "execution_count": 37,
   "metadata": {},
   "outputs": [],
   "source": [
    "agent_abpos_at_enrollment = {}\n",
    "agent_vaccination_time = events2[(events2.Event == 'vaccinated')].groupby(['Agent'])['Time'].first().to_dict()\n",
    "agent_vaccination_time = {a: float(v) for a, v in agent_vaccination_time.items()}\n",
    "for event in events2.itertuples():\n",
    "    if float(event.Time) < agent_vaccination_time[event.Agent]:\n",
    "        agent_abpos_at_enrollment[event.Agent] = 'abneg' if event.HCV == 'susceptible' else 'abpos'"
   ]
  },
  {
   "cell_type": "code",
   "execution_count": 38,
   "metadata": {},
   "outputs": [],
   "source": [
    "for agent in agent_baselines:\n",
    "    agent_baselines[agent]['ABpos_at_start_of_trial'] = agent_abpos_at_enrollment[agent]\n",
    "    agent_baselines[agent]['doses_received'] = agent_vaccination_doses[agent]"
   ]
  },
  {
   "cell_type": "code",
   "execution_count": 39,
   "metadata": {},
   "outputs": [],
   "source": [
    "ever_infected = events2[(events2.Time <= vaccine_trial_end_date ) & (events2.Event == 'infected')]\n",
    "infected_roster = ever_infected.groupby(['Agent']).size().to_dict()\n",
    "#for agents with infections, count of the number of infections"
   ]
  },
  {
   "cell_type": "code",
   "execution_count": 40,
   "metadata": {},
   "outputs": [],
   "source": [
    "#ever_recovered = events2[(events2.Time <= vaccine_trial_end_date ) & (events2.Event == 'recovered')]\n",
    "#recovered_count = ever_recovered.groupby(['Agent']).size().to_dict()"
   ]
  },
  {
   "cell_type": "code",
   "execution_count": 41,
   "metadata": {},
   "outputs": [],
   "source": [
    "#events2[events2.Agent==254477147]"
   ]
  },
  {
   "cell_type": "code",
   "execution_count": 42,
   "metadata": {},
   "outputs": [],
   "source": [
    "#events2[events2.Agent == list(agent_baselines.keys())[2]]"
   ]
  },
  {
   "cell_type": "code",
   "execution_count": 43,
   "metadata": {},
   "outputs": [],
   "source": [
    "#pd.unique(events2.Event)"
   ]
  },
  {
   "cell_type": "code",
   "execution_count": 44,
   "metadata": {},
   "outputs": [],
   "source": [
    "#events2[events2.Agent==1359870546].iloc[0]"
   ]
  },
  {
   "cell_type": "code",
   "execution_count": 45,
   "metadata": {},
   "outputs": [],
   "source": [
    "#events2[events2.Agent==300460332]"
   ]
  },
  {
   "cell_type": "code",
   "execution_count": 46,
   "metadata": {},
   "outputs": [],
   "source": [
    "#the following events do not provide new information about the RNA state or the censorship, so we drop them\n",
    "# if the agent becomes infected or recovered, we will retrieve it from \"infected\" and \"recovered\" events below\n",
    "#  remove to simplify the parsing\n",
    "# retained infectious and chronic for safety's sake\n",
    "events3 = events2[~events2.Event.isin\n",
    "                  (['activated','vaccinated'])]"
   ]
  },
  {
   "cell_type": "code",
   "execution_count": 47,
   "metadata": {},
   "outputs": [],
   "source": [
    "#events3[events3.Agent==300460332]"
   ]
  },
  {
   "cell_type": "code",
   "execution_count": 48,
   "metadata": {},
   "outputs": [],
   "source": [
    "#pd.unique(events3.Event)"
   ]
  },
  {
   "cell_type": "code",
   "execution_count": 49,
   "metadata": {},
   "outputs": [],
   "source": [
    "#events2[events2.Agent==300460332]"
   ]
  },
  {
   "cell_type": "code",
   "execution_count": 50,
   "metadata": {},
   "outputs": [],
   "source": [
    "agent_events = {}\n",
    "longest_history = 0 #needed for padding the data\n",
    "for agent in agent_baselines:\n",
    "    a_events = events3[events3.Agent == agent][['Event','HCV','Info','Time']]\n",
    "    a_events = a_events[a_events.Time <= vaccine_trial_end_date]\n",
    "    a_events = a_events.sort_values(by=\"Time\") #just in case\n",
    "    a_events = a_events.append(pd.DataFrame([['fieldworkcompleted', '-', vaccine_trial_end_date]], columns=list(['Event','HCV', 'Time'])))\n",
    "    a_events[\"StepsFromEnrollmentStart\"] = (a_events.Time - agent_baselines[agent][\"time_entered_trial\"])/reporting_frequency\n",
    "    agent_events[agent] = a_events\n",
    "    if len(a_events[a_events.Event=='enteredfollowup']) > 0:\n",
    "        longest_history = max(longest_history, a_events.Time.iloc[-1]-a_events[a_events.Event=='enteredfollowup'].Time.iloc[0])  \n",
    "                          #min(vaccine_trial_end_date-a_events.Time.iloc[0], \n",
    "                          #    a_events.Time.iloc[-1]-a_events.Time.iloc[0]))\n",
    "\n",
    "longest_history_len = longest_history/reporting_frequency"
   ]
  },
  {
   "cell_type": "code",
   "execution_count": 51,
   "metadata": {},
   "outputs": [],
   "source": [
    "#a_events"
   ]
  },
  {
   "cell_type": "code",
   "execution_count": 52,
   "metadata": {},
   "outputs": [],
   "source": [
    "#agent_events[300460332]"
   ]
  },
  {
   "cell_type": "code",
   "execution_count": 53,
   "metadata": {},
   "outputs": [],
   "source": [
    "#print(longest_history)\n",
    "#longest_history_len = longest_history/reporting_frequency\n",
    "#print(longest_history_len)\n",
    "\n",
    "#for agent, a_events in agent_events.items():\n",
    "#    enrollment_start = agent_events[agent].Time.iloc[0]\n",
    "#    if a_events['Time'].iloc[-1] < longest_history:\n",
    "#        agent_events[agent] = agent_events[agent].append(pd.DataFrame([['padding', 'padding', longest_history]], columns=list(['Event','HCV', 'Time'])))\n",
    "#    agent_events[agent].sort_values(by=\"Time\", inplace=True)"
   ]
  },
  {
   "cell_type": "code",
   "execution_count": 54,
   "metadata": {},
   "outputs": [],
   "source": [
    "#agent=list(agent_events.keys())[1]"
   ]
  },
  {
   "cell_type": "code",
   "execution_count": 55,
   "metadata": {},
   "outputs": [],
   "source": [
    "#agent_events[agent]"
   ]
  },
  {
   "cell_type": "code",
   "execution_count": 56,
   "metadata": {},
   "outputs": [],
   "source": [
    "#pd.unique(events3.Event)"
   ]
  },
  {
   "cell_type": "code",
   "execution_count": 57,
   "metadata": {},
   "outputs": [],
   "source": [
    "#pd.unique(events3.HCV)"
   ]
  },
  {
   "cell_type": "code",
   "execution_count": 58,
   "metadata": {},
   "outputs": [],
   "source": [
    "'''\n",
    "produce a sequence [+,-,-,...,lost,lost,...,padding,padding,..]\n",
    "the history records all infection episodes through the end of the trial or loss with padding\n",
    "'''\n",
    "def estimate_history(agent_id, my_events, target_length):\n",
    "    h = [] #test the correct count [current_hcv]\n",
    "    last_hcv_reading = None\n",
    "    final_status = 'padding'\n",
    "    if my_events.iloc[0].Event != 'trialstarted':\n",
    "        print(f'WARNING: history for agent {agent_id} does not contain trialstarted event')\n",
    "        return h, 'Unknown'\n",
    "    for new_event in my_events.itertuples():\n",
    "        if new_event.Event in frozenset(['enteredfollowup','infollowup','infollowup2']): #involve bleeding\n",
    "            last_hcv_reading = 'RNA_positive' if 'RNA=true' in new_event.Info else 'RNA_negative'\n",
    "            h = h + [last_hcv_reading]\n",
    "        elif new_event.Event in frozenset(['trialabandoned', 'deactivated', 'fieldworkcompleted']):\n",
    "            final_status = 'lost_to_followup'\n",
    "            h = h + [final_status]\n",
    "            break\n",
    "        elif new_event.Event in frozenset(['trialcompleted']): #does not involve bleeding (19th event, normally)\n",
    "            break\n",
    "        elif new_event.Event in frozenset(['trialstarted', 'infected', 'infectious', 'recovered', 'chronic']):\n",
    "            #note: we don't use these events, and so we are entirely dependent on the bleeding events\n",
    "            continue\n",
    "        else:\n",
    "            print(f'WARNING: history for agent {agent_id} has unknown event {new_event.Event}')\n",
    "    \n",
    "    h = h + [final_status]*int(target_length-len(h))\n",
    "    \n",
    "    #pdb.set_trace()\n",
    "    return h, last_hcv_reading"
   ]
  },
  {
   "cell_type": "code",
   "execution_count": 59,
   "metadata": {},
   "outputs": [],
   "source": [
    "#agent_events[300460332]"
   ]
  },
  {
   "cell_type": "code",
   "execution_count": 60,
   "metadata": {},
   "outputs": [],
   "source": [
    "#agent=300460332\n",
    "#estimate_history(agent,\n",
    "#                 agent_events[agent], \n",
    "#                 longest_history_len)"
   ]
  },
  {
   "cell_type": "code",
   "execution_count": 61,
   "metadata": {},
   "outputs": [],
   "source": [
    "#estimate_history(list(agent_events.values())[2], \n",
    "#                 agent_baselines[agent]['RNA_at_start_of_trial'], \n",
    "#                 longest_history_len)"
   ]
  },
  {
   "cell_type": "code",
   "execution_count": 62,
   "metadata": {},
   "outputs": [],
   "source": [
    "#list(agent_events.values())[2]"
   ]
  },
  {
   "cell_type": "code",
   "execution_count": 63,
   "metadata": {
    "scrolled": false
   },
   "outputs": [],
   "source": [
    "agent_histories = {}\n",
    "for agent, a_events in agent_events.items():\n",
    "    regular_history, last_hcv_reading = estimate_history(agent, \n",
    "                                                         a_events, \n",
    "                                                         longest_history_len)\n",
    "    if regular_history == []: #very rare - e.g. rarely first event is \"deactivated\" (bug in APK)\n",
    "        continue\n",
    "    \n",
    "    agent_baselines[agent]['notinfected_and_abpos_at_final_reading']   = \\\n",
    "               (agent_baselines[agent]['trial_arm'] == 'study' and last_hcv_reading == 'RNA_negative') or \\\n",
    "               (agent_baselines[agent]['trial_arm'] == 'placebo' and (agent in infected_roster) and last_hcv_reading == 'RNA_negative')\n",
    "    #print(agent_baselines[agent]['notinfected_and_abpos_at_final_reading'])\n",
    "    #print(agent_baselines[agent]['trial_arm'])\n",
    "    #print(agent in infected_count)\n",
    "    #print(last_hcv_reading)\n",
    "    \n",
    "    agent_histories[agent] = agent_baselines[agent].append(pd.Series(regular_history))"
   ]
  },
  {
   "cell_type": "code",
   "execution_count": 64,
   "metadata": {},
   "outputs": [
    {
     "data": {
      "text/plain": [
       "42"
      ]
     },
     "execution_count": 64,
     "metadata": {},
     "output_type": "execute_result"
    }
   ],
   "source": []
  },
  {
   "cell_type": "code",
   "execution_count": 65,
   "metadata": {},
   "outputs": [
    {
     "name": "stdout",
     "output_type": "stream",
     "text": [
      "total agents parsed: 3207\n"
     ]
    }
   ],
   "source": [
    "print('total agents parsed: %d'%len(agent_histories))\n",
    "#events3[events3.Agent==1623552776]"
   ]
  },
  {
   "cell_type": "code",
   "execution_count": 66,
   "metadata": {},
   "outputs": [],
   "source": [
    "#agent_histories[1623552776]"
   ]
  },
  {
   "cell_type": "code",
   "execution_count": 67,
   "metadata": {},
   "outputs": [],
   "source": [
    "#agent_histories[agent]"
   ]
  },
  {
   "cell_type": "code",
   "execution_count": 68,
   "metadata": {},
   "outputs": [],
   "source": [
    "#a_events"
   ]
  },
  {
   "cell_type": "code",
   "execution_count": 69,
   "metadata": {},
   "outputs": [],
   "source": [
    "#a_events"
   ]
  },
  {
   "cell_type": "code",
   "execution_count": 70,
   "metadata": {},
   "outputs": [],
   "source": [
    "#agent_histories[agent]"
   ]
  },
  {
   "cell_type": "code",
   "execution_count": 71,
   "metadata": {},
   "outputs": [],
   "source": [
    "#vaccine_trial_end_date"
   ]
  },
  {
   "cell_type": "code",
   "execution_count": 72,
   "metadata": {},
   "outputs": [],
   "source": [
    "output_df = pd.DataFrame.from_dict(agent_histories, orient='columns')"
   ]
  },
  {
   "cell_type": "code",
   "execution_count": 73,
   "metadata": {},
   "outputs": [],
   "source": [
    "#agent_0 = agent_histories.keys()[0]\n",
    "#output_df.set_index(agent_baselines[agent_0].keys() + range(longest_history), inplace=True)"
   ]
  },
  {
   "cell_type": "code",
   "execution_count": 74,
   "metadata": {},
   "outputs": [],
   "source": [
    "output_df = output_df.transpose()"
   ]
  },
  {
   "cell_type": "code",
   "execution_count": 75,
   "metadata": {},
   "outputs": [],
   "source": [
    "output_df.to_csv(output_fpath)"
   ]
  },
  {
   "cell_type": "code",
   "execution_count": 76,
   "metadata": {},
   "outputs": [
    {
     "name": "stdout",
     "output_type": "stream",
     "text": [
      "Written: C:\\Users\\agutf\\Sync\\repos\\apk-development\\analysis\\vaccine_cox\\candidates\\simphony_model_1661546710721_2weekly\\instance_1\\output\\events.csv_history_trial721_gap14.csv\n"
     ]
    }
   ],
   "source": [
    "print(f'Written: {output_fpath}')"
   ]
  },
  {
   "cell_type": "code",
   "execution_count": null,
   "metadata": {},
   "outputs": [],
   "source": []
  },
  {
   "cell_type": "code",
   "execution_count": 91,
   "metadata": {},
   "outputs": [
    {
     "name": "stdout",
     "output_type": "stream",
     "text": [
      "1.082\n",
      "1606510263\n",
      "26.75890410958904\n",
      "Male\n",
      "NHWhite\n",
      "60101\n",
      "nonHR\n",
      "0.0\n",
      "18.0883518\n",
      "1.0\n",
      "0.0\n",
      "1\n",
      "6.027793295\n",
      "0.10072007599999999\n",
      "study\n",
      "OutsideChicago\n",
      "0.0\n",
      "0.0\n",
      "1.0\n",
      "23.279452054794522\n",
      "False\n",
      "abneg\n",
      "2\n",
      "True\n",
      "RNA_negative\n",
      "RNA_negative\n",
      "RNA_negative\n",
      "RNA_negative\n",
      "RNA_negative\n",
      "RNA_negative\n",
      "RNA_negative\n",
      "RNA_negative\n",
      "RNA_negative\n",
      "RNA_negative\n",
      "RNA_negative\n",
      "RNA_negative\n",
      "RNA_negative\n",
      "RNA_negative\n",
      "RNA_negative\n",
      "RNA_negative\n",
      "RNA_negative\n",
      "RNA_negative\n",
      "RNA_negative\n",
      "RNA_negative\n",
      "RNA_negative\n",
      "RNA_negative\n",
      "RNA_negative\n",
      "RNA_negative\n",
      "RNA_negative\n",
      "RNA_negative\n",
      "RNA_negative\n",
      "RNA_negative\n",
      "RNA_negative\n",
      "RNA_negative\n",
      "RNA_negative\n",
      "RNA_negative\n",
      "RNA_negative\n",
      "RNA_negative\n",
      "RNA_negative\n",
      "RNA_negative\n",
      "RNA_negative\n",
      "RNA_negative\n",
      "RNA_negative\n",
      "RNA_negative\n",
      "RNA_negative\n",
      "RNA_negative\n",
      "RNA_negative\n",
      "RNA_negative\n",
      "padding\n",
      "padding\n",
      "padding\n",
      "padding\n",
      "padding\n",
      "padding\n",
      "padding\n",
      "padding\n",
      "padding\n",
      "padding\n",
      "padding\n",
      "padding\n",
      "padding\n",
      "padding\n",
      "padding\n",
      "padding\n",
      "padding\n",
      "padding\n",
      "padding\n",
      "padding\n",
      "padding\n",
      "padding\n",
      "padding\n"
     ]
    },
    {
     "data": {
      "text/plain": [
       "44"
      ]
     },
     "execution_count": 91,
     "metadata": {},
     "output_type": "execute_result"
    }
   ],
   "source": [
    "sample_agent = output_df.iloc[4]\n",
    "for x in sample_agent: \n",
    "    print(x)\n",
    "len([x for x in sample_agent if str(x).find('RNA') == 0])\n"
   ]
  },
  {
   "cell_type": "code",
   "execution_count": 78,
   "metadata": {},
   "outputs": [],
   "source": [
    "#pd.read_csv(output_fpath)"
   ]
  },
  {
   "cell_type": "markdown",
   "metadata": {},
   "source": [
    "-----"
   ]
  },
  {
   "cell_type": "code",
   "execution_count": null,
   "metadata": {},
   "outputs": [],
   "source": []
  },
  {
   "cell_type": "code",
   "execution_count": null,
   "metadata": {},
   "outputs": [],
   "source": []
  }
 ],
 "metadata": {
  "kernelspec": {
   "display_name": "Python 3",
   "language": "python",
   "name": "python3"
  },
  "language_info": {
   "codemirror_mode": {
    "name": "ipython",
    "version": 3
   },
   "file_extension": ".py",
   "mimetype": "text/x-python",
   "name": "python",
   "nbconvert_exporter": "python",
   "pygments_lexer": "ipython3",
   "version": "3.8.5"
  }
 },
 "nbformat": 4,
 "nbformat_minor": 4
}
