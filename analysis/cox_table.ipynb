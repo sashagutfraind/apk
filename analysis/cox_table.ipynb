{
 "cells": [
  {
   "cell_type": "code",
   "execution_count": 1,
   "metadata": {},
   "outputs": [],
   "source": [
    "import sys, csv, os\n",
    "import numpy as np\n",
    "import pandas as pd\n",
    "import pdb"
   ]
  },
  {
   "cell_type": "code",
   "execution_count": 2,
   "metadata": {},
   "outputs": [],
   "source": [
    "paths = {'trial1':'',\n",
    "         'trial2':r\"C:\\Users\\agutf\\Sync\\repos\\apk-development\\analysis\\vaccine_cox\\draft2\\events.csv\",\n",
    "         'trial3':r\"C:\\Users\\agutf\\Sync\\repos\\apk-development\\analysis\\vaccine_cox\\candidates\\simphony_model_1604889008444_64pc\\instance_1\\output\\events.csv\",\n",
    "         'trial4':r\"C:\\Users\\agutf\\Sync\\repos\\apk-development\\analysis\\vaccine_cox\\candidates\\simphony_model_1604882689569_35pc\\instance_1\\output\\events.csv\",\n",
    "         'trial85a':r\"C:\\Users\\agutf\\Sync\\repos\\apk-development\\analysis\\vaccine_cox\\candidates85pc\\simphony_model_1614483337038\\instance_1\\output\\events.csv\",\n",
    "         'trial85b':r\"C:\\Users\\agutf\\Sync\\repos\\apk-development\\analysis\\vaccine_cox\\candidates85pc\\simphony_model_1614485140334\\instance_1\\output\\events.csv\",\n",
    "         'trial85c':r\"C:\\Users\\agutf\\Sync\\repos\\apk-development\\analysis\\vaccine_cox\\candidates85pc\\simphony_model_1614526877900\\instance_1\\output\\events.csv\"\n",
    "        }\n",
    "#toy trial\n",
    "#events_fpath = r\"C:\\Users\\agutf\\AppData\\Local\\Temp\\simphony_model_1593922625316\\instance_1\\output\\events.csv\"\n",
    "chosen_trial = 'trial85c'\n",
    "#D2E60\n",
    "events_fpath = paths[chosen_trial]"
   ]
  },
  {
   "cell_type": "code",
   "execution_count": null,
   "metadata": {},
   "outputs": [],
   "source": []
  },
  {
   "cell_type": "code",
   "execution_count": 3,
   "metadata": {},
   "outputs": [],
   "source": [
    "time_between_bleeds = 28\n",
    "reporting_frequency = time_between_bleeds/365\n",
    "#rebase_time_to_final_dose"
   ]
  },
  {
   "cell_type": "code",
   "execution_count": 4,
   "metadata": {},
   "outputs": [],
   "source": [
    "#events_file = open(events_file,'r')\n",
    "#events = csv.DictReader(events_file)"
   ]
  },
  {
   "cell_type": "code",
   "execution_count": 5,
   "metadata": {},
   "outputs": [],
   "source": [
    "#events_file.close()"
   ]
  },
  {
   "cell_type": "code",
   "execution_count": 6,
   "metadata": {},
   "outputs": [],
   "source": [
    "trial_header = pd.read_csv(events_fpath, nrows=2, header=1)"
   ]
  },
  {
   "cell_type": "code",
   "execution_count": 7,
   "metadata": {},
   "outputs": [
    {
     "data": {
      "text/html": [
       "<div>\n",
       "<style scoped>\n",
       "    .dataframe tbody tr th:only-of-type {\n",
       "        vertical-align: middle;\n",
       "    }\n",
       "\n",
       "    .dataframe tbody tr th {\n",
       "        vertical-align: top;\n",
       "    }\n",
       "\n",
       "    .dataframe thead th {\n",
       "        text-align: right;\n",
       "    }\n",
       "</style>\n",
       "<table border=\"1\" class=\"dataframe\">\n",
       "  <thead>\n",
       "    <tr style=\"text-align: right;\">\n",
       "      <th></th>\n",
       "      <th>CNEP_data_source</th>\n",
       "      <th>CNEP_plus_file</th>\n",
       "      <th>NEP_data</th>\n",
       "      <th>NHBS_data</th>\n",
       "      <th>ab_prob_acute</th>\n",
       "      <th>ab_prob_chronic</th>\n",
       "      <th>attrition_rate</th>\n",
       "      <th>burn_in_days</th>\n",
       "      <th>dump_network_distances</th>\n",
       "      <th>homophily_strength</th>\n",
       "      <th>...</th>\n",
       "      <th>vaccine_enrollment_probability_positiveinnetwork</th>\n",
       "      <th>vaccine_enrollment_probability_unbiased</th>\n",
       "      <th>vaccine_followup1_periods</th>\n",
       "      <th>vaccine_followup2_periods</th>\n",
       "      <th>vaccine_followup_purge_with_rna</th>\n",
       "      <th>vaccine_followup_weeks</th>\n",
       "      <th>vaccine_schedule</th>\n",
       "      <th>vaccine_study_arm_n</th>\n",
       "      <th>verbosity</th>\n",
       "      <th>Unnamed: 69</th>\n",
       "    </tr>\n",
       "  </thead>\n",
       "  <tbody>\n",
       "    <tr>\n",
       "      <th>0</th>\n",
       "      <td>File</td>\n",
       "      <td>data/cnep_plus_all_2018.02.13.csv</td>\n",
       "      <td>data/NEP_Risk_Base_Merge.csv</td>\n",
       "      <td>data/IDU2_HCV_model_012913_cleaned.csv</td>\n",
       "      <td>0.02</td>\n",
       "      <td>0.67</td>\n",
       "      <td>0.024</td>\n",
       "      <td>365.0</td>\n",
       "      <td>-1.0</td>\n",
       "      <td>0.7</td>\n",
       "      <td>...</td>\n",
       "      <td>1.0</td>\n",
       "      <td>0.0</td>\n",
       "      <td>18.0</td>\n",
       "      <td>9.0</td>\n",
       "      <td>0.0</td>\n",
       "      <td>4.0</td>\n",
       "      <td>D2E85</td>\n",
       "      <td>794.0</td>\n",
       "      <td>populations+events</td>\n",
       "      <td>NaN</td>\n",
       "    </tr>\n",
       "    <tr>\n",
       "      <th>1</th>\n",
       "      <td>NOTE: we don't record failed exposure events o...</td>\n",
       "      <td>NaN</td>\n",
       "      <td>NaN</td>\n",
       "      <td>NaN</td>\n",
       "      <td>NaN</td>\n",
       "      <td>NaN</td>\n",
       "      <td>NaN</td>\n",
       "      <td>NaN</td>\n",
       "      <td>NaN</td>\n",
       "      <td>NaN</td>\n",
       "      <td>...</td>\n",
       "      <td>NaN</td>\n",
       "      <td>NaN</td>\n",
       "      <td>NaN</td>\n",
       "      <td>NaN</td>\n",
       "      <td>NaN</td>\n",
       "      <td>NaN</td>\n",
       "      <td>NaN</td>\n",
       "      <td>NaN</td>\n",
       "      <td>NaN</td>\n",
       "      <td>NaN</td>\n",
       "    </tr>\n",
       "  </tbody>\n",
       "</table>\n",
       "<p>2 rows × 70 columns</p>\n",
       "</div>"
      ],
      "text/plain": [
       "                                    CNEP_data_source  \\\n",
       "0                                               File   \n",
       "1  NOTE: we don't record failed exposure events o...   \n",
       "\n",
       "                      CNEP_plus_file                      NEP_data  \\\n",
       "0  data/cnep_plus_all_2018.02.13.csv  data/NEP_Risk_Base_Merge.csv   \n",
       "1                                NaN                           NaN   \n",
       "\n",
       "                                NHBS_data  ab_prob_acute  ab_prob_chronic  \\\n",
       "0  data/IDU2_HCV_model_012913_cleaned.csv           0.02             0.67   \n",
       "1                                     NaN            NaN              NaN   \n",
       "\n",
       "   attrition_rate  burn_in_days  dump_network_distances  homophily_strength  \\\n",
       "0           0.024         365.0                    -1.0                 0.7   \n",
       "1             NaN           NaN                     NaN                 NaN   \n",
       "\n",
       "   ...  vaccine_enrollment_probability_positiveinnetwork  \\\n",
       "0  ...                                               1.0   \n",
       "1  ...                                               NaN   \n",
       "\n",
       "   vaccine_enrollment_probability_unbiased  vaccine_followup1_periods  \\\n",
       "0                                      0.0                       18.0   \n",
       "1                                      NaN                        NaN   \n",
       "\n",
       "   vaccine_followup2_periods  vaccine_followup_purge_with_rna  \\\n",
       "0                        9.0                              0.0   \n",
       "1                        NaN                              NaN   \n",
       "\n",
       "   vaccine_followup_weeks  vaccine_schedule  vaccine_study_arm_n  \\\n",
       "0                     4.0             D2E85                794.0   \n",
       "1                     NaN               NaN                  NaN   \n",
       "\n",
       "            verbosity  Unnamed: 69  \n",
       "0  populations+events          NaN  \n",
       "1                 NaN          NaN  \n",
       "\n",
       "[2 rows x 70 columns]"
      ]
     },
     "execution_count": 7,
     "metadata": {},
     "output_type": "execute_result"
    }
   ],
   "source": [
    "trial_header"
   ]
  },
  {
   "cell_type": "code",
   "execution_count": 8,
   "metadata": {},
   "outputs": [],
   "source": [
    "burn_in_days = trial_header.burn_in_days[0]\n",
    "vaccine_schedule = trial_header.vaccine_schedule[0]\n",
    "vaccine_enrollment_launch_day = trial_header.vaccine_enrollment_launch_day\n",
    "vaccine_trial_end_date = 1400/365.0 #external default"
   ]
  },
  {
   "cell_type": "code",
   "execution_count": 9,
   "metadata": {},
   "outputs": [],
   "source": [
    "#vaccine_trial_end_date = 2*vaccine_trial_end_date"
   ]
  },
  {
   "cell_type": "code",
   "execution_count": 10,
   "metadata": {},
   "outputs": [
    {
     "data": {
      "text/plain": [
       "'D2E85'"
      ]
     },
     "execution_count": 10,
     "metadata": {},
     "output_type": "execute_result"
    }
   ],
   "source": [
    "vaccine_schedule"
   ]
  },
  {
   "cell_type": "code",
   "execution_count": 11,
   "metadata": {},
   "outputs": [],
   "source": [
    "events = pd.read_csv(events_fpath, header=4)\n",
    "events.rename(columns={'Num Buddies':'total_network_size'}, inplace=True)"
   ]
  },
  {
   "cell_type": "code",
   "execution_count": 12,
   "metadata": {},
   "outputs": [
    {
     "data": {
      "text/html": [
       "<div>\n",
       "<style scoped>\n",
       "    .dataframe tbody tr th:only-of-type {\n",
       "        vertical-align: middle;\n",
       "    }\n",
       "\n",
       "    .dataframe tbody tr th {\n",
       "        vertical-align: top;\n",
       "    }\n",
       "\n",
       "    .dataframe thead th {\n",
       "        text-align: right;\n",
       "    }\n",
       "</style>\n",
       "<table border=\"1\" class=\"dataframe\">\n",
       "  <thead>\n",
       "    <tr style=\"text-align: right;\">\n",
       "      <th></th>\n",
       "      <th>Time</th>\n",
       "      <th>EC</th>\n",
       "      <th>Agent</th>\n",
       "      <th>Event</th>\n",
       "      <th>Info</th>\n",
       "      <th>L1</th>\n",
       "      <th>N1</th>\n",
       "      <th>L2</th>\n",
       "      <th>N2</th>\n",
       "      <th>C</th>\n",
       "      <th>...</th>\n",
       "      <th>current_total_network_size</th>\n",
       "      <th>Daily_injection_intensity</th>\n",
       "      <th>Fraction_recept_sharing</th>\n",
       "      <th>DBLabel</th>\n",
       "      <th>trial_arm</th>\n",
       "      <th>chicago_community_name</th>\n",
       "      <th>fraction_total_network_female</th>\n",
       "      <th>fraction_total_network_nh_white</th>\n",
       "      <th>fraction_total_network_inder30</th>\n",
       "      <th>mean_age_total_network</th>\n",
       "    </tr>\n",
       "  </thead>\n",
       "  <tbody>\n",
       "    <tr>\n",
       "      <th>90063</th>\n",
       "      <td>9.855</td>\n",
       "      <td>NaN</td>\n",
       "      <td>1955823162</td>\n",
       "      <td>infected</td>\n",
       "      <td>NaN</td>\n",
       "      <td>Time_to_exposure</td>\n",
       "      <td>0.6191780821917808</td>\n",
       "      <td>-</td>\n",
       "      <td>-</td>\n",
       "      <td>NaN</td>\n",
       "      <td>...</td>\n",
       "      <td>1</td>\n",
       "      <td>2.759514</td>\n",
       "      <td>0.622572</td>\n",
       "      <td>2237</td>\n",
       "      <td>noarm</td>\n",
       "      <td>OutsideChicago</td>\n",
       "      <td>0.0</td>\n",
       "      <td>0.0</td>\n",
       "      <td>1.0</td>\n",
       "      <td>24.816438</td>\n",
       "    </tr>\n",
       "    <tr>\n",
       "      <th>90064</th>\n",
       "      <td>9.858</td>\n",
       "      <td>NaN</td>\n",
       "      <td>1743803931</td>\n",
       "      <td>deactivated</td>\n",
       "      <td>NaN</td>\n",
       "      <td>-</td>\n",
       "      <td>-</td>\n",
       "      <td>-</td>\n",
       "      <td>-</td>\n",
       "      <td>NaN</td>\n",
       "      <td>...</td>\n",
       "      <td>1</td>\n",
       "      <td>10.707795</td>\n",
       "      <td>0.590342</td>\n",
       "      <td>1315</td>\n",
       "      <td>noarm</td>\n",
       "      <td>WestSide</td>\n",
       "      <td>1.0</td>\n",
       "      <td>1.0</td>\n",
       "      <td>0.0</td>\n",
       "      <td>34.928767</td>\n",
       "    </tr>\n",
       "    <tr>\n",
       "      <th>90065</th>\n",
       "      <td>9.858</td>\n",
       "      <td>NaN</td>\n",
       "      <td>865787432</td>\n",
       "      <td>deactivated</td>\n",
       "      <td>NaN</td>\n",
       "      <td>-</td>\n",
       "      <td>-</td>\n",
       "      <td>-</td>\n",
       "      <td>-</td>\n",
       "      <td>NaN</td>\n",
       "      <td>...</td>\n",
       "      <td>2</td>\n",
       "      <td>3.000000</td>\n",
       "      <td>0.000000</td>\n",
       "      <td>9966</td>\n",
       "      <td>noarm</td>\n",
       "      <td>WestSide</td>\n",
       "      <td>0.0</td>\n",
       "      <td>0.0</td>\n",
       "      <td>0.0</td>\n",
       "      <td>52.319178</td>\n",
       "    </tr>\n",
       "    <tr>\n",
       "      <th>90066</th>\n",
       "      <td>9.858</td>\n",
       "      <td>NaN</td>\n",
       "      <td>1355663237</td>\n",
       "      <td>deactivated</td>\n",
       "      <td>NaN</td>\n",
       "      <td>-</td>\n",
       "      <td>-</td>\n",
       "      <td>-</td>\n",
       "      <td>-</td>\n",
       "      <td>NaN</td>\n",
       "      <td>...</td>\n",
       "      <td>1</td>\n",
       "      <td>5.004710</td>\n",
       "      <td>0.437386</td>\n",
       "      <td>325</td>\n",
       "      <td>noarm</td>\n",
       "      <td>OutsideChicago</td>\n",
       "      <td>0.0</td>\n",
       "      <td>1.0</td>\n",
       "      <td>0.0</td>\n",
       "      <td>37.917808</td>\n",
       "    </tr>\n",
       "    <tr>\n",
       "      <th>90067</th>\n",
       "      <td>9.858</td>\n",
       "      <td>NaN</td>\n",
       "      <td>466854297</td>\n",
       "      <td>infectious</td>\n",
       "      <td>NaN</td>\n",
       "      <td>-</td>\n",
       "      <td>-</td>\n",
       "      <td>-</td>\n",
       "      <td>-</td>\n",
       "      <td>NaN</td>\n",
       "      <td>...</td>\n",
       "      <td>1</td>\n",
       "      <td>5.231359</td>\n",
       "      <td>0.197478</td>\n",
       "      <td>989</td>\n",
       "      <td>study</td>\n",
       "      <td>OutsideChicago</td>\n",
       "      <td>1.0</td>\n",
       "      <td>1.0</td>\n",
       "      <td>0.0</td>\n",
       "      <td>32.676712</td>\n",
       "    </tr>\n",
       "  </tbody>\n",
       "</table>\n",
       "<p>5 rows × 30 columns</p>\n",
       "</div>"
      ],
      "text/plain": [
       "        Time  EC       Agent        Event Info                L1  \\\n",
       "90063  9.855 NaN  1955823162     infected  NaN  Time_to_exposure   \n",
       "90064  9.858 NaN  1743803931  deactivated  NaN                 -   \n",
       "90065  9.858 NaN   865787432  deactivated  NaN                 -   \n",
       "90066  9.858 NaN  1355663237  deactivated  NaN                 -   \n",
       "90067  9.858 NaN   466854297   infectious  NaN                 -   \n",
       "\n",
       "                       N1 L2 N2   C  ...  current_total_network_size  \\\n",
       "90063  0.6191780821917808  -  - NaN  ...                           1   \n",
       "90064                   -  -  - NaN  ...                           1   \n",
       "90065                   -  -  - NaN  ...                           2   \n",
       "90066                   -  -  - NaN  ...                           1   \n",
       "90067                   -  -  - NaN  ...                           1   \n",
       "\n",
       "      Daily_injection_intensity Fraction_recept_sharing  DBLabel trial_arm  \\\n",
       "90063                  2.759514                0.622572     2237     noarm   \n",
       "90064                 10.707795                0.590342     1315     noarm   \n",
       "90065                  3.000000                0.000000     9966     noarm   \n",
       "90066                  5.004710                0.437386      325     noarm   \n",
       "90067                  5.231359                0.197478      989     study   \n",
       "\n",
       "      chicago_community_name  fraction_total_network_female  \\\n",
       "90063         OutsideChicago                            0.0   \n",
       "90064               WestSide                            1.0   \n",
       "90065               WestSide                            0.0   \n",
       "90066         OutsideChicago                            0.0   \n",
       "90067         OutsideChicago                            1.0   \n",
       "\n",
       "       fraction_total_network_nh_white  fraction_total_network_inder30  \\\n",
       "90063                              0.0                             1.0   \n",
       "90064                              1.0                             0.0   \n",
       "90065                              0.0                             0.0   \n",
       "90066                              1.0                             0.0   \n",
       "90067                              1.0                             0.0   \n",
       "\n",
       "       mean_age_total_network  \n",
       "90063               24.816438  \n",
       "90064               34.928767  \n",
       "90065               52.319178  \n",
       "90066               37.917808  \n",
       "90067               32.676712  \n",
       "\n",
       "[5 rows x 30 columns]"
      ]
     },
     "execution_count": 12,
     "metadata": {},
     "output_type": "execute_result"
    }
   ],
   "source": [
    "events.tail()"
   ]
  },
  {
   "cell_type": "code",
   "execution_count": 13,
   "metadata": {},
   "outputs": [
    {
     "data": {
      "text/html": [
       "<div>\n",
       "<style scoped>\n",
       "    .dataframe tbody tr th:only-of-type {\n",
       "        vertical-align: middle;\n",
       "    }\n",
       "\n",
       "    .dataframe tbody tr th {\n",
       "        vertical-align: top;\n",
       "    }\n",
       "\n",
       "    .dataframe thead th {\n",
       "        text-align: right;\n",
       "    }\n",
       "</style>\n",
       "<table border=\"1\" class=\"dataframe\">\n",
       "  <thead>\n",
       "    <tr style=\"text-align: right;\">\n",
       "      <th></th>\n",
       "      <th>Time</th>\n",
       "      <th>EC</th>\n",
       "      <th>Agent</th>\n",
       "      <th>Event</th>\n",
       "      <th>Info</th>\n",
       "      <th>L1</th>\n",
       "      <th>N1</th>\n",
       "      <th>L2</th>\n",
       "      <th>N2</th>\n",
       "      <th>C</th>\n",
       "      <th>...</th>\n",
       "      <th>current_total_network_size</th>\n",
       "      <th>Daily_injection_intensity</th>\n",
       "      <th>Fraction_recept_sharing</th>\n",
       "      <th>DBLabel</th>\n",
       "      <th>trial_arm</th>\n",
       "      <th>chicago_community_name</th>\n",
       "      <th>fraction_total_network_female</th>\n",
       "      <th>fraction_total_network_nh_white</th>\n",
       "      <th>fraction_total_network_inder30</th>\n",
       "      <th>mean_age_total_network</th>\n",
       "    </tr>\n",
       "  </thead>\n",
       "  <tbody>\n",
       "    <tr>\n",
       "      <th>33445</th>\n",
       "      <td>1.247</td>\n",
       "      <td>NaN</td>\n",
       "      <td>973028061</td>\n",
       "      <td>enteredfollowup</td>\n",
       "      <td>RNA=false;arm=study</td>\n",
       "      <td>-</td>\n",
       "      <td>-</td>\n",
       "      <td>-</td>\n",
       "      <td>-</td>\n",
       "      <td>NaN</td>\n",
       "      <td>...</td>\n",
       "      <td>2</td>\n",
       "      <td>3.000000</td>\n",
       "      <td>0.111111</td>\n",
       "      <td>4486</td>\n",
       "      <td>study</td>\n",
       "      <td>OutsideChicago</td>\n",
       "      <td>0.000000</td>\n",
       "      <td>1.00</td>\n",
       "      <td>0.500000</td>\n",
       "      <td>37.567123</td>\n",
       "    </tr>\n",
       "    <tr>\n",
       "      <th>33447</th>\n",
       "      <td>1.247</td>\n",
       "      <td>NaN</td>\n",
       "      <td>1225310796</td>\n",
       "      <td>enteredfollowup</td>\n",
       "      <td>RNA=false;arm=placebo</td>\n",
       "      <td>-</td>\n",
       "      <td>-</td>\n",
       "      <td>-</td>\n",
       "      <td>-</td>\n",
       "      <td>NaN</td>\n",
       "      <td>...</td>\n",
       "      <td>3</td>\n",
       "      <td>2.000000</td>\n",
       "      <td>0.033333</td>\n",
       "      <td>8536</td>\n",
       "      <td>placebo</td>\n",
       "      <td>SouthSide</td>\n",
       "      <td>0.000000</td>\n",
       "      <td>0.50</td>\n",
       "      <td>0.250000</td>\n",
       "      <td>24.957534</td>\n",
       "    </tr>\n",
       "    <tr>\n",
       "      <th>33449</th>\n",
       "      <td>1.247</td>\n",
       "      <td>NaN</td>\n",
       "      <td>711765112</td>\n",
       "      <td>enteredfollowup</td>\n",
       "      <td>RNA=false;arm=study</td>\n",
       "      <td>-</td>\n",
       "      <td>-</td>\n",
       "      <td>-</td>\n",
       "      <td>-</td>\n",
       "      <td>NaN</td>\n",
       "      <td>...</td>\n",
       "      <td>2</td>\n",
       "      <td>0.515461</td>\n",
       "      <td>0.581397</td>\n",
       "      <td>441</td>\n",
       "      <td>study</td>\n",
       "      <td>OutsideChicago</td>\n",
       "      <td>0.333333</td>\n",
       "      <td>0.00</td>\n",
       "      <td>0.333333</td>\n",
       "      <td>19.642009</td>\n",
       "    </tr>\n",
       "    <tr>\n",
       "      <th>33453</th>\n",
       "      <td>1.247</td>\n",
       "      <td>NaN</td>\n",
       "      <td>1107921327</td>\n",
       "      <td>enteredfollowup</td>\n",
       "      <td>RNA=false;arm=placebo</td>\n",
       "      <td>-</td>\n",
       "      <td>-</td>\n",
       "      <td>-</td>\n",
       "      <td>-</td>\n",
       "      <td>NaN</td>\n",
       "      <td>...</td>\n",
       "      <td>2</td>\n",
       "      <td>1.045591</td>\n",
       "      <td>0.580147</td>\n",
       "      <td>2176</td>\n",
       "      <td>placebo</td>\n",
       "      <td>OutsideChicago</td>\n",
       "      <td>1.000000</td>\n",
       "      <td>1.00</td>\n",
       "      <td>0.500000</td>\n",
       "      <td>30.891781</td>\n",
       "    </tr>\n",
       "    <tr>\n",
       "      <th>33455</th>\n",
       "      <td>1.247</td>\n",
       "      <td>NaN</td>\n",
       "      <td>1764032476</td>\n",
       "      <td>enteredfollowup</td>\n",
       "      <td>RNA=false;arm=study</td>\n",
       "      <td>-</td>\n",
       "      <td>-</td>\n",
       "      <td>-</td>\n",
       "      <td>-</td>\n",
       "      <td>NaN</td>\n",
       "      <td>...</td>\n",
       "      <td>3</td>\n",
       "      <td>0.402534</td>\n",
       "      <td>0.838787</td>\n",
       "      <td>10309</td>\n",
       "      <td>study</td>\n",
       "      <td>OutsideChicago</td>\n",
       "      <td>0.500000</td>\n",
       "      <td>0.75</td>\n",
       "      <td>0.000000</td>\n",
       "      <td>35.232877</td>\n",
       "    </tr>\n",
       "  </tbody>\n",
       "</table>\n",
       "<p>5 rows × 30 columns</p>\n",
       "</div>"
      ],
      "text/plain": [
       "        Time  EC       Agent            Event                   Info L1 N1 L2  \\\n",
       "33445  1.247 NaN   973028061  enteredfollowup    RNA=false;arm=study  -  -  -   \n",
       "33447  1.247 NaN  1225310796  enteredfollowup  RNA=false;arm=placebo  -  -  -   \n",
       "33449  1.247 NaN   711765112  enteredfollowup    RNA=false;arm=study  -  -  -   \n",
       "33453  1.247 NaN  1107921327  enteredfollowup  RNA=false;arm=placebo  -  -  -   \n",
       "33455  1.247 NaN  1764032476  enteredfollowup    RNA=false;arm=study  -  -  -   \n",
       "\n",
       "      N2   C  ...  current_total_network_size Daily_injection_intensity  \\\n",
       "33445  - NaN  ...                           2                  3.000000   \n",
       "33447  - NaN  ...                           3                  2.000000   \n",
       "33449  - NaN  ...                           2                  0.515461   \n",
       "33453  - NaN  ...                           2                  1.045591   \n",
       "33455  - NaN  ...                           3                  0.402534   \n",
       "\n",
       "      Fraction_recept_sharing  DBLabel trial_arm chicago_community_name  \\\n",
       "33445                0.111111     4486     study         OutsideChicago   \n",
       "33447                0.033333     8536   placebo              SouthSide   \n",
       "33449                0.581397      441     study         OutsideChicago   \n",
       "33453                0.580147     2176   placebo         OutsideChicago   \n",
       "33455                0.838787    10309     study         OutsideChicago   \n",
       "\n",
       "       fraction_total_network_female  fraction_total_network_nh_white  \\\n",
       "33445                       0.000000                             1.00   \n",
       "33447                       0.000000                             0.50   \n",
       "33449                       0.333333                             0.00   \n",
       "33453                       1.000000                             1.00   \n",
       "33455                       0.500000                             0.75   \n",
       "\n",
       "       fraction_total_network_inder30  mean_age_total_network  \n",
       "33445                        0.500000               37.567123  \n",
       "33447                        0.250000               24.957534  \n",
       "33449                        0.333333               19.642009  \n",
       "33453                        0.500000               30.891781  \n",
       "33455                        0.000000               35.232877  \n",
       "\n",
       "[5 rows x 30 columns]"
      ]
     },
     "execution_count": 13,
     "metadata": {},
     "output_type": "execute_result"
    }
   ],
   "source": [
    "events[events.Event == 'enteredfollowup'].head()"
   ]
  },
  {
   "cell_type": "code",
   "execution_count": 14,
   "metadata": {},
   "outputs": [
    {
     "data": {
      "text/plain": [
       "array(['susceptible', 'chronic', 'recovered', 'infectiousacute',\n",
       "       'exposed', 'vaccinated'], dtype=object)"
      ]
     },
     "execution_count": 14,
     "metadata": {},
     "output_type": "execute_result"
    }
   ],
   "source": [
    "pd.unique(events.HCV)"
   ]
  },
  {
   "cell_type": "code",
   "execution_count": 15,
   "metadata": {},
   "outputs": [],
   "source": [
    "trial_starts = events[events.Event == 'trialstarted'].copy()\n",
    "trial_starts['RNA_at_start_of_trial'] = trial_starts.Info.str.contains('RNA=true')\n",
    "trial_starts = trial_starts.drop(columns=['EC','L1','L2','N1','N2','C','Info','Event','DBLabel','HCV'])\n",
    "trial_starts = trial_starts.rename(columns={'Time':'time_entered_trial'})\n",
    "\n",
    "agent_baselines = {}\n",
    "for row in trial_starts.iterrows():\n",
    "    agent_data = row[1]\n",
    "    agent = agent_data.Agent\n",
    "    agent_baselines[agent] = agent_data"
   ]
  },
  {
   "cell_type": "code",
   "execution_count": 16,
   "metadata": {},
   "outputs": [
    {
     "data": {
      "text/plain": [
       "time_entered_trial                          2.082\n",
       "Agent                                   828776825\n",
       "Age                                       19.8849\n",
       "Gender                                       Male\n",
       "Race                                     Hispanic\n",
       "Zip                                         60506\n",
       "Syringe_source                              nonHR\n",
       "HCV_friend_preval                               0\n",
       "Age_Started                               19.2876\n",
       "Drug_in_degree                                  1\n",
       "Drug_out_degree                                 0\n",
       "current_total_network_size                      1\n",
       "Daily_injection_intensity                 1.58213\n",
       "Fraction_recept_sharing                  0.120366\n",
       "trial_arm                                   study\n",
       "chicago_community_name             OutsideChicago\n",
       "fraction_total_network_female                   0\n",
       "fraction_total_network_nh_white                 1\n",
       "fraction_total_network_inder30                  1\n",
       "mean_age_total_network                    23.3288\n",
       "RNA_at_start_of_trial                       False\n",
       "Name: 47595, dtype: object"
      ]
     },
     "execution_count": 16,
     "metadata": {},
     "output_type": "execute_result"
    }
   ],
   "source": [
    "agent_data"
   ]
  },
  {
   "cell_type": "code",
   "execution_count": 17,
   "metadata": {},
   "outputs": [],
   "source": [
    "#trial_starts[trial_starts.Agent==254477147]"
   ]
  },
  {
   "cell_type": "code",
   "execution_count": 18,
   "metadata": {},
   "outputs": [],
   "source": [
    "events2 = events[events.Agent.isin(agent_baselines)]"
   ]
  },
  {
   "cell_type": "code",
   "execution_count": 19,
   "metadata": {},
   "outputs": [],
   "source": [
    "vaccinations = events2[(events2.Time <= vaccine_trial_end_date ) & (events2.Event == 'vaccinated')]\n",
    "agent_vaccinations = vaccinations.groupby(['Agent']).size().to_dict()"
   ]
  },
  {
   "cell_type": "code",
   "execution_count": 20,
   "metadata": {},
   "outputs": [],
   "source": [
    "ever_infected = events2[(events2.Time <= vaccine_trial_end_date ) & (events2.Event == 'infected')]\n",
    "infected_count = ever_infected.groupby(['Agent']).size().to_dict()\n",
    "#for agents with infections, count of the number of infections"
   ]
  },
  {
   "cell_type": "code",
   "execution_count": 21,
   "metadata": {},
   "outputs": [],
   "source": [
    "#ever_recovered = events2[(events2.Time <= vaccine_trial_end_date ) & (events2.Event == 'recovered')]\n",
    "#recovered_count = ever_recovered.groupby(['Agent']).size().to_dict()"
   ]
  },
  {
   "cell_type": "code",
   "execution_count": 22,
   "metadata": {},
   "outputs": [],
   "source": [
    "#events2[events2.Agent==254477147]"
   ]
  },
  {
   "cell_type": "code",
   "execution_count": 23,
   "metadata": {},
   "outputs": [],
   "source": [
    "#events2[events2.Agent == list(agent_baselines.keys())[2]]"
   ]
  },
  {
   "cell_type": "code",
   "execution_count": 24,
   "metadata": {},
   "outputs": [
    {
     "data": {
      "text/plain": [
       "array(['activated', 'trialstarted', 'vaccinated', 'deactivated',\n",
       "       'trialabandoned', 'enteredfollowup', 'infected', 'infectious',\n",
       "       'infollowup', 'infollowup2', 'chronic', 'recovered',\n",
       "       'trialcompleted'], dtype=object)"
      ]
     },
     "execution_count": 24,
     "metadata": {},
     "output_type": "execute_result"
    }
   ],
   "source": [
    "pd.unique(events2.Event)"
   ]
  },
  {
   "cell_type": "code",
   "execution_count": 25,
   "metadata": {},
   "outputs": [
    {
     "data": {
      "text/html": [
       "<div>\n",
       "<style scoped>\n",
       "    .dataframe tbody tr th:only-of-type {\n",
       "        vertical-align: middle;\n",
       "    }\n",
       "\n",
       "    .dataframe tbody tr th {\n",
       "        vertical-align: top;\n",
       "    }\n",
       "\n",
       "    .dataframe thead th {\n",
       "        text-align: right;\n",
       "    }\n",
       "</style>\n",
       "<table border=\"1\" class=\"dataframe\">\n",
       "  <thead>\n",
       "    <tr style=\"text-align: right;\">\n",
       "      <th></th>\n",
       "      <th>Time</th>\n",
       "      <th>EC</th>\n",
       "      <th>Agent</th>\n",
       "      <th>Event</th>\n",
       "      <th>Info</th>\n",
       "      <th>L1</th>\n",
       "      <th>N1</th>\n",
       "      <th>L2</th>\n",
       "      <th>N2</th>\n",
       "      <th>C</th>\n",
       "      <th>...</th>\n",
       "      <th>current_total_network_size</th>\n",
       "      <th>Daily_injection_intensity</th>\n",
       "      <th>Fraction_recept_sharing</th>\n",
       "      <th>DBLabel</th>\n",
       "      <th>trial_arm</th>\n",
       "      <th>chicago_community_name</th>\n",
       "      <th>fraction_total_network_female</th>\n",
       "      <th>fraction_total_network_nh_white</th>\n",
       "      <th>fraction_total_network_inder30</th>\n",
       "      <th>mean_age_total_network</th>\n",
       "    </tr>\n",
       "  </thead>\n",
       "  <tbody>\n",
       "  </tbody>\n",
       "</table>\n",
       "<p>0 rows × 30 columns</p>\n",
       "</div>"
      ],
      "text/plain": [
       "Empty DataFrame\n",
       "Columns: [Time, EC, Agent, Event, Info, L1, N1, L2, N2, C, Age, Gender, Race, Zip, Syringe_source, HCV, HCV_friend_preval, Age_Started, Drug_in_degree, Drug_out_degree, current_total_network_size, Daily_injection_intensity, Fraction_recept_sharing, DBLabel, trial_arm, chicago_community_name, fraction_total_network_female, fraction_total_network_nh_white, fraction_total_network_inder30, mean_age_total_network]\n",
       "Index: []\n",
       "\n",
       "[0 rows x 30 columns]"
      ]
     },
     "execution_count": 25,
     "metadata": {},
     "output_type": "execute_result"
    }
   ],
   "source": [
    "events2[events2.Agent==1623552776]"
   ]
  },
  {
   "cell_type": "code",
   "execution_count": 26,
   "metadata": {},
   "outputs": [],
   "source": [
    "#the following events do not provide new information about the RNA state or the censorship\n",
    "# if the agent becomes infected or recovered, we will retrieve it from \"infected\" and \"recovered\" events\n",
    "#  remove to simplify the parsing\n",
    "# added infectious and chronic for safety's sake\n",
    "events2 = events2[~events2.Event.isin\n",
    "                  (['activated','enteredfollowup','infollowup','infollowup2','vaccinated'])]"
   ]
  },
  {
   "cell_type": "code",
   "execution_count": 27,
   "metadata": {},
   "outputs": [
    {
     "data": {
      "text/plain": [
       "array(['trialstarted', 'deactivated', 'trialabandoned', 'infected',\n",
       "       'infectious', 'chronic', 'recovered', 'trialcompleted'],\n",
       "      dtype=object)"
      ]
     },
     "execution_count": 27,
     "metadata": {},
     "output_type": "execute_result"
    }
   ],
   "source": [
    "pd.unique(events2.Event)"
   ]
  },
  {
   "cell_type": "code",
   "execution_count": 28,
   "metadata": {},
   "outputs": [
    {
     "data": {
      "text/plain": [
       "array(['vaccinated', 'exposed', 'infectiousacute', 'chronic', 'recovered'],\n",
       "      dtype=object)"
      ]
     },
     "execution_count": 28,
     "metadata": {},
     "output_type": "execute_result"
    }
   ],
   "source": [
    "pd.unique(events2.HCV)"
   ]
  },
  {
   "cell_type": "code",
   "execution_count": 29,
   "metadata": {},
   "outputs": [],
   "source": [
    "agent_events = {}\n",
    "longest_history = 0 #needed for padding the data\n",
    "for agent in agent_baselines:\n",
    "    a_events = events2[events2.Agent == agent][['Event','HCV','Time']]\n",
    "    a_events = a_events[a_events.Time <= vaccine_trial_end_date]\n",
    "    a_events = a_events.sort_values(by=\"Time\") #just in case\n",
    "    a_events = a_events.append(pd.DataFrame([['fieldworkcompleted', '-', vaccine_trial_end_date]], columns=list(['Event','HCV', 'Time'])))\n",
    "    a_events[\"StepsFromEnrollmentStart\"] = (a_events.Time - agent_baselines[agent][\"time_entered_trial\"])/reporting_frequency\n",
    "    agent_events[agent] = a_events\n",
    "    longest_history = max(longest_history, a_events.Time.iloc[-1]-a_events.Time.iloc[0])  \n",
    "                          #min(vaccine_trial_end_date-a_events.Time.iloc[0], \n",
    "                          #    a_events.Time.iloc[-1]-a_events.Time.iloc[0]))\n"
   ]
  },
  {
   "cell_type": "code",
   "execution_count": 30,
   "metadata": {},
   "outputs": [],
   "source": [
    "for agent in agent_events:\n",
    "    agent_baselines[agent]['doses_received'] = agent_vaccinations[agent]"
   ]
  },
  {
   "cell_type": "code",
   "execution_count": 31,
   "metadata": {},
   "outputs": [
    {
     "data": {
      "text/plain": [
       "3.835616438356164"
      ]
     },
     "execution_count": 31,
     "metadata": {},
     "output_type": "execute_result"
    }
   ],
   "source": [
    "vaccine_trial_end_date"
   ]
  },
  {
   "cell_type": "code",
   "execution_count": 32,
   "metadata": {},
   "outputs": [],
   "source": [
    "#a_events"
   ]
  },
  {
   "cell_type": "code",
   "execution_count": 33,
   "metadata": {},
   "outputs": [
    {
     "name": "stdout",
     "output_type": "stream",
     "text": [
      "2.753616438356164\n",
      "35.89535714285714\n"
     ]
    }
   ],
   "source": [
    "print(longest_history)\n",
    "longest_history_len = longest_history/reporting_frequency\n",
    "print(longest_history_len)\n",
    "#for agent, a_events in agent_events.items():\n",
    "#    enrollment_start = agent_events[agent].Time.iloc[0]\n",
    "#    if a_events['Time'].iloc[-1] < longest_history:\n",
    "#        agent_events[agent] = agent_events[agent].append(pd.DataFrame([['padding', 'padding', longest_history]], columns=list(['Event','HCV', 'Time'])))\n",
    "#    agent_events[agent].sort_values(by=\"Time\", inplace=True)"
   ]
  },
  {
   "cell_type": "code",
   "execution_count": 34,
   "metadata": {},
   "outputs": [],
   "source": [
    "#agent=list(agent_events.keys())[1]"
   ]
  },
  {
   "cell_type": "code",
   "execution_count": 35,
   "metadata": {},
   "outputs": [],
   "source": [
    "#agent_events[agent]"
   ]
  },
  {
   "cell_type": "code",
   "execution_count": 36,
   "metadata": {},
   "outputs": [
    {
     "data": {
      "text/plain": [
       "array(['trialstarted', 'deactivated', 'trialabandoned', 'infected',\n",
       "       'infectious', 'chronic', 'recovered', 'trialcompleted'],\n",
       "      dtype=object)"
      ]
     },
     "execution_count": 36,
     "metadata": {},
     "output_type": "execute_result"
    }
   ],
   "source": [
    "pd.unique(events2.Event)"
   ]
  },
  {
   "cell_type": "code",
   "execution_count": 37,
   "metadata": {},
   "outputs": [
    {
     "data": {
      "text/plain": [
       "array(['vaccinated', 'exposed', 'infectiousacute', 'chronic', 'recovered'],\n",
       "      dtype=object)"
      ]
     },
     "execution_count": 37,
     "metadata": {},
     "output_type": "execute_result"
    }
   ],
   "source": [
    "pd.unique(events2.HCV)"
   ]
  },
  {
   "cell_type": "code",
   "execution_count": null,
   "metadata": {},
   "outputs": [],
   "source": []
  },
  {
   "cell_type": "code",
   "execution_count": 38,
   "metadata": {},
   "outputs": [],
   "source": [
    "'''\n",
    "produce a sequence [+,-,-,...,lost,lost,...,padding,padding,..]\n",
    "the first status is the RNA at the start of the trial\n",
    "the history records all infection episodes through the end of the trial or loss \n",
    "'''\n",
    "def estimate_history(my_events, RNA_positive_at_start_of_trial, target_length):\n",
    "    current_hcv = 'RNA_positive' if RNA_positive_at_start_of_trial else 'RNA_negative'\n",
    "    last_hcv_reading = current_hcv #last known hcv status\n",
    "    in_tracking = True\n",
    "    #pdb.set_trace()\n",
    "    h = [] #test the correct count [current_hcv]\n",
    "    assert my_events.shape[0]>1\n",
    "    for i, new_event in enumerate(my_events.Event):\n",
    "        if i == 0:\n",
    "            if new_event != 'trialstarted':\n",
    "                return [], None\n",
    "            continue\n",
    "        full_steps_to_new = int(my_events.StepsFromEnrollmentStart.iloc[i] - \\\n",
    "                                my_events.StepsFromEnrollmentStart.iloc[i-1])\n",
    "        h = h + [current_hcv] * full_steps_to_new\n",
    "        \n",
    "        #full_steps_to_new might be less than 1, in which case we will add nothing, but the state will change\n",
    "        if new_event in frozenset(['infected', 'infectious', 'chronic']) and in_tracking:\n",
    "            current_hcv = 'RNA_positive'\n",
    "            last_hcv_reading = current_hcv\n",
    "        elif new_event == 'recovered' and in_tracking:\n",
    "            current_hcv = 'RNA_negative'\n",
    "            last_hcv_reading = current_hcv\n",
    "        elif new_event in frozenset(['trialabandoned', 'deactivated']):\n",
    "            current_hcv = 'lost_to_followup'\n",
    "            in_tracking = False\n",
    "        elif new_event in frozenset(['trialcompleted', 'fieldworkcompleted']): \n",
    "            break\n",
    "        elif not in_tracking:\n",
    "            continue\n",
    "        else:\n",
    "            print(new_event)\n",
    "            pdb.set_trace()\n",
    "\n",
    "            assert False\n",
    "        #invariant: h contains all the records up to my_events.StepsFrom[i]. current_hcv is the new state\n",
    "    \n",
    "    h = h + ['padding']*int(target_length-len(h))\n",
    "    \n",
    "    #pdb.set_trace()\n",
    "    #print(len(h))\n",
    "    return h, last_hcv_reading"
   ]
  },
  {
   "cell_type": "code",
   "execution_count": 39,
   "metadata": {},
   "outputs": [],
   "source": [
    "#estimate_history(list(agent_events.values())[2], \n",
    "#                 agent_baselines[agent]['RNA_at_start_of_trial'], \n",
    "#                 longest_history_len)"
   ]
  },
  {
   "cell_type": "code",
   "execution_count": 40,
   "metadata": {},
   "outputs": [],
   "source": [
    "#list(agent_events.values())[2]"
   ]
  },
  {
   "cell_type": "code",
   "execution_count": 41,
   "metadata": {
    "scrolled": false
   },
   "outputs": [],
   "source": [
    "agent_histories = {}\n",
    "for agent, a_events in agent_events.items():\n",
    "    regular_history, last_hcv_reading = estimate_history(a_events, \n",
    "                                                 agent_baselines[agent]['RNA_at_start_of_trial'],\n",
    "                                                 longest_history_len)\n",
    "    if regular_history == []: #very rare - one case where first event was deactivated (bug in eclipse)\n",
    "        continue\n",
    "    \n",
    "    agent_baselines[agent]['nonchronic_abpos_at_final_reading']   = \\\n",
    "               (agent_baselines[agent]['trial_arm'] == 'study' and last_hcv_reading == 'RNA_negative') or \\\n",
    "               (agent_baselines[agent]['trial_arm'] == 'placebo' and (agent in infected_count) and last_hcv_reading == 'RNA_negative')\n",
    "    #print(agent_baselines[agent]['nonchronic_abpos_at_final_reading'])\n",
    "    #print(agent_baselines[agent]['trial_arm'])\n",
    "    #print(agent in infected_count)\n",
    "    #print(last_hcv_reading)\n",
    "    \n",
    "    agent_histories[agent] = agent_baselines[agent].append(pd.Series(regular_history))"
   ]
  },
  {
   "cell_type": "code",
   "execution_count": 42,
   "metadata": {},
   "outputs": [
    {
     "data": {
      "text/html": [
       "<div>\n",
       "<style scoped>\n",
       "    .dataframe tbody tr th:only-of-type {\n",
       "        vertical-align: middle;\n",
       "    }\n",
       "\n",
       "    .dataframe tbody tr th {\n",
       "        vertical-align: top;\n",
       "    }\n",
       "\n",
       "    .dataframe thead th {\n",
       "        text-align: right;\n",
       "    }\n",
       "</style>\n",
       "<table border=\"1\" class=\"dataframe\">\n",
       "  <thead>\n",
       "    <tr style=\"text-align: right;\">\n",
       "      <th></th>\n",
       "      <th>Time</th>\n",
       "      <th>EC</th>\n",
       "      <th>Agent</th>\n",
       "      <th>Event</th>\n",
       "      <th>Info</th>\n",
       "      <th>L1</th>\n",
       "      <th>N1</th>\n",
       "      <th>L2</th>\n",
       "      <th>N2</th>\n",
       "      <th>C</th>\n",
       "      <th>...</th>\n",
       "      <th>current_total_network_size</th>\n",
       "      <th>Daily_injection_intensity</th>\n",
       "      <th>Fraction_recept_sharing</th>\n",
       "      <th>DBLabel</th>\n",
       "      <th>trial_arm</th>\n",
       "      <th>chicago_community_name</th>\n",
       "      <th>fraction_total_network_female</th>\n",
       "      <th>fraction_total_network_nh_white</th>\n",
       "      <th>fraction_total_network_inder30</th>\n",
       "      <th>mean_age_total_network</th>\n",
       "    </tr>\n",
       "  </thead>\n",
       "  <tbody>\n",
       "  </tbody>\n",
       "</table>\n",
       "<p>0 rows × 30 columns</p>\n",
       "</div>"
      ],
      "text/plain": [
       "Empty DataFrame\n",
       "Columns: [Time, EC, Agent, Event, Info, L1, N1, L2, N2, C, Age, Gender, Race, Zip, Syringe_source, HCV, HCV_friend_preval, Age_Started, Drug_in_degree, Drug_out_degree, current_total_network_size, Daily_injection_intensity, Fraction_recept_sharing, DBLabel, trial_arm, chicago_community_name, fraction_total_network_female, fraction_total_network_nh_white, fraction_total_network_inder30, mean_age_total_network]\n",
       "Index: []\n",
       "\n",
       "[0 rows x 30 columns]"
      ]
     },
     "execution_count": 42,
     "metadata": {},
     "output_type": "execute_result"
    }
   ],
   "source": [
    "events2[events2.Agent==1623552776]"
   ]
  },
  {
   "cell_type": "code",
   "execution_count": 43,
   "metadata": {},
   "outputs": [],
   "source": [
    "#agent_histories[1623552776]"
   ]
  },
  {
   "cell_type": "code",
   "execution_count": 44,
   "metadata": {},
   "outputs": [],
   "source": [
    "#agent_histories[agent]"
   ]
  },
  {
   "cell_type": "code",
   "execution_count": 45,
   "metadata": {},
   "outputs": [
    {
     "data": {
      "text/html": [
       "<div>\n",
       "<style scoped>\n",
       "    .dataframe tbody tr th:only-of-type {\n",
       "        vertical-align: middle;\n",
       "    }\n",
       "\n",
       "    .dataframe tbody tr th {\n",
       "        vertical-align: top;\n",
       "    }\n",
       "\n",
       "    .dataframe thead th {\n",
       "        text-align: right;\n",
       "    }\n",
       "</style>\n",
       "<table border=\"1\" class=\"dataframe\">\n",
       "  <thead>\n",
       "    <tr style=\"text-align: right;\">\n",
       "      <th></th>\n",
       "      <th>Event</th>\n",
       "      <th>HCV</th>\n",
       "      <th>Time</th>\n",
       "      <th>StepsFromEnrollmentStart</th>\n",
       "    </tr>\n",
       "  </thead>\n",
       "  <tbody>\n",
       "    <tr>\n",
       "      <th>47595</th>\n",
       "      <td>trialstarted</td>\n",
       "      <td>vaccinated</td>\n",
       "      <td>2.082000</td>\n",
       "      <td>0.000000</td>\n",
       "    </tr>\n",
       "    <tr>\n",
       "      <th>71702</th>\n",
       "      <td>trialcompleted</td>\n",
       "      <td>vaccinated</td>\n",
       "      <td>3.625000</td>\n",
       "      <td>20.114107</td>\n",
       "    </tr>\n",
       "    <tr>\n",
       "      <th>0</th>\n",
       "      <td>fieldworkcompleted</td>\n",
       "      <td>-</td>\n",
       "      <td>3.835616</td>\n",
       "      <td>22.859643</td>\n",
       "    </tr>\n",
       "  </tbody>\n",
       "</table>\n",
       "</div>"
      ],
      "text/plain": [
       "                    Event         HCV      Time  StepsFromEnrollmentStart\n",
       "47595        trialstarted  vaccinated  2.082000                  0.000000\n",
       "71702      trialcompleted  vaccinated  3.625000                 20.114107\n",
       "0      fieldworkcompleted           -  3.835616                 22.859643"
      ]
     },
     "execution_count": 45,
     "metadata": {},
     "output_type": "execute_result"
    }
   ],
   "source": [
    "a_events"
   ]
  },
  {
   "cell_type": "code",
   "execution_count": 46,
   "metadata": {},
   "outputs": [
    {
     "data": {
      "text/html": [
       "<div>\n",
       "<style scoped>\n",
       "    .dataframe tbody tr th:only-of-type {\n",
       "        vertical-align: middle;\n",
       "    }\n",
       "\n",
       "    .dataframe tbody tr th {\n",
       "        vertical-align: top;\n",
       "    }\n",
       "\n",
       "    .dataframe thead th {\n",
       "        text-align: right;\n",
       "    }\n",
       "</style>\n",
       "<table border=\"1\" class=\"dataframe\">\n",
       "  <thead>\n",
       "    <tr style=\"text-align: right;\">\n",
       "      <th></th>\n",
       "      <th>Event</th>\n",
       "      <th>HCV</th>\n",
       "      <th>Time</th>\n",
       "      <th>StepsFromEnrollmentStart</th>\n",
       "    </tr>\n",
       "  </thead>\n",
       "  <tbody>\n",
       "    <tr>\n",
       "      <th>47595</th>\n",
       "      <td>trialstarted</td>\n",
       "      <td>vaccinated</td>\n",
       "      <td>2.082000</td>\n",
       "      <td>0.000000</td>\n",
       "    </tr>\n",
       "    <tr>\n",
       "      <th>71702</th>\n",
       "      <td>trialcompleted</td>\n",
       "      <td>vaccinated</td>\n",
       "      <td>3.625000</td>\n",
       "      <td>20.114107</td>\n",
       "    </tr>\n",
       "    <tr>\n",
       "      <th>0</th>\n",
       "      <td>fieldworkcompleted</td>\n",
       "      <td>-</td>\n",
       "      <td>3.835616</td>\n",
       "      <td>22.859643</td>\n",
       "    </tr>\n",
       "  </tbody>\n",
       "</table>\n",
       "</div>"
      ],
      "text/plain": [
       "                    Event         HCV      Time  StepsFromEnrollmentStart\n",
       "47595        trialstarted  vaccinated  2.082000                  0.000000\n",
       "71702      trialcompleted  vaccinated  3.625000                 20.114107\n",
       "0      fieldworkcompleted           -  3.835616                 22.859643"
      ]
     },
     "execution_count": 46,
     "metadata": {},
     "output_type": "execute_result"
    }
   ],
   "source": [
    "a_events"
   ]
  },
  {
   "cell_type": "code",
   "execution_count": 47,
   "metadata": {},
   "outputs": [
    {
     "data": {
      "text/plain": [
       "time_entered_trial                            2.082\n",
       "Agent                                     828776825\n",
       "Age                                         19.8849\n",
       "Gender                                         Male\n",
       "Race                                       Hispanic\n",
       "Zip                                           60506\n",
       "Syringe_source                                nonHR\n",
       "HCV_friend_preval                                 0\n",
       "Age_Started                                 19.2876\n",
       "Drug_in_degree                                    1\n",
       "Drug_out_degree                                   0\n",
       "current_total_network_size                        1\n",
       "Daily_injection_intensity                   1.58213\n",
       "Fraction_recept_sharing                    0.120366\n",
       "trial_arm                                     study\n",
       "chicago_community_name               OutsideChicago\n",
       "fraction_total_network_female                     0\n",
       "fraction_total_network_nh_white                   1\n",
       "fraction_total_network_inder30                    1\n",
       "mean_age_total_network                      23.3288\n",
       "RNA_at_start_of_trial                         False\n",
       "doses_received                                    2\n",
       "nonchronic_abpos_at_final_reading              True\n",
       "0                                      RNA_negative\n",
       "1                                      RNA_negative\n",
       "2                                      RNA_negative\n",
       "3                                      RNA_negative\n",
       "4                                      RNA_negative\n",
       "5                                      RNA_negative\n",
       "6                                      RNA_negative\n",
       "7                                      RNA_negative\n",
       "8                                      RNA_negative\n",
       "9                                      RNA_negative\n",
       "10                                     RNA_negative\n",
       "11                                     RNA_negative\n",
       "12                                     RNA_negative\n",
       "13                                     RNA_negative\n",
       "14                                     RNA_negative\n",
       "15                                     RNA_negative\n",
       "16                                     RNA_negative\n",
       "17                                     RNA_negative\n",
       "18                                     RNA_negative\n",
       "19                                     RNA_negative\n",
       "20                                          padding\n",
       "21                                          padding\n",
       "22                                          padding\n",
       "23                                          padding\n",
       "24                                          padding\n",
       "25                                          padding\n",
       "26                                          padding\n",
       "27                                          padding\n",
       "28                                          padding\n",
       "29                                          padding\n",
       "30                                          padding\n",
       "31                                          padding\n",
       "32                                          padding\n",
       "33                                          padding\n",
       "34                                          padding\n",
       "dtype: object"
      ]
     },
     "execution_count": 47,
     "metadata": {},
     "output_type": "execute_result"
    }
   ],
   "source": [
    "agent_histories[agent]"
   ]
  },
  {
   "cell_type": "code",
   "execution_count": 48,
   "metadata": {},
   "outputs": [
    {
     "data": {
      "text/plain": [
       "3.835616438356164"
      ]
     },
     "execution_count": 48,
     "metadata": {},
     "output_type": "execute_result"
    }
   ],
   "source": [
    "vaccine_trial_end_date"
   ]
  },
  {
   "cell_type": "code",
   "execution_count": 49,
   "metadata": {},
   "outputs": [],
   "source": [
    "output_df = pd.DataFrame.from_dict(agent_histories, orient='columns')\n",
    "\n",
    "#agent_0 = agent_histories.keys()[0]\n",
    "#output_df.set_index(agent_baselines[agent_0].keys() + range(longest_history), inplace=True)"
   ]
  },
  {
   "cell_type": "code",
   "execution_count": 50,
   "metadata": {},
   "outputs": [],
   "source": [
    "#output_df"
   ]
  },
  {
   "cell_type": "code",
   "execution_count": 51,
   "metadata": {},
   "outputs": [
    {
     "data": {
      "text/plain": [
       "'C:\\\\Users\\\\agutf\\\\Sync\\\\repos\\\\apk-development\\\\analysis\\\\vaccine_cox\\\\candidates85pc\\\\simphony_model_1614526877900\\\\instance_1\\\\output\\\\events.csv_history_trial85c_gap28.csv'"
      ]
     },
     "execution_count": 51,
     "metadata": {},
     "output_type": "execute_result"
    }
   ],
   "source": [
    "fp = f'{events_fpath}_history_{chosen_trial}_gap{time_between_bleeds}.csv'\n",
    "fp"
   ]
  },
  {
   "cell_type": "code",
   "execution_count": 52,
   "metadata": {},
   "outputs": [],
   "source": [
    "output_df.to_csv(fp)"
   ]
  },
  {
   "cell_type": "code",
   "execution_count": 53,
   "metadata": {},
   "outputs": [
    {
     "data": {
      "text/plain": [
       "'C:\\\\Users\\\\agutf\\\\Sync\\\\repos\\\\apk-development\\\\analysis'"
      ]
     },
     "execution_count": 53,
     "metadata": {},
     "output_type": "execute_result"
    }
   ],
   "source": [
    "os.getcwd()"
   ]
  },
  {
   "cell_type": "markdown",
   "metadata": {},
   "source": [
    "-----"
   ]
  }
 ],
 "metadata": {
  "kernelspec": {
   "display_name": "Python 3",
   "language": "python",
   "name": "python3"
  },
  "language_info": {
   "codemirror_mode": {
    "name": "ipython",
    "version": 3
   },
   "file_extension": ".py",
   "mimetype": "text/x-python",
   "name": "python",
   "nbconvert_exporter": "python",
   "pygments_lexer": "ipython3",
   "version": "3.8.5"
  }
 },
 "nbformat": 4,
 "nbformat_minor": 4
}
