{
 "cells": [
  {
   "cell_type": "code",
   "execution_count": 1,
   "metadata": {},
   "outputs": [],
   "source": [
    "import sys, csv, os\n",
    "import numpy as np\n",
    "import pandas as pd\n",
    "import pdb"
   ]
  },
  {
   "cell_type": "code",
   "execution_count": 2,
   "metadata": {},
   "outputs": [],
   "source": [
    "paths = {'trial1':'',\n",
    "         'trial2':r\"C:\\Users\\agutf\\Sync\\repos\\apk-development\\analysis\\vaccine_cox\\draft2\\events.csv\",\n",
    "         'trial3':r\"C:\\Users\\agutf\\Sync\\repos\\apk-development\\analysis\\vaccine_cox\\candidates\\simphony_model_1604889008444_64pc\\instance_1\\output\\events.csv\",\n",
    "         'trial4':r\"C:\\Users\\agutf\\Sync\\repos\\apk-development\\analysis\\vaccine_cox\\candidates\\simphony_model_1604882689569_35pc\\instance_1\\output\\events.csv\",\n",
    "         'trial85a':r\"C:\\Users\\agutf\\Sync\\repos\\apk-development\\analysis\\vaccine_cox\\candidates85pc\\simphony_model_1614483337038\\instance_1\\output\\events.csv\",\n",
    "         'trial85b':r\"C:\\Users\\agutf\\Sync\\repos\\apk-development\\analysis\\vaccine_cox\\candidates85pc\\simphony_model_1614485140334\\instance_1\\output\\events.csv\",\n",
    "         'trial85c':r\"C:\\Users\\agutf\\Sync\\repos\\apk-development\\analysis\\vaccine_cox\\candidates85pc\\simphony_model_1614526877900\\instance_1\\output\\events.csv\"\n",
    "        }\n",
    "#toy trial\n",
    "#events_fpath = r\"C:\\Users\\agutf\\AppData\\Local\\Temp\\simphony_model_1593922625316\\instance_1\\output\\events.csv\"\n",
    "chosen_trial = 'trial85c'\n",
    "#D2E60\n",
    "events_fpath = paths[chosen_trial]"
   ]
  },
  {
   "cell_type": "code",
   "execution_count": 3,
   "metadata": {},
   "outputs": [
    {
     "name": "stdout",
     "output_type": "stream",
     "text": [
      "Reading events from: C:\\Users\\agutf\\Sync\\repos\\apk-development\\analysis\\vaccine_cox\\candidates85pc\\simphony_model_1614526877900\\instance_1\\output\\events.csv\n"
     ]
    }
   ],
   "source": [
    "print(\"Reading events from: \" + events_fpath)"
   ]
  },
  {
   "cell_type": "code",
   "execution_count": 4,
   "metadata": {},
   "outputs": [],
   "source": [
    "time_between_bleeds = 28\n",
    "reporting_frequency = time_between_bleeds/365\n",
    "#rebase_time_to_final_dose"
   ]
  },
  {
   "cell_type": "code",
   "execution_count": 5,
   "metadata": {},
   "outputs": [
    {
     "name": "stdout",
     "output_type": "stream",
     "text": [
      "Time between simulated bleeds (days): 28\n"
     ]
    }
   ],
   "source": [
    "print(f\"Time between simulated bleeds (days): {time_between_bleeds}\")"
   ]
  },
  {
   "cell_type": "code",
   "execution_count": 6,
   "metadata": {},
   "outputs": [],
   "source": [
    "vaccine_trial_end_date = 1400/365.0 #external default"
   ]
  },
  {
   "cell_type": "code",
   "execution_count": 7,
   "metadata": {},
   "outputs": [
    {
     "name": "stdout",
     "output_type": "stream",
     "text": [
      "vaccine_trial_end_date (years): 3.835616438356164\n"
     ]
    }
   ],
   "source": [
    "print(f\"vaccine_trial_end_date (years): {vaccine_trial_end_date}\")"
   ]
  },
  {
   "cell_type": "code",
   "execution_count": 8,
   "metadata": {},
   "outputs": [
    {
     "name": "stdout",
     "output_type": "stream",
     "text": [
      "Writing to: C:\\Users\\agutf\\Sync\\repos\\apk-development\\analysis\\vaccine_cox\\candidates85pc\\simphony_model_1614526877900\\instance_1\\output\\events.csv_history_trial85c_gap28.csv\n"
     ]
    }
   ],
   "source": [
    "output_fpath = f'{events_fpath}_history_{chosen_trial}_gap{time_between_bleeds}.csv'\n",
    "print(f\"Output file: {output_fpath}\")"
   ]
  },
  {
   "cell_type": "code",
   "execution_count": 9,
   "metadata": {},
   "outputs": [],
   "source": [
    "#events_file = open(events_file,'r')\n",
    "#events = csv.DictReader(events_file)"
   ]
  },
  {
   "cell_type": "code",
   "execution_count": 10,
   "metadata": {},
   "outputs": [],
   "source": [
    "#events_file.close()"
   ]
  },
  {
   "cell_type": "code",
   "execution_count": 11,
   "metadata": {},
   "outputs": [],
   "source": [
    "trial_header = pd.read_csv(events_fpath, nrows=2, header=1)"
   ]
  },
  {
   "cell_type": "code",
   "execution_count": 12,
   "metadata": {},
   "outputs": [],
   "source": [
    "#trial_header"
   ]
  },
  {
   "cell_type": "code",
   "execution_count": 13,
   "metadata": {},
   "outputs": [],
   "source": [
    "burn_in_days = trial_header.burn_in_days[0]\n",
    "vaccine_schedule = trial_header.vaccine_schedule[0]\n",
    "vaccine_enrollment_launch_day = trial_header.vaccine_enrollment_launch_day\n"
   ]
  },
  {
   "cell_type": "code",
   "execution_count": 14,
   "metadata": {},
   "outputs": [],
   "source": [
    "#vaccine_trial_end_date = 2*vaccine_trial_end_date"
   ]
  },
  {
   "cell_type": "code",
   "execution_count": 15,
   "metadata": {},
   "outputs": [
    {
     "name": "stdout",
     "output_type": "stream",
     "text": [
      "vaccine_schedule: D2E85\n"
     ]
    }
   ],
   "source": [
    "print(f'vaccine_schedule: {vaccine_schedule}')"
   ]
  },
  {
   "cell_type": "code",
   "execution_count": 16,
   "metadata": {},
   "outputs": [],
   "source": [
    "events = pd.read_csv(events_fpath, header=4)\n",
    "events.rename(columns={'Num Buddies':'total_network_size'}, inplace=True)"
   ]
  },
  {
   "cell_type": "code",
   "execution_count": 17,
   "metadata": {},
   "outputs": [],
   "source": [
    "#events.tail()"
   ]
  },
  {
   "cell_type": "code",
   "execution_count": 18,
   "metadata": {},
   "outputs": [],
   "source": [
    "#events[events.Event == 'enteredfollowup'].head()"
   ]
  },
  {
   "cell_type": "code",
   "execution_count": 19,
   "metadata": {},
   "outputs": [],
   "source": [
    "#pd.unique(events.HCV)"
   ]
  },
  {
   "cell_type": "code",
   "execution_count": 20,
   "metadata": {},
   "outputs": [],
   "source": [
    "trial_starts = events[events.Event == 'trialstarted'].copy()\n",
    "trial_starts['RNA_at_start_of_trial'] = trial_starts.Info.str.contains('RNA=true')\n",
    "trial_starts = trial_starts.drop(columns=['EC','L1','L2','N1','N2','C','Info','Event','DBLabel','HCV'])\n",
    "trial_starts = trial_starts.rename(columns={'Time':'time_entered_trial'})\n",
    "\n",
    "agent_baselines = {}\n",
    "for row in trial_starts.iterrows():\n",
    "    agent_data = row[1]\n",
    "    agent = agent_data.Agent\n",
    "    agent_baselines[agent] = agent_data"
   ]
  },
  {
   "cell_type": "code",
   "execution_count": 21,
   "metadata": {},
   "outputs": [],
   "source": [
    "#agent_data"
   ]
  },
  {
   "cell_type": "code",
   "execution_count": 22,
   "metadata": {},
   "outputs": [],
   "source": [
    "#trial_starts[trial_starts.Agent==254477147]"
   ]
  },
  {
   "cell_type": "code",
   "execution_count": 23,
   "metadata": {},
   "outputs": [],
   "source": [
    "events2 = events[events.Agent.isin(agent_baselines)]"
   ]
  },
  {
   "cell_type": "code",
   "execution_count": 24,
   "metadata": {},
   "outputs": [],
   "source": [
    "vaccinations = events2[(events2.Time <= vaccine_trial_end_date ) & (events2.Event == 'vaccinated')]\n",
    "agent_vaccinations = vaccinations.groupby(['Agent']).size().to_dict()"
   ]
  },
  {
   "cell_type": "code",
   "execution_count": 25,
   "metadata": {},
   "outputs": [],
   "source": [
    "ever_infected = events2[(events2.Time <= vaccine_trial_end_date ) & (events2.Event == 'infected')]\n",
    "infected_roster = ever_infected.groupby(['Agent']).size().to_dict()\n",
    "#for agents with infections, count of the number of infections"
   ]
  },
  {
   "cell_type": "code",
   "execution_count": 26,
   "metadata": {},
   "outputs": [],
   "source": [
    "#ever_recovered = events2[(events2.Time <= vaccine_trial_end_date ) & (events2.Event == 'recovered')]\n",
    "#recovered_count = ever_recovered.groupby(['Agent']).size().to_dict()"
   ]
  },
  {
   "cell_type": "code",
   "execution_count": 27,
   "metadata": {},
   "outputs": [],
   "source": [
    "#events2[events2.Agent==254477147]"
   ]
  },
  {
   "cell_type": "code",
   "execution_count": 28,
   "metadata": {},
   "outputs": [],
   "source": [
    "#events2[events2.Agent == list(agent_baselines.keys())[2]]"
   ]
  },
  {
   "cell_type": "code",
   "execution_count": 29,
   "metadata": {},
   "outputs": [],
   "source": [
    "#pd.unique(events2.Event)"
   ]
  },
  {
   "cell_type": "code",
   "execution_count": 30,
   "metadata": {},
   "outputs": [],
   "source": [
    "#events2[events2.Agent==1623552776]"
   ]
  },
  {
   "cell_type": "code",
   "execution_count": 31,
   "metadata": {},
   "outputs": [],
   "source": [
    "#the following events do not provide new information about the RNA state or the censorship, so we drop them\n",
    "# if the agent becomes infected or recovered, we will retrieve it from \"infected\" and \"recovered\" events below\n",
    "#  remove to simplify the parsing\n",
    "# added infectious and chronic for safety's sake\n",
    "events2 = events2[~events2.Event.isin\n",
    "                  (['activated','enteredfollowup','infollowup','infollowup2','vaccinated'])]"
   ]
  },
  {
   "cell_type": "code",
   "execution_count": 32,
   "metadata": {},
   "outputs": [],
   "source": [
    "#pd.unique(events2.Event)"
   ]
  },
  {
   "cell_type": "code",
   "execution_count": 33,
   "metadata": {},
   "outputs": [],
   "source": [
    "#pd.unique(events2.HCV)"
   ]
  },
  {
   "cell_type": "code",
   "execution_count": 34,
   "metadata": {},
   "outputs": [],
   "source": [
    "agent_events = {}\n",
    "longest_history = 0 #needed for padding the data\n",
    "for agent in agent_baselines:\n",
    "    a_events = events2[events2.Agent == agent][['Event','HCV','Time']]\n",
    "    a_events = a_events[a_events.Time <= vaccine_trial_end_date]\n",
    "    a_events = a_events.sort_values(by=\"Time\") #just in case\n",
    "    a_events = a_events.append(pd.DataFrame([['fieldworkcompleted', '-', vaccine_trial_end_date]], columns=list(['Event','HCV', 'Time'])))\n",
    "    a_events[\"StepsFromEnrollmentStart\"] = (a_events.Time - agent_baselines[agent][\"time_entered_trial\"])/reporting_frequency\n",
    "    agent_events[agent] = a_events\n",
    "    longest_history = max(longest_history, a_events.Time.iloc[-1]-a_events.Time.iloc[0])  \n",
    "                          #min(vaccine_trial_end_date-a_events.Time.iloc[0], \n",
    "                          #    a_events.Time.iloc[-1]-a_events.Time.iloc[0]))\n",
    "\n",
    "longest_history_len = longest_history/reporting_frequency"
   ]
  },
  {
   "cell_type": "code",
   "execution_count": 35,
   "metadata": {},
   "outputs": [],
   "source": [
    "for agent in agent_events:\n",
    "    agent_baselines[agent]['doses_received'] = agent_vaccinations[agent]"
   ]
  },
  {
   "cell_type": "code",
   "execution_count": 36,
   "metadata": {},
   "outputs": [],
   "source": [
    "#a_events"
   ]
  },
  {
   "cell_type": "code",
   "execution_count": 37,
   "metadata": {},
   "outputs": [],
   "source": [
    "#print(longest_history)\n",
    "#longest_history_len = longest_history/reporting_frequency\n",
    "#print(longest_history_len)\n",
    "\n",
    "#for agent, a_events in agent_events.items():\n",
    "#    enrollment_start = agent_events[agent].Time.iloc[0]\n",
    "#    if a_events['Time'].iloc[-1] < longest_history:\n",
    "#        agent_events[agent] = agent_events[agent].append(pd.DataFrame([['padding', 'padding', longest_history]], columns=list(['Event','HCV', 'Time'])))\n",
    "#    agent_events[agent].sort_values(by=\"Time\", inplace=True)"
   ]
  },
  {
   "cell_type": "code",
   "execution_count": 38,
   "metadata": {},
   "outputs": [],
   "source": [
    "#agent=list(agent_events.keys())[1]"
   ]
  },
  {
   "cell_type": "code",
   "execution_count": 39,
   "metadata": {},
   "outputs": [],
   "source": [
    "#agent_events[agent]"
   ]
  },
  {
   "cell_type": "code",
   "execution_count": 40,
   "metadata": {},
   "outputs": [],
   "source": [
    "#pd.unique(events2.Event)"
   ]
  },
  {
   "cell_type": "code",
   "execution_count": 41,
   "metadata": {},
   "outputs": [],
   "source": [
    "#pd.unique(events2.HCV)"
   ]
  },
  {
   "cell_type": "code",
   "execution_count": 42,
   "metadata": {},
   "outputs": [],
   "source": [
    "'''\n",
    "produce a sequence [+,-,-,...,lost,lost,...,padding,padding,..]\n",
    "the first status is the RNA at the start of the trial\n",
    "the history records all infection episodes through the end of the trial or loss \n",
    "'''\n",
    "def estimate_history(agent_id, my_events, RNA_positive_at_start_of_trial, target_length):\n",
    "    current_hcv = 'RNA_positive' if RNA_positive_at_start_of_trial else 'RNA_negative'\n",
    "    last_hcv_reading = current_hcv #last known hcv status\n",
    "    in_tracking = True\n",
    "    h = [] #test the correct count [current_hcv]\n",
    "    #assert my_events.shape[0]>1 #at least one event in history\n",
    "    if my_events.shape[0]==0:\n",
    "        print(f'WARNING: history for agent {agent_id} contains just one event')\n",
    "        return h, last_hcv_reading\n",
    "    for i, new_event in enumerate(my_events.Event):\n",
    "        if i == 0:\n",
    "            if new_event != 'trialstarted':\n",
    "                return [], None\n",
    "            continue\n",
    "        full_steps_to_new = int(my_events.StepsFromEnrollmentStart.iloc[i] - \\\n",
    "                                my_events.StepsFromEnrollmentStart.iloc[i-1])\n",
    "        h = h + [current_hcv] * full_steps_to_new\n",
    "        \n",
    "        #full_steps_to_new might be less than 1, in which case we will add nothing, but the state will change\n",
    "        if new_event in frozenset(['infected', 'infectious', 'chronic']) and in_tracking:\n",
    "            current_hcv = 'RNA_positive'\n",
    "            last_hcv_reading = current_hcv\n",
    "        elif new_event == 'recovered' and in_tracking:\n",
    "            current_hcv = 'RNA_negative'\n",
    "            last_hcv_reading = current_hcv\n",
    "        elif new_event in frozenset(['trialabandoned', 'deactivated']):\n",
    "            current_hcv = 'lost_to_followup'\n",
    "            in_tracking = False\n",
    "        elif new_event in frozenset(['trialcompleted', 'fieldworkcompleted']): \n",
    "            break\n",
    "        elif not in_tracking:\n",
    "            continue\n",
    "        else:\n",
    "            print(new_event)\n",
    "            if my_events.shape[0]==0:\n",
    "                print(f'WARNING: history for agent {agent_id} has unknown event {new_event}')\n",
    "                return h, last_hcv_reading\n",
    "            #assert False\n",
    "        #invariant: h contains all the records up to my_events.StepsFrom[i]. current_hcv is the new state\n",
    "    \n",
    "    h = h + ['padding']*int(target_length-len(h))\n",
    "    \n",
    "    #pdb.set_trace()\n",
    "    #print(len(h))\n",
    "    return h, last_hcv_reading"
   ]
  },
  {
   "cell_type": "code",
   "execution_count": 43,
   "metadata": {},
   "outputs": [],
   "source": [
    "#estimate_history(list(agent_events.values())[2], \n",
    "#                 agent_baselines[agent]['RNA_at_start_of_trial'], \n",
    "#                 longest_history_len)"
   ]
  },
  {
   "cell_type": "code",
   "execution_count": 44,
   "metadata": {},
   "outputs": [],
   "source": [
    "#list(agent_events.values())[2]"
   ]
  },
  {
   "cell_type": "code",
   "execution_count": 45,
   "metadata": {
    "scrolled": false
   },
   "outputs": [],
   "source": [
    "agent_histories = {}\n",
    "for agent, a_events in agent_events.items():\n",
    "    regular_history, last_hcv_reading = estimate_history(agent, \n",
    "                                                         a_events, \n",
    "                                                         agent_baselines[agent]['RNA_at_start_of_trial'],\n",
    "                                                         longest_history_len)\n",
    "    if regular_history == []: #very rare - e.g. rarely first event is \"deactivated\" (bug in APK)\n",
    "        continue\n",
    "    \n",
    "    agent_baselines[agent]['nonchronic_abpos_at_final_reading']   = \\\n",
    "               (agent_baselines[agent]['trial_arm'] == 'study' and last_hcv_reading == 'RNA_negative') or \\\n",
    "               (agent_baselines[agent]['trial_arm'] == 'placebo' and (agent in infected_roster) and last_hcv_reading == 'RNA_negative')\n",
    "    #print(agent_baselines[agent]['nonchronic_abpos_at_final_reading'])\n",
    "    #print(agent_baselines[agent]['trial_arm'])\n",
    "    #print(agent in infected_count)\n",
    "    #print(last_hcv_reading)\n",
    "    \n",
    "    agent_histories[agent] = agent_baselines[agent].append(pd.Series(regular_history))"
   ]
  },
  {
   "cell_type": "code",
   "execution_count": 46,
   "metadata": {},
   "outputs": [
    {
     "name": "stdout",
     "output_type": "stream",
     "text": [
      "total agents parsed: 1593\n"
     ]
    }
   ],
   "source": [
    "print('total agents parsed: %d'%len(agent_histories))\n",
    "#events2[events2.Agent==1623552776]"
   ]
  },
  {
   "cell_type": "code",
   "execution_count": 47,
   "metadata": {},
   "outputs": [],
   "source": [
    "#agent_histories[1623552776]"
   ]
  },
  {
   "cell_type": "code",
   "execution_count": 48,
   "metadata": {},
   "outputs": [],
   "source": [
    "#agent_histories[agent]"
   ]
  },
  {
   "cell_type": "code",
   "execution_count": 49,
   "metadata": {},
   "outputs": [],
   "source": [
    "#a_events"
   ]
  },
  {
   "cell_type": "code",
   "execution_count": 50,
   "metadata": {},
   "outputs": [],
   "source": [
    "#a_events"
   ]
  },
  {
   "cell_type": "code",
   "execution_count": 51,
   "metadata": {},
   "outputs": [],
   "source": [
    "#agent_histories[agent]"
   ]
  },
  {
   "cell_type": "code",
   "execution_count": 52,
   "metadata": {},
   "outputs": [],
   "source": [
    "#vaccine_trial_end_date"
   ]
  },
  {
   "cell_type": "code",
   "execution_count": 53,
   "metadata": {},
   "outputs": [],
   "source": [
    "output_df = pd.DataFrame.from_dict(agent_histories, orient='columns')"
   ]
  },
  {
   "cell_type": "code",
   "execution_count": 54,
   "metadata": {},
   "outputs": [],
   "source": [
    "#agent_0 = agent_histories.keys()[0]\n",
    "#output_df.set_index(agent_baselines[agent_0].keys() + range(longest_history), inplace=True)"
   ]
  },
  {
   "cell_type": "code",
   "execution_count": 55,
   "metadata": {},
   "outputs": [],
   "source": [
    "output_df = output_df.transpose()"
   ]
  },
  {
   "cell_type": "code",
   "execution_count": 56,
   "metadata": {},
   "outputs": [
    {
     "ename": "PermissionError",
     "evalue": "[Errno 13] Permission denied: 'C:\\\\Users\\\\agutf\\\\Sync\\\\repos\\\\apk-development\\\\analysis\\\\vaccine_cox\\\\candidates85pc\\\\simphony_model_1614526877900\\\\instance_1\\\\output\\\\events.csv_history_trial85c_gap28.csv'",
     "output_type": "error",
     "traceback": [
      "\u001b[1;31m---------------------------------------------------------------------------\u001b[0m",
      "\u001b[1;31mPermissionError\u001b[0m                           Traceback (most recent call last)",
      "\u001b[1;32m<ipython-input-56-f15ff7ba1952>\u001b[0m in \u001b[0;36m<module>\u001b[1;34m\u001b[0m\n\u001b[1;32m----> 1\u001b[1;33m \u001b[0moutput_df\u001b[0m\u001b[1;33m.\u001b[0m\u001b[0mto_csv\u001b[0m\u001b[1;33m(\u001b[0m\u001b[0moutput_fpath\u001b[0m\u001b[1;33m)\u001b[0m\u001b[1;33m\u001b[0m\u001b[1;33m\u001b[0m\u001b[0m\n\u001b[0m",
      "\u001b[1;32m~\\anaconda3\\lib\\site-packages\\pandas\\core\\generic.py\u001b[0m in \u001b[0;36mto_csv\u001b[1;34m(self, path_or_buf, sep, na_rep, float_format, columns, header, index, index_label, mode, encoding, compression, quoting, quotechar, line_terminator, chunksize, date_format, doublequote, escapechar, decimal, errors)\u001b[0m\n\u001b[0;32m   3168\u001b[0m             \u001b[0mdecimal\u001b[0m\u001b[1;33m=\u001b[0m\u001b[0mdecimal\u001b[0m\u001b[1;33m,\u001b[0m\u001b[1;33m\u001b[0m\u001b[1;33m\u001b[0m\u001b[0m\n\u001b[0;32m   3169\u001b[0m         )\n\u001b[1;32m-> 3170\u001b[1;33m         \u001b[0mformatter\u001b[0m\u001b[1;33m.\u001b[0m\u001b[0msave\u001b[0m\u001b[1;33m(\u001b[0m\u001b[1;33m)\u001b[0m\u001b[1;33m\u001b[0m\u001b[1;33m\u001b[0m\u001b[0m\n\u001b[0m\u001b[0;32m   3171\u001b[0m \u001b[1;33m\u001b[0m\u001b[0m\n\u001b[0;32m   3172\u001b[0m         \u001b[1;32mif\u001b[0m \u001b[0mpath_or_buf\u001b[0m \u001b[1;32mis\u001b[0m \u001b[1;32mNone\u001b[0m\u001b[1;33m:\u001b[0m\u001b[1;33m\u001b[0m\u001b[1;33m\u001b[0m\u001b[0m\n",
      "\u001b[1;32m~\\anaconda3\\lib\\site-packages\\pandas\\io\\formats\\csvs.py\u001b[0m in \u001b[0;36msave\u001b[1;34m(self)\u001b[0m\n\u001b[0;32m    183\u001b[0m             \u001b[0mclose\u001b[0m \u001b[1;33m=\u001b[0m \u001b[1;32mFalse\u001b[0m\u001b[1;33m\u001b[0m\u001b[1;33m\u001b[0m\u001b[0m\n\u001b[0;32m    184\u001b[0m         \u001b[1;32melse\u001b[0m\u001b[1;33m:\u001b[0m\u001b[1;33m\u001b[0m\u001b[1;33m\u001b[0m\u001b[0m\n\u001b[1;32m--> 185\u001b[1;33m             f, handles = get_handle(\n\u001b[0m\u001b[0;32m    186\u001b[0m                 \u001b[0mself\u001b[0m\u001b[1;33m.\u001b[0m\u001b[0mpath_or_buf\u001b[0m\u001b[1;33m,\u001b[0m\u001b[1;33m\u001b[0m\u001b[1;33m\u001b[0m\u001b[0m\n\u001b[0;32m    187\u001b[0m                 \u001b[0mself\u001b[0m\u001b[1;33m.\u001b[0m\u001b[0mmode\u001b[0m\u001b[1;33m,\u001b[0m\u001b[1;33m\u001b[0m\u001b[1;33m\u001b[0m\u001b[0m\n",
      "\u001b[1;32m~\\anaconda3\\lib\\site-packages\\pandas\\io\\common.py\u001b[0m in \u001b[0;36mget_handle\u001b[1;34m(path_or_buf, mode, encoding, compression, memory_map, is_text, errors)\u001b[0m\n\u001b[0;32m    491\u001b[0m         \u001b[1;32mif\u001b[0m \u001b[0mencoding\u001b[0m\u001b[1;33m:\u001b[0m\u001b[1;33m\u001b[0m\u001b[1;33m\u001b[0m\u001b[0m\n\u001b[0;32m    492\u001b[0m             \u001b[1;31m# Encoding\u001b[0m\u001b[1;33m\u001b[0m\u001b[1;33m\u001b[0m\u001b[1;33m\u001b[0m\u001b[0m\n\u001b[1;32m--> 493\u001b[1;33m             \u001b[0mf\u001b[0m \u001b[1;33m=\u001b[0m \u001b[0mopen\u001b[0m\u001b[1;33m(\u001b[0m\u001b[0mpath_or_buf\u001b[0m\u001b[1;33m,\u001b[0m \u001b[0mmode\u001b[0m\u001b[1;33m,\u001b[0m \u001b[0mencoding\u001b[0m\u001b[1;33m=\u001b[0m\u001b[0mencoding\u001b[0m\u001b[1;33m,\u001b[0m \u001b[0merrors\u001b[0m\u001b[1;33m=\u001b[0m\u001b[0merrors\u001b[0m\u001b[1;33m,\u001b[0m \u001b[0mnewline\u001b[0m\u001b[1;33m=\u001b[0m\u001b[1;34m\"\"\u001b[0m\u001b[1;33m)\u001b[0m\u001b[1;33m\u001b[0m\u001b[1;33m\u001b[0m\u001b[0m\n\u001b[0m\u001b[0;32m    494\u001b[0m         \u001b[1;32melif\u001b[0m \u001b[0mis_text\u001b[0m\u001b[1;33m:\u001b[0m\u001b[1;33m\u001b[0m\u001b[1;33m\u001b[0m\u001b[0m\n\u001b[0;32m    495\u001b[0m             \u001b[1;31m# No explicit encoding\u001b[0m\u001b[1;33m\u001b[0m\u001b[1;33m\u001b[0m\u001b[1;33m\u001b[0m\u001b[0m\n",
      "\u001b[1;31mPermissionError\u001b[0m: [Errno 13] Permission denied: 'C:\\\\Users\\\\agutf\\\\Sync\\\\repos\\\\apk-development\\\\analysis\\\\vaccine_cox\\\\candidates85pc\\\\simphony_model_1614526877900\\\\instance_1\\\\output\\\\events.csv_history_trial85c_gap28.csv'"
     ]
    }
   ],
   "source": [
    "output_df.to_csv(output_fpath)"
   ]
  },
  {
   "cell_type": "code",
   "execution_count": null,
   "metadata": {},
   "outputs": [],
   "source": [
    "print(f'Written: {output_fpath}')"
   ]
  },
  {
   "cell_type": "markdown",
   "metadata": {},
   "source": [
    "-----"
   ]
  }
 ],
 "metadata": {
  "kernelspec": {
   "display_name": "Python 3",
   "language": "python",
   "name": "python3"
  },
  "language_info": {
   "codemirror_mode": {
    "name": "ipython",
    "version": 3
   },
   "file_extension": ".py",
   "mimetype": "text/x-python",
   "name": "python",
   "nbconvert_exporter": "python",
   "pygments_lexer": "ipython3",
   "version": "3.8.5"
  }
 },
 "nbformat": 4,
 "nbformat_minor": 4
}
